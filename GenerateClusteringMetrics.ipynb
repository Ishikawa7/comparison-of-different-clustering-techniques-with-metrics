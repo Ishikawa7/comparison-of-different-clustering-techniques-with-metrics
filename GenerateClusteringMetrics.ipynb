{
 "cells": [
  {
   "cell_type": "markdown",
   "metadata": {},
   "source": [
    "# Clustering metrics"
   ]
  },
  {
   "cell_type": "code",
   "execution_count": 1,
   "metadata": {},
   "outputs": [],
   "source": [
    "import pandas as pd\n",
    "import numpy as np\n",
    "\n",
    "import matplotlib.pyplot as plt\n",
    "import seaborn as sns\n",
    "import plotly.express as px\n",
    "sns.set()\n",
    "\n",
    "from fcmeans import FCM\n",
    "from sklearn.cluster import KMeans,AgglomerativeClustering,AffinityPropagation\n",
    "from sklearn import metrics\n",
    "from scipy.spatial.distance import euclidean\n",
    "from scipy.spatial.distance import cdist\n",
    "%matplotlib inline"
   ]
  },
  {
   "cell_type": "code",
   "execution_count": 12,
   "metadata": {},
   "outputs": [
    {
     "data": {
      "text/html": [
       "<div>\n",
       "<style scoped>\n",
       "    .dataframe tbody tr th:only-of-type {\n",
       "        vertical-align: middle;\n",
       "    }\n",
       "\n",
       "    .dataframe tbody tr th {\n",
       "        vertical-align: top;\n",
       "    }\n",
       "\n",
       "    .dataframe thead th {\n",
       "        text-align: right;\n",
       "    }\n",
       "</style>\n",
       "<table border=\"1\" class=\"dataframe\">\n",
       "  <thead>\n",
       "    <tr style=\"text-align: right;\">\n",
       "      <th></th>\n",
       "      <th>20s</th>\n",
       "      <th>30s</th>\n",
       "      <th>40s</th>\n",
       "      <th>JH</th>\n",
       "      <th>COL</th>\n",
       "      <th>HS</th>\n",
       "      <th>Single</th>\n",
       "      <th>Married</th>\n",
       "      <th>Divorced</th>\n",
       "      <th>Pusher</th>\n",
       "      <th>Bookie</th>\n",
       "      <th>Burglar</th>\n",
       "    </tr>\n",
       "    <tr>\n",
       "      <th>name</th>\n",
       "      <th></th>\n",
       "      <th></th>\n",
       "      <th></th>\n",
       "      <th></th>\n",
       "      <th></th>\n",
       "      <th></th>\n",
       "      <th></th>\n",
       "      <th></th>\n",
       "      <th></th>\n",
       "      <th></th>\n",
       "      <th></th>\n",
       "      <th></th>\n",
       "    </tr>\n",
       "  </thead>\n",
       "  <tbody>\n",
       "    <tr>\n",
       "      <th>ART</th>\n",
       "      <td>0</td>\n",
       "      <td>0</td>\n",
       "      <td>1</td>\n",
       "      <td>1</td>\n",
       "      <td>0</td>\n",
       "      <td>0</td>\n",
       "      <td>1</td>\n",
       "      <td>0</td>\n",
       "      <td>0</td>\n",
       "      <td>1</td>\n",
       "      <td>0</td>\n",
       "      <td>0</td>\n",
       "    </tr>\n",
       "    <tr>\n",
       "      <th>AL</th>\n",
       "      <td>0</td>\n",
       "      <td>1</td>\n",
       "      <td>0</td>\n",
       "      <td>1</td>\n",
       "      <td>0</td>\n",
       "      <td>0</td>\n",
       "      <td>0</td>\n",
       "      <td>1</td>\n",
       "      <td>0</td>\n",
       "      <td>0</td>\n",
       "      <td>0</td>\n",
       "      <td>1</td>\n",
       "    </tr>\n",
       "    <tr>\n",
       "      <th>SAM</th>\n",
       "      <td>1</td>\n",
       "      <td>0</td>\n",
       "      <td>0</td>\n",
       "      <td>0</td>\n",
       "      <td>1</td>\n",
       "      <td>0</td>\n",
       "      <td>1</td>\n",
       "      <td>0</td>\n",
       "      <td>0</td>\n",
       "      <td>0</td>\n",
       "      <td>1</td>\n",
       "      <td>0</td>\n",
       "    </tr>\n",
       "    <tr>\n",
       "      <th>CLYDE</th>\n",
       "      <td>0</td>\n",
       "      <td>0</td>\n",
       "      <td>1</td>\n",
       "      <td>1</td>\n",
       "      <td>0</td>\n",
       "      <td>0</td>\n",
       "      <td>1</td>\n",
       "      <td>0</td>\n",
       "      <td>0</td>\n",
       "      <td>0</td>\n",
       "      <td>1</td>\n",
       "      <td>0</td>\n",
       "    </tr>\n",
       "    <tr>\n",
       "      <th>MIKE</th>\n",
       "      <td>0</td>\n",
       "      <td>1</td>\n",
       "      <td>0</td>\n",
       "      <td>1</td>\n",
       "      <td>0</td>\n",
       "      <td>0</td>\n",
       "      <td>1</td>\n",
       "      <td>0</td>\n",
       "      <td>0</td>\n",
       "      <td>0</td>\n",
       "      <td>1</td>\n",
       "      <td>0</td>\n",
       "    </tr>\n",
       "    <tr>\n",
       "      <th>JIM</th>\n",
       "      <td>1</td>\n",
       "      <td>0</td>\n",
       "      <td>0</td>\n",
       "      <td>1</td>\n",
       "      <td>0</td>\n",
       "      <td>0</td>\n",
       "      <td>0</td>\n",
       "      <td>0</td>\n",
       "      <td>1</td>\n",
       "      <td>0</td>\n",
       "      <td>0</td>\n",
       "      <td>1</td>\n",
       "    </tr>\n",
       "    <tr>\n",
       "      <th>GREG</th>\n",
       "      <td>1</td>\n",
       "      <td>0</td>\n",
       "      <td>0</td>\n",
       "      <td>0</td>\n",
       "      <td>0</td>\n",
       "      <td>1</td>\n",
       "      <td>0</td>\n",
       "      <td>1</td>\n",
       "      <td>0</td>\n",
       "      <td>1</td>\n",
       "      <td>0</td>\n",
       "      <td>0</td>\n",
       "    </tr>\n",
       "    <tr>\n",
       "      <th>JOHN</th>\n",
       "      <td>1</td>\n",
       "      <td>0</td>\n",
       "      <td>0</td>\n",
       "      <td>1</td>\n",
       "      <td>0</td>\n",
       "      <td>0</td>\n",
       "      <td>0</td>\n",
       "      <td>1</td>\n",
       "      <td>0</td>\n",
       "      <td>0</td>\n",
       "      <td>0</td>\n",
       "      <td>1</td>\n",
       "    </tr>\n",
       "    <tr>\n",
       "      <th>DOUG</th>\n",
       "      <td>0</td>\n",
       "      <td>1</td>\n",
       "      <td>0</td>\n",
       "      <td>0</td>\n",
       "      <td>0</td>\n",
       "      <td>1</td>\n",
       "      <td>1</td>\n",
       "      <td>0</td>\n",
       "      <td>0</td>\n",
       "      <td>0</td>\n",
       "      <td>1</td>\n",
       "      <td>0</td>\n",
       "    </tr>\n",
       "    <tr>\n",
       "      <th>LANCE</th>\n",
       "      <td>1</td>\n",
       "      <td>0</td>\n",
       "      <td>0</td>\n",
       "      <td>1</td>\n",
       "      <td>0</td>\n",
       "      <td>0</td>\n",
       "      <td>0</td>\n",
       "      <td>1</td>\n",
       "      <td>0</td>\n",
       "      <td>0</td>\n",
       "      <td>0</td>\n",
       "      <td>1</td>\n",
       "    </tr>\n",
       "    <tr>\n",
       "      <th>GEORGE</th>\n",
       "      <td>1</td>\n",
       "      <td>0</td>\n",
       "      <td>0</td>\n",
       "      <td>1</td>\n",
       "      <td>0</td>\n",
       "      <td>0</td>\n",
       "      <td>0</td>\n",
       "      <td>0</td>\n",
       "      <td>1</td>\n",
       "      <td>0</td>\n",
       "      <td>0</td>\n",
       "      <td>1</td>\n",
       "    </tr>\n",
       "    <tr>\n",
       "      <th>PETE</th>\n",
       "      <td>1</td>\n",
       "      <td>0</td>\n",
       "      <td>0</td>\n",
       "      <td>0</td>\n",
       "      <td>0</td>\n",
       "      <td>1</td>\n",
       "      <td>1</td>\n",
       "      <td>0</td>\n",
       "      <td>0</td>\n",
       "      <td>0</td>\n",
       "      <td>1</td>\n",
       "      <td>0</td>\n",
       "    </tr>\n",
       "    <tr>\n",
       "      <th>FRED</th>\n",
       "      <td>1</td>\n",
       "      <td>0</td>\n",
       "      <td>0</td>\n",
       "      <td>0</td>\n",
       "      <td>0</td>\n",
       "      <td>1</td>\n",
       "      <td>1</td>\n",
       "      <td>0</td>\n",
       "      <td>0</td>\n",
       "      <td>1</td>\n",
       "      <td>0</td>\n",
       "      <td>0</td>\n",
       "    </tr>\n",
       "    <tr>\n",
       "      <th>GENE</th>\n",
       "      <td>1</td>\n",
       "      <td>0</td>\n",
       "      <td>0</td>\n",
       "      <td>0</td>\n",
       "      <td>1</td>\n",
       "      <td>0</td>\n",
       "      <td>1</td>\n",
       "      <td>0</td>\n",
       "      <td>0</td>\n",
       "      <td>1</td>\n",
       "      <td>0</td>\n",
       "      <td>0</td>\n",
       "    </tr>\n",
       "    <tr>\n",
       "      <th>RALPH</th>\n",
       "      <td>0</td>\n",
       "      <td>1</td>\n",
       "      <td>0</td>\n",
       "      <td>1</td>\n",
       "      <td>0</td>\n",
       "      <td>0</td>\n",
       "      <td>1</td>\n",
       "      <td>0</td>\n",
       "      <td>0</td>\n",
       "      <td>1</td>\n",
       "      <td>0</td>\n",
       "      <td>0</td>\n",
       "    </tr>\n",
       "    <tr>\n",
       "      <th>PHIL</th>\n",
       "      <td>0</td>\n",
       "      <td>1</td>\n",
       "      <td>0</td>\n",
       "      <td>0</td>\n",
       "      <td>1</td>\n",
       "      <td>0</td>\n",
       "      <td>0</td>\n",
       "      <td>1</td>\n",
       "      <td>0</td>\n",
       "      <td>1</td>\n",
       "      <td>0</td>\n",
       "      <td>0</td>\n",
       "    </tr>\n",
       "    <tr>\n",
       "      <th>IKE</th>\n",
       "      <td>0</td>\n",
       "      <td>1</td>\n",
       "      <td>0</td>\n",
       "      <td>1</td>\n",
       "      <td>0</td>\n",
       "      <td>0</td>\n",
       "      <td>1</td>\n",
       "      <td>0</td>\n",
       "      <td>0</td>\n",
       "      <td>0</td>\n",
       "      <td>1</td>\n",
       "      <td>0</td>\n",
       "    </tr>\n",
       "    <tr>\n",
       "      <th>NICK</th>\n",
       "      <td>0</td>\n",
       "      <td>1</td>\n",
       "      <td>0</td>\n",
       "      <td>0</td>\n",
       "      <td>0</td>\n",
       "      <td>1</td>\n",
       "      <td>1</td>\n",
       "      <td>0</td>\n",
       "      <td>0</td>\n",
       "      <td>1</td>\n",
       "      <td>0</td>\n",
       "      <td>0</td>\n",
       "    </tr>\n",
       "    <tr>\n",
       "      <th>DON</th>\n",
       "      <td>0</td>\n",
       "      <td>1</td>\n",
       "      <td>0</td>\n",
       "      <td>0</td>\n",
       "      <td>1</td>\n",
       "      <td>0</td>\n",
       "      <td>0</td>\n",
       "      <td>1</td>\n",
       "      <td>0</td>\n",
       "      <td>0</td>\n",
       "      <td>0</td>\n",
       "      <td>1</td>\n",
       "    </tr>\n",
       "    <tr>\n",
       "      <th>NED</th>\n",
       "      <td>0</td>\n",
       "      <td>1</td>\n",
       "      <td>0</td>\n",
       "      <td>0</td>\n",
       "      <td>1</td>\n",
       "      <td>0</td>\n",
       "      <td>0</td>\n",
       "      <td>1</td>\n",
       "      <td>0</td>\n",
       "      <td>0</td>\n",
       "      <td>1</td>\n",
       "      <td>0</td>\n",
       "    </tr>\n",
       "    <tr>\n",
       "      <th>KARL</th>\n",
       "      <td>0</td>\n",
       "      <td>0</td>\n",
       "      <td>1</td>\n",
       "      <td>0</td>\n",
       "      <td>0</td>\n",
       "      <td>1</td>\n",
       "      <td>0</td>\n",
       "      <td>1</td>\n",
       "      <td>0</td>\n",
       "      <td>0</td>\n",
       "      <td>1</td>\n",
       "      <td>0</td>\n",
       "    </tr>\n",
       "    <tr>\n",
       "      <th>KEN</th>\n",
       "      <td>1</td>\n",
       "      <td>0</td>\n",
       "      <td>0</td>\n",
       "      <td>0</td>\n",
       "      <td>0</td>\n",
       "      <td>1</td>\n",
       "      <td>1</td>\n",
       "      <td>0</td>\n",
       "      <td>0</td>\n",
       "      <td>0</td>\n",
       "      <td>0</td>\n",
       "      <td>1</td>\n",
       "    </tr>\n",
       "    <tr>\n",
       "      <th>EARL</th>\n",
       "      <td>0</td>\n",
       "      <td>0</td>\n",
       "      <td>1</td>\n",
       "      <td>0</td>\n",
       "      <td>0</td>\n",
       "      <td>1</td>\n",
       "      <td>0</td>\n",
       "      <td>1</td>\n",
       "      <td>0</td>\n",
       "      <td>0</td>\n",
       "      <td>0</td>\n",
       "      <td>1</td>\n",
       "    </tr>\n",
       "    <tr>\n",
       "      <th>RICK</th>\n",
       "      <td>0</td>\n",
       "      <td>1</td>\n",
       "      <td>0</td>\n",
       "      <td>0</td>\n",
       "      <td>0</td>\n",
       "      <td>1</td>\n",
       "      <td>0</td>\n",
       "      <td>0</td>\n",
       "      <td>1</td>\n",
       "      <td>0</td>\n",
       "      <td>0</td>\n",
       "      <td>1</td>\n",
       "    </tr>\n",
       "    <tr>\n",
       "      <th>OL</th>\n",
       "      <td>0</td>\n",
       "      <td>1</td>\n",
       "      <td>0</td>\n",
       "      <td>0</td>\n",
       "      <td>1</td>\n",
       "      <td>0</td>\n",
       "      <td>0</td>\n",
       "      <td>1</td>\n",
       "      <td>0</td>\n",
       "      <td>1</td>\n",
       "      <td>0</td>\n",
       "      <td>0</td>\n",
       "    </tr>\n",
       "    <tr>\n",
       "      <th>NEAL</th>\n",
       "      <td>0</td>\n",
       "      <td>1</td>\n",
       "      <td>0</td>\n",
       "      <td>0</td>\n",
       "      <td>0</td>\n",
       "      <td>1</td>\n",
       "      <td>1</td>\n",
       "      <td>0</td>\n",
       "      <td>0</td>\n",
       "      <td>0</td>\n",
       "      <td>1</td>\n",
       "      <td>0</td>\n",
       "    </tr>\n",
       "    <tr>\n",
       "      <th>DAVE</th>\n",
       "      <td>0</td>\n",
       "      <td>1</td>\n",
       "      <td>0</td>\n",
       "      <td>0</td>\n",
       "      <td>0</td>\n",
       "      <td>1</td>\n",
       "      <td>0</td>\n",
       "      <td>0</td>\n",
       "      <td>1</td>\n",
       "      <td>1</td>\n",
       "      <td>0</td>\n",
       "      <td>0</td>\n",
       "    </tr>\n",
       "  </tbody>\n",
       "</table>\n",
       "</div>"
      ],
      "text/plain": [
       "        20s  30s  40s  JH   COL   HS   Single   Married   Divorced   Pusher   \\\n",
       "name                                                                           \n",
       "ART       0    0    1    1     0    0        1         0          0        1   \n",
       "AL        0    1    0    1     0    0        0         1          0        0   \n",
       "SAM       1    0    0    0     1    0        1         0          0        0   \n",
       "CLYDE     0    0    1    1     0    0        1         0          0        0   \n",
       "MIKE      0    1    0    1     0    0        1         0          0        0   \n",
       "JIM       1    0    0    1     0    0        0         0          1        0   \n",
       "GREG      1    0    0    0     0    1        0         1          0        1   \n",
       "JOHN      1    0    0    1     0    0        0         1          0        0   \n",
       "DOUG      0    1    0    0     0    1        1         0          0        0   \n",
       "LANCE     1    0    0    1     0    0        0         1          0        0   \n",
       "GEORGE    1    0    0    1     0    0        0         0          1        0   \n",
       "PETE      1    0    0    0     0    1        1         0          0        0   \n",
       "FRED      1    0    0    0     0    1        1         0          0        1   \n",
       "GENE      1    0    0    0     1    0        1         0          0        1   \n",
       "RALPH     0    1    0    1     0    0        1         0          0        1   \n",
       "PHIL      0    1    0    0     1    0        0         1          0        1   \n",
       "IKE       0    1    0    1     0    0        1         0          0        0   \n",
       "NICK      0    1    0    0     0    1        1         0          0        1   \n",
       "DON       0    1    0    0     1    0        0         1          0        0   \n",
       "NED       0    1    0    0     1    0        0         1          0        0   \n",
       "KARL      0    0    1    0     0    1        0         1          0        0   \n",
       "KEN       1    0    0    0     0    1        1         0          0        0   \n",
       "EARL      0    0    1    0     0    1        0         1          0        0   \n",
       "RICK      0    1    0    0     0    1        0         0          1        0   \n",
       "OL        0    1    0    0     1    0        0         1          0        1   \n",
       "NEAL      0    1    0    0     0    1        1         0          0        0   \n",
       "DAVE      0    1    0    0     0    1        0         0          1        1   \n",
       "\n",
       "        Bookie   Burglar   \n",
       "name                       \n",
       "ART           0         0  \n",
       "AL            0         1  \n",
       "SAM           1         0  \n",
       "CLYDE         1         0  \n",
       "MIKE          1         0  \n",
       "JIM           0         1  \n",
       "GREG          0         0  \n",
       "JOHN          0         1  \n",
       "DOUG          1         0  \n",
       "LANCE         0         1  \n",
       "GEORGE        0         1  \n",
       "PETE          1         0  \n",
       "FRED          0         0  \n",
       "GENE          0         0  \n",
       "RALPH         0         0  \n",
       "PHIL          0         0  \n",
       "IKE           1         0  \n",
       "NICK          0         0  \n",
       "DON           0         1  \n",
       "NED           1         0  \n",
       "KARL          1         0  \n",
       "KEN           0         1  \n",
       "EARL          0         1  \n",
       "RICK          0         1  \n",
       "OL            0         0  \n",
       "NEAL          1         0  \n",
       "DAVE          0         0  "
      ]
     },
     "execution_count": 12,
     "metadata": {},
     "output_type": "execute_result"
    }
   ],
   "source": [
    "df = pd.read_excel(\"DBgang27x14.xlsx\")\n",
    "df.rename(columns={\"Unnamed: 0\":\"name\"},inplace=True)\n",
    "df.set_index(\"name\",inplace=True)\n",
    "df.drop(columns=[\"Jet \",\"Sharks \"],inplace=True)\n",
    "df"
   ]
  },
  {
   "cell_type": "code",
   "execution_count": 16,
   "metadata": {},
   "outputs": [
    {
     "data": {
      "text/html": [
       "<div>\n",
       "<style scoped>\n",
       "    .dataframe tbody tr th:only-of-type {\n",
       "        vertical-align: middle;\n",
       "    }\n",
       "\n",
       "    .dataframe tbody tr th {\n",
       "        vertical-align: top;\n",
       "    }\n",
       "\n",
       "    .dataframe thead th {\n",
       "        text-align: right;\n",
       "    }\n",
       "</style>\n",
       "<table border=\"1\" class=\"dataframe\">\n",
       "  <thead>\n",
       "    <tr style=\"text-align: right;\">\n",
       "      <th></th>\n",
       "      <th>clu</th>\n",
       "      <th>freq</th>\n",
       "    </tr>\n",
       "    <tr>\n",
       "      <th>name</th>\n",
       "      <th></th>\n",
       "      <th></th>\n",
       "    </tr>\n",
       "  </thead>\n",
       "  <tbody>\n",
       "    <tr>\n",
       "      <th>ART</th>\n",
       "      <td>9</td>\n",
       "      <td>2</td>\n",
       "    </tr>\n",
       "    <tr>\n",
       "      <th>AL</th>\n",
       "      <td>10</td>\n",
       "      <td>5</td>\n",
       "    </tr>\n",
       "    <tr>\n",
       "      <th>SAM</th>\n",
       "      <td>12</td>\n",
       "      <td>7</td>\n",
       "    </tr>\n",
       "    <tr>\n",
       "      <th>CLYDE</th>\n",
       "      <td>9</td>\n",
       "      <td>2</td>\n",
       "    </tr>\n",
       "    <tr>\n",
       "      <th>MIKE</th>\n",
       "      <td>7</td>\n",
       "      <td>2</td>\n",
       "    </tr>\n",
       "    <tr>\n",
       "      <th>JIM</th>\n",
       "      <td>10</td>\n",
       "      <td>5</td>\n",
       "    </tr>\n",
       "    <tr>\n",
       "      <th>GREG</th>\n",
       "      <td>11</td>\n",
       "      <td>6</td>\n",
       "    </tr>\n",
       "    <tr>\n",
       "      <th>JOHN</th>\n",
       "      <td>10</td>\n",
       "      <td>5</td>\n",
       "    </tr>\n",
       "    <tr>\n",
       "      <th>DOUG</th>\n",
       "      <td>8</td>\n",
       "      <td>2</td>\n",
       "    </tr>\n",
       "    <tr>\n",
       "      <th>LANCE</th>\n",
       "      <td>10</td>\n",
       "      <td>5</td>\n",
       "    </tr>\n",
       "    <tr>\n",
       "      <th>GEORGE</th>\n",
       "      <td>10</td>\n",
       "      <td>5</td>\n",
       "    </tr>\n",
       "    <tr>\n",
       "      <th>PETE</th>\n",
       "      <td>8</td>\n",
       "      <td>2</td>\n",
       "    </tr>\n",
       "    <tr>\n",
       "      <th>FRED</th>\n",
       "      <td>11</td>\n",
       "      <td>6</td>\n",
       "    </tr>\n",
       "    <tr>\n",
       "      <th>GENE</th>\n",
       "      <td>12</td>\n",
       "      <td>7</td>\n",
       "    </tr>\n",
       "    <tr>\n",
       "      <th>RALPH</th>\n",
       "      <td>7</td>\n",
       "      <td>2</td>\n",
       "    </tr>\n",
       "    <tr>\n",
       "      <th>PHIL</th>\n",
       "      <td>1</td>\n",
       "      <td>4</td>\n",
       "    </tr>\n",
       "    <tr>\n",
       "      <th>IKE</th>\n",
       "      <td>4</td>\n",
       "      <td>1</td>\n",
       "    </tr>\n",
       "    <tr>\n",
       "      <th>NICK</th>\n",
       "      <td>6</td>\n",
       "      <td>2</td>\n",
       "    </tr>\n",
       "    <tr>\n",
       "      <th>DON</th>\n",
       "      <td>1</td>\n",
       "      <td>4</td>\n",
       "    </tr>\n",
       "    <tr>\n",
       "      <th>NED</th>\n",
       "      <td>1</td>\n",
       "      <td>4</td>\n",
       "    </tr>\n",
       "    <tr>\n",
       "      <th>KARL</th>\n",
       "      <td>2</td>\n",
       "      <td>2</td>\n",
       "    </tr>\n",
       "    <tr>\n",
       "      <th>KEN</th>\n",
       "      <td>5</td>\n",
       "      <td>1</td>\n",
       "    </tr>\n",
       "    <tr>\n",
       "      <th>EARL</th>\n",
       "      <td>2</td>\n",
       "      <td>2</td>\n",
       "    </tr>\n",
       "    <tr>\n",
       "      <th>RICK</th>\n",
       "      <td>3</td>\n",
       "      <td>2</td>\n",
       "    </tr>\n",
       "    <tr>\n",
       "      <th>OL</th>\n",
       "      <td>1</td>\n",
       "      <td>4</td>\n",
       "    </tr>\n",
       "    <tr>\n",
       "      <th>NEAL</th>\n",
       "      <td>6</td>\n",
       "      <td>2</td>\n",
       "    </tr>\n",
       "    <tr>\n",
       "      <th>DAVE</th>\n",
       "      <td>3</td>\n",
       "      <td>2</td>\n",
       "    </tr>\n",
       "  </tbody>\n",
       "</table>\n",
       "</div>"
      ],
      "text/plain": [
       "        clu  freq\n",
       "name             \n",
       "ART       9     2\n",
       "AL       10     5\n",
       "SAM      12     7\n",
       "CLYDE     9     2\n",
       "MIKE      7     2\n",
       "JIM      10     5\n",
       "GREG     11     6\n",
       "JOHN     10     5\n",
       "DOUG      8     2\n",
       "LANCE    10     5\n",
       "GEORGE   10     5\n",
       "PETE      8     2\n",
       "FRED     11     6\n",
       "GENE     12     7\n",
       "RALPH     7     2\n",
       "PHIL      1     4\n",
       "IKE       4     1\n",
       "NICK      6     2\n",
       "DON       1     4\n",
       "NED       1     4\n",
       "KARL      2     2\n",
       "KEN       5     1\n",
       "EARL      2     2\n",
       "RICK      3     2\n",
       "OL        1     4\n",
       "NEAL      6     2\n",
       "DAVE      3     2"
      ]
     },
     "execution_count": 16,
     "metadata": {},
     "output_type": "execute_result"
    }
   ],
   "source": [
    "df_3x3 = pd.read_excel(\"4x3.xlsx\")\n",
    "df_3x3.set_index(\"name\",inplace=True)\n",
    "df_3x3"
   ]
  },
  {
   "cell_type": "code",
   "execution_count": 17,
   "metadata": {},
   "outputs": [
    {
     "data": {
      "text/plain": [
       "name\n",
       "ART        9\n",
       "AL        10\n",
       "SAM       12\n",
       "CLYDE      9\n",
       "MIKE       7\n",
       "JIM       10\n",
       "GREG      11\n",
       "JOHN      10\n",
       "DOUG       8\n",
       "LANCE     10\n",
       "GEORGE    10\n",
       "PETE       8\n",
       "FRED      11\n",
       "GENE      12\n",
       "RALPH      7\n",
       "PHIL       1\n",
       "IKE        4\n",
       "NICK       6\n",
       "DON        1\n",
       "NED        1\n",
       "KARL       2\n",
       "KEN        5\n",
       "EARL       2\n",
       "RICK       3\n",
       "OL         1\n",
       "NEAL       6\n",
       "DAVE       3\n",
       "Name: clu, dtype: int64"
      ]
     },
     "execution_count": 17,
     "metadata": {},
     "output_type": "execute_result"
    }
   ],
   "source": [
    "labels = df_3x3.clu\n",
    "labels"
   ]
  },
  {
   "cell_type": "code",
   "execution_count": 18,
   "metadata": {},
   "outputs": [
    {
     "data": {
      "text/plain": [
       "0.9249879927228832"
      ]
     },
     "execution_count": 18,
     "metadata": {},
     "output_type": "execute_result"
    }
   ],
   "source": [
    "davies_bouldin_score = metrics.davies_bouldin_score(df, labels)\n",
    "davies_bouldin_score"
   ]
  },
  {
   "cell_type": "markdown",
   "metadata": {},
   "source": [
    "### Lettura e sistemazione data frame"
   ]
  },
  {
   "cell_type": "code",
   "execution_count": 4,
   "metadata": {},
   "outputs": [
    {
     "data": {
      "text/html": [
       "<div>\n",
       "<style scoped>\n",
       "    .dataframe tbody tr th:only-of-type {\n",
       "        vertical-align: middle;\n",
       "    }\n",
       "\n",
       "    .dataframe tbody tr th {\n",
       "        vertical-align: top;\n",
       "    }\n",
       "\n",
       "    .dataframe thead th {\n",
       "        text-align: right;\n",
       "    }\n",
       "</style>\n",
       "<table border=\"1\" class=\"dataframe\">\n",
       "  <thead>\n",
       "    <tr style=\"text-align: right;\">\n",
       "      <th></th>\n",
       "      <th>Unnamed: 0</th>\n",
       "      <th>Unnamed: 1</th>\n",
       "      <th>Unnamed: 2</th>\n",
       "      <th>Unnamed: 3</th>\n",
       "      <th>Unnamed: 4</th>\n",
       "      <th>Unnamed: 5</th>\n",
       "      <th>Unnamed: 6</th>\n",
       "      <th>Unnamed: 7</th>\n",
       "      <th>Unnamed: 8</th>\n",
       "      <th>Unnamed: 9</th>\n",
       "      <th>...</th>\n",
       "      <th>Unnamed: 64</th>\n",
       "      <th>Unnamed: 65</th>\n",
       "      <th>Unnamed: 66</th>\n",
       "      <th>Unnamed: 67</th>\n",
       "      <th>Unnamed: 68</th>\n",
       "      <th>Unnamed: 69</th>\n",
       "      <th>Unnamed: 70</th>\n",
       "      <th>Unnamed: 71</th>\n",
       "      <th>Unnamed: 72</th>\n",
       "      <th>Unnamed: 73</th>\n",
       "    </tr>\n",
       "  </thead>\n",
       "  <tbody>\n",
       "    <tr>\n",
       "      <th>0</th>\n",
       "      <td>0</td>\n",
       "      <td>0.042660</td>\n",
       "      <td>0.053324</td>\n",
       "      <td>2.655556</td>\n",
       "      <td>0.159973</td>\n",
       "      <td>0.053324</td>\n",
       "      <td>0.021330</td>\n",
       "      <td>0.106649</td>\n",
       "      <td>0.053324</td>\n",
       "      <td>0.063989</td>\n",
       "      <td>...</td>\n",
       "      <td>0.106649</td>\n",
       "      <td>0.053324</td>\n",
       "      <td>0.010665</td>\n",
       "      <td>0.000000</td>\n",
       "      <td>0.010665</td>\n",
       "      <td>0.010665</td>\n",
       "      <td>0.031995</td>\n",
       "      <td>0.021330</td>\n",
       "      <td>0.181303</td>\n",
       "      <td>0.010665</td>\n",
       "    </tr>\n",
       "    <tr>\n",
       "      <th>1</th>\n",
       "      <td>1</td>\n",
       "      <td>0.103280</td>\n",
       "      <td>0.025820</td>\n",
       "      <td>0.077460</td>\n",
       "      <td>0.051640</td>\n",
       "      <td>0.000000</td>\n",
       "      <td>0.000000</td>\n",
       "      <td>0.774597</td>\n",
       "      <td>0.000000</td>\n",
       "      <td>0.025820</td>\n",
       "      <td>...</td>\n",
       "      <td>0.051640</td>\n",
       "      <td>0.025820</td>\n",
       "      <td>0.000000</td>\n",
       "      <td>0.000000</td>\n",
       "      <td>0.000000</td>\n",
       "      <td>0.000000</td>\n",
       "      <td>0.000000</td>\n",
       "      <td>0.000000</td>\n",
       "      <td>0.025820</td>\n",
       "      <td>0.000000</td>\n",
       "    </tr>\n",
       "    <tr>\n",
       "      <th>2</th>\n",
       "      <td>2</td>\n",
       "      <td>0.053141</td>\n",
       "      <td>1.505663</td>\n",
       "      <td>0.850257</td>\n",
       "      <td>0.106282</td>\n",
       "      <td>0.053141</td>\n",
       "      <td>0.000000</td>\n",
       "      <td>0.000000</td>\n",
       "      <td>0.053141</td>\n",
       "      <td>0.000000</td>\n",
       "      <td>...</td>\n",
       "      <td>0.000000</td>\n",
       "      <td>0.017714</td>\n",
       "      <td>0.017714</td>\n",
       "      <td>0.000000</td>\n",
       "      <td>0.000000</td>\n",
       "      <td>0.000000</td>\n",
       "      <td>0.017714</td>\n",
       "      <td>0.017714</td>\n",
       "      <td>0.088568</td>\n",
       "      <td>0.000000</td>\n",
       "    </tr>\n",
       "    <tr>\n",
       "      <th>3</th>\n",
       "      <td>3</td>\n",
       "      <td>0.049814</td>\n",
       "      <td>0.323788</td>\n",
       "      <td>1.394779</td>\n",
       "      <td>0.049814</td>\n",
       "      <td>0.000000</td>\n",
       "      <td>0.024907</td>\n",
       "      <td>0.074720</td>\n",
       "      <td>0.049814</td>\n",
       "      <td>0.000000</td>\n",
       "      <td>...</td>\n",
       "      <td>0.024907</td>\n",
       "      <td>0.024907</td>\n",
       "      <td>0.000000</td>\n",
       "      <td>0.000000</td>\n",
       "      <td>0.000000</td>\n",
       "      <td>0.024907</td>\n",
       "      <td>0.024907</td>\n",
       "      <td>0.000000</td>\n",
       "      <td>0.049814</td>\n",
       "      <td>0.000000</td>\n",
       "    </tr>\n",
       "    <tr>\n",
       "      <th>4</th>\n",
       "      <td>4</td>\n",
       "      <td>0.168464</td>\n",
       "      <td>0.786163</td>\n",
       "      <td>0.182502</td>\n",
       "      <td>0.252695</td>\n",
       "      <td>0.042116</td>\n",
       "      <td>0.056155</td>\n",
       "      <td>0.000000</td>\n",
       "      <td>0.042116</td>\n",
       "      <td>0.014039</td>\n",
       "      <td>...</td>\n",
       "      <td>0.042116</td>\n",
       "      <td>0.000000</td>\n",
       "      <td>0.000000</td>\n",
       "      <td>0.028077</td>\n",
       "      <td>0.042116</td>\n",
       "      <td>0.014039</td>\n",
       "      <td>0.070193</td>\n",
       "      <td>0.000000</td>\n",
       "      <td>0.112309</td>\n",
       "      <td>0.014039</td>\n",
       "    </tr>\n",
       "    <tr>\n",
       "      <th>...</th>\n",
       "      <td>...</td>\n",
       "      <td>...</td>\n",
       "      <td>...</td>\n",
       "      <td>...</td>\n",
       "      <td>...</td>\n",
       "      <td>...</td>\n",
       "      <td>...</td>\n",
       "      <td>...</td>\n",
       "      <td>...</td>\n",
       "      <td>...</td>\n",
       "      <td>...</td>\n",
       "      <td>...</td>\n",
       "      <td>...</td>\n",
       "      <td>...</td>\n",
       "      <td>...</td>\n",
       "      <td>...</td>\n",
       "      <td>...</td>\n",
       "      <td>...</td>\n",
       "      <td>...</td>\n",
       "      <td>...</td>\n",
       "      <td>...</td>\n",
       "    </tr>\n",
       "    <tr>\n",
       "      <th>161</th>\n",
       "      <td>161</td>\n",
       "      <td>0.064676</td>\n",
       "      <td>0.194029</td>\n",
       "      <td>1.067157</td>\n",
       "      <td>0.113183</td>\n",
       "      <td>0.000000</td>\n",
       "      <td>0.016169</td>\n",
       "      <td>0.016169</td>\n",
       "      <td>0.032338</td>\n",
       "      <td>0.016169</td>\n",
       "      <td>...</td>\n",
       "      <td>0.032338</td>\n",
       "      <td>0.048507</td>\n",
       "      <td>0.032338</td>\n",
       "      <td>0.000000</td>\n",
       "      <td>0.032338</td>\n",
       "      <td>0.000000</td>\n",
       "      <td>0.000000</td>\n",
       "      <td>0.032338</td>\n",
       "      <td>0.080845</td>\n",
       "      <td>0.000000</td>\n",
       "    </tr>\n",
       "    <tr>\n",
       "      <th>162</th>\n",
       "      <td>162</td>\n",
       "      <td>0.014531</td>\n",
       "      <td>8.282644</td>\n",
       "      <td>0.043593</td>\n",
       "      <td>0.145310</td>\n",
       "      <td>0.029062</td>\n",
       "      <td>0.000000</td>\n",
       "      <td>0.014531</td>\n",
       "      <td>0.072655</td>\n",
       "      <td>0.029062</td>\n",
       "      <td>...</td>\n",
       "      <td>0.014531</td>\n",
       "      <td>0.014531</td>\n",
       "      <td>0.014531</td>\n",
       "      <td>0.029062</td>\n",
       "      <td>0.014531</td>\n",
       "      <td>0.014531</td>\n",
       "      <td>0.029062</td>\n",
       "      <td>0.000000</td>\n",
       "      <td>0.217964</td>\n",
       "      <td>0.014531</td>\n",
       "    </tr>\n",
       "    <tr>\n",
       "      <th>163</th>\n",
       "      <td>163</td>\n",
       "      <td>0.038991</td>\n",
       "      <td>0.000000</td>\n",
       "      <td>0.000000</td>\n",
       "      <td>0.740838</td>\n",
       "      <td>0.058487</td>\n",
       "      <td>0.038991</td>\n",
       "      <td>0.019496</td>\n",
       "      <td>0.019496</td>\n",
       "      <td>0.000000</td>\n",
       "      <td>...</td>\n",
       "      <td>0.019496</td>\n",
       "      <td>0.019496</td>\n",
       "      <td>0.019496</td>\n",
       "      <td>0.000000</td>\n",
       "      <td>0.019496</td>\n",
       "      <td>0.038991</td>\n",
       "      <td>0.000000</td>\n",
       "      <td>0.019496</td>\n",
       "      <td>0.097479</td>\n",
       "      <td>0.038991</td>\n",
       "    </tr>\n",
       "    <tr>\n",
       "      <th>164</th>\n",
       "      <td>164</td>\n",
       "      <td>0.036394</td>\n",
       "      <td>0.072787</td>\n",
       "      <td>1.710505</td>\n",
       "      <td>0.000000</td>\n",
       "      <td>0.018197</td>\n",
       "      <td>0.000000</td>\n",
       "      <td>0.000000</td>\n",
       "      <td>0.109181</td>\n",
       "      <td>0.000000</td>\n",
       "      <td>...</td>\n",
       "      <td>0.018197</td>\n",
       "      <td>0.018197</td>\n",
       "      <td>0.000000</td>\n",
       "      <td>0.018197</td>\n",
       "      <td>0.000000</td>\n",
       "      <td>0.000000</td>\n",
       "      <td>0.018197</td>\n",
       "      <td>0.018197</td>\n",
       "      <td>0.090984</td>\n",
       "      <td>0.018197</td>\n",
       "    </tr>\n",
       "    <tr>\n",
       "      <th>165</th>\n",
       "      <td>165</td>\n",
       "      <td>0.095482</td>\n",
       "      <td>0.023870</td>\n",
       "      <td>0.000000</td>\n",
       "      <td>0.310316</td>\n",
       "      <td>0.000000</td>\n",
       "      <td>0.023870</td>\n",
       "      <td>0.000000</td>\n",
       "      <td>0.047741</td>\n",
       "      <td>0.023870</td>\n",
       "      <td>...</td>\n",
       "      <td>0.000000</td>\n",
       "      <td>0.023870</td>\n",
       "      <td>0.000000</td>\n",
       "      <td>0.000000</td>\n",
       "      <td>0.047741</td>\n",
       "      <td>0.000000</td>\n",
       "      <td>0.023870</td>\n",
       "      <td>0.000000</td>\n",
       "      <td>0.167093</td>\n",
       "      <td>0.000000</td>\n",
       "    </tr>\n",
       "  </tbody>\n",
       "</table>\n",
       "<p>166 rows × 74 columns</p>\n",
       "</div>"
      ],
      "text/plain": [
       "     Unnamed: 0  Unnamed: 1  Unnamed: 2  Unnamed: 3  Unnamed: 4  Unnamed: 5  \\\n",
       "0             0    0.042660    0.053324    2.655556    0.159973    0.053324   \n",
       "1             1    0.103280    0.025820    0.077460    0.051640    0.000000   \n",
       "2             2    0.053141    1.505663    0.850257    0.106282    0.053141   \n",
       "3             3    0.049814    0.323788    1.394779    0.049814    0.000000   \n",
       "4             4    0.168464    0.786163    0.182502    0.252695    0.042116   \n",
       "..          ...         ...         ...         ...         ...         ...   \n",
       "161         161    0.064676    0.194029    1.067157    0.113183    0.000000   \n",
       "162         162    0.014531    8.282644    0.043593    0.145310    0.029062   \n",
       "163         163    0.038991    0.000000    0.000000    0.740838    0.058487   \n",
       "164         164    0.036394    0.072787    1.710505    0.000000    0.018197   \n",
       "165         165    0.095482    0.023870    0.000000    0.310316    0.000000   \n",
       "\n",
       "     Unnamed: 6  Unnamed: 7  Unnamed: 8  Unnamed: 9  ...  Unnamed: 64  \\\n",
       "0      0.021330    0.106649    0.053324    0.063989  ...     0.106649   \n",
       "1      0.000000    0.774597    0.000000    0.025820  ...     0.051640   \n",
       "2      0.000000    0.000000    0.053141    0.000000  ...     0.000000   \n",
       "3      0.024907    0.074720    0.049814    0.000000  ...     0.024907   \n",
       "4      0.056155    0.000000    0.042116    0.014039  ...     0.042116   \n",
       "..          ...         ...         ...         ...  ...          ...   \n",
       "161    0.016169    0.016169    0.032338    0.016169  ...     0.032338   \n",
       "162    0.000000    0.014531    0.072655    0.029062  ...     0.014531   \n",
       "163    0.038991    0.019496    0.019496    0.000000  ...     0.019496   \n",
       "164    0.000000    0.000000    0.109181    0.000000  ...     0.018197   \n",
       "165    0.023870    0.000000    0.047741    0.023870  ...     0.000000   \n",
       "\n",
       "     Unnamed: 65  Unnamed: 66  Unnamed: 67  Unnamed: 68  Unnamed: 69  \\\n",
       "0       0.053324     0.010665     0.000000     0.010665     0.010665   \n",
       "1       0.025820     0.000000     0.000000     0.000000     0.000000   \n",
       "2       0.017714     0.017714     0.000000     0.000000     0.000000   \n",
       "3       0.024907     0.000000     0.000000     0.000000     0.024907   \n",
       "4       0.000000     0.000000     0.028077     0.042116     0.014039   \n",
       "..           ...          ...          ...          ...          ...   \n",
       "161     0.048507     0.032338     0.000000     0.032338     0.000000   \n",
       "162     0.014531     0.014531     0.029062     0.014531     0.014531   \n",
       "163     0.019496     0.019496     0.000000     0.019496     0.038991   \n",
       "164     0.018197     0.000000     0.018197     0.000000     0.000000   \n",
       "165     0.023870     0.000000     0.000000     0.047741     0.000000   \n",
       "\n",
       "     Unnamed: 70  Unnamed: 71  Unnamed: 72  Unnamed: 73  \n",
       "0       0.031995     0.021330     0.181303     0.010665  \n",
       "1       0.000000     0.000000     0.025820     0.000000  \n",
       "2       0.017714     0.017714     0.088568     0.000000  \n",
       "3       0.024907     0.000000     0.049814     0.000000  \n",
       "4       0.070193     0.000000     0.112309     0.014039  \n",
       "..           ...          ...          ...          ...  \n",
       "161     0.000000     0.032338     0.080845     0.000000  \n",
       "162     0.029062     0.000000     0.217964     0.014531  \n",
       "163     0.000000     0.019496     0.097479     0.038991  \n",
       "164     0.018197     0.018197     0.090984     0.018197  \n",
       "165     0.023870     0.000000     0.167093     0.000000  \n",
       "\n",
       "[166 rows x 74 columns]"
      ]
     },
     "execution_count": 4,
     "metadata": {},
     "output_type": "execute_result"
    }
   ],
   "source": [
    "df = pd.read_excel(\"random_dataset.xlsx\")\n",
    "df"
   ]
  },
  {
   "cell_type": "code",
   "execution_count": 8,
   "metadata": {},
   "outputs": [],
   "source": [
    "df_input = df"
   ]
  },
  {
   "cell_type": "markdown",
   "metadata": {},
   "source": [
    "## Scelta parametro k (numero di cluster)"
   ]
  },
  {
   "cell_type": "markdown",
   "metadata": {},
   "source": [
    "Scelgo tramite il metodo \"a gomito\" ovvero dove una delle seguenti statistiche si assesta\n",
    "\n",
    "**Distortion**: It is calculated as the average of the squared distances from the cluster centers of the respective clusters. Typically, the Euclidean distance metric is used.\n",
    "\n",
    "**Inertia**: It is the sum of squared distances of samples to their closest cluster center."
   ]
  },
  {
   "cell_type": "code",
   "execution_count": 9,
   "metadata": {},
   "outputs": [],
   "source": [
    "# la funzione di seguito testa il k-means per k da 1 a 20\n",
    "distortions = []\n",
    "inertias = []\n",
    "mapping1 = {}\n",
    "mapping2 = {}\n",
    "\n",
    "K = range(2, 31) # valori di k da provare\n",
    " \n",
    "for k in K:\n",
    "    kmeanModel = KMeans(n_clusters=k).fit(df_input)\n",
    "    kmeanModel.fit(df_input)\n",
    " \n",
    "    distortions.append(sum(np.min(cdist(df_input, kmeanModel.cluster_centers_,\n",
    "                                        'euclidean'), axis=1)) / df_input.shape[0])\n",
    "    inertias.append(kmeanModel.inertia_)\n",
    " \n",
    "    mapping1[k] = sum(np.min(cdist(df_input, kmeanModel.cluster_centers_,\n",
    "                                   'euclidean'), axis=1)) / df_input.shape[0]\n",
    "    mapping2[k] = kmeanModel.inertia_"
   ]
  },
  {
   "cell_type": "code",
   "execution_count": 10,
   "metadata": {},
   "outputs": [],
   "source": [
    "#valori distorsione per ogni k\n",
    "#for key, val in mapping1.items():\n",
    "#    print(f'{key} : {val}')"
   ]
  },
  {
   "cell_type": "code",
   "execution_count": 11,
   "metadata": {},
   "outputs": [
    {
     "data": {
      "application/vnd.plotly.v1+json": {
       "config": {
        "plotlyServerURL": "https://plot.ly"
       },
       "data": [
        {
         "alignmentgroup": "True",
         "hovertemplate": "n cluster=%{x}<br>Distortion=%{y}<extra></extra>",
         "legendgroup": "",
         "marker": {
          "color": "#636efa",
          "pattern": {
           "shape": ""
          }
         },
         "name": "",
         "offsetgroup": "",
         "orientation": "v",
         "showlegend": false,
         "textposition": "auto",
         "type": "bar",
         "x": [
          0,
          1,
          2,
          3,
          4,
          5,
          6,
          7,
          8,
          9,
          10,
          11,
          12,
          13,
          14,
          15,
          16,
          17,
          18,
          19,
          20,
          21,
          22,
          23,
          24,
          25,
          26,
          27,
          28
         ],
         "xaxis": "x",
         "y": [
          0.9455123961666371,
          0.7969535889743437,
          0.7338400474739498,
          0.6930004829210553,
          0.6443827636106991,
          0.6067515575114405,
          0.5851410926654346,
          0.5633209858377927,
          0.5261701453172667,
          0.5120615803907946,
          0.5023833834165929,
          0.48014070322321467,
          0.4665574628009795,
          0.46228843214331583,
          0.45461332096773455,
          0.43946781284922937,
          0.4405192925530168,
          0.4240577836196416,
          0.4207380617183791,
          0.40411102739303284,
          0.4011536061363295,
          0.3943844202645421,
          0.3854875943827909,
          0.37973765777838675,
          0.3758948223252347,
          0.36830249051672925,
          0.36104706070550474,
          0.353517298477601,
          0.3532524882733348
         ],
         "yaxis": "y"
        }
       ],
       "layout": {
        "barmode": "relative",
        "legend": {
         "tracegroupgap": 0
        },
        "template": {
         "data": {
          "bar": [
           {
            "error_x": {
             "color": "#2a3f5f"
            },
            "error_y": {
             "color": "#2a3f5f"
            },
            "marker": {
             "line": {
              "color": "#E5ECF6",
              "width": 0.5
             },
             "pattern": {
              "fillmode": "overlay",
              "size": 10,
              "solidity": 0.2
             }
            },
            "type": "bar"
           }
          ],
          "barpolar": [
           {
            "marker": {
             "line": {
              "color": "#E5ECF6",
              "width": 0.5
             },
             "pattern": {
              "fillmode": "overlay",
              "size": 10,
              "solidity": 0.2
             }
            },
            "type": "barpolar"
           }
          ],
          "carpet": [
           {
            "aaxis": {
             "endlinecolor": "#2a3f5f",
             "gridcolor": "white",
             "linecolor": "white",
             "minorgridcolor": "white",
             "startlinecolor": "#2a3f5f"
            },
            "baxis": {
             "endlinecolor": "#2a3f5f",
             "gridcolor": "white",
             "linecolor": "white",
             "minorgridcolor": "white",
             "startlinecolor": "#2a3f5f"
            },
            "type": "carpet"
           }
          ],
          "choropleth": [
           {
            "colorbar": {
             "outlinewidth": 0,
             "ticks": ""
            },
            "type": "choropleth"
           }
          ],
          "contour": [
           {
            "colorbar": {
             "outlinewidth": 0,
             "ticks": ""
            },
            "colorscale": [
             [
              0,
              "#0d0887"
             ],
             [
              0.1111111111111111,
              "#46039f"
             ],
             [
              0.2222222222222222,
              "#7201a8"
             ],
             [
              0.3333333333333333,
              "#9c179e"
             ],
             [
              0.4444444444444444,
              "#bd3786"
             ],
             [
              0.5555555555555556,
              "#d8576b"
             ],
             [
              0.6666666666666666,
              "#ed7953"
             ],
             [
              0.7777777777777778,
              "#fb9f3a"
             ],
             [
              0.8888888888888888,
              "#fdca26"
             ],
             [
              1,
              "#f0f921"
             ]
            ],
            "type": "contour"
           }
          ],
          "contourcarpet": [
           {
            "colorbar": {
             "outlinewidth": 0,
             "ticks": ""
            },
            "type": "contourcarpet"
           }
          ],
          "heatmap": [
           {
            "colorbar": {
             "outlinewidth": 0,
             "ticks": ""
            },
            "colorscale": [
             [
              0,
              "#0d0887"
             ],
             [
              0.1111111111111111,
              "#46039f"
             ],
             [
              0.2222222222222222,
              "#7201a8"
             ],
             [
              0.3333333333333333,
              "#9c179e"
             ],
             [
              0.4444444444444444,
              "#bd3786"
             ],
             [
              0.5555555555555556,
              "#d8576b"
             ],
             [
              0.6666666666666666,
              "#ed7953"
             ],
             [
              0.7777777777777778,
              "#fb9f3a"
             ],
             [
              0.8888888888888888,
              "#fdca26"
             ],
             [
              1,
              "#f0f921"
             ]
            ],
            "type": "heatmap"
           }
          ],
          "heatmapgl": [
           {
            "colorbar": {
             "outlinewidth": 0,
             "ticks": ""
            },
            "colorscale": [
             [
              0,
              "#0d0887"
             ],
             [
              0.1111111111111111,
              "#46039f"
             ],
             [
              0.2222222222222222,
              "#7201a8"
             ],
             [
              0.3333333333333333,
              "#9c179e"
             ],
             [
              0.4444444444444444,
              "#bd3786"
             ],
             [
              0.5555555555555556,
              "#d8576b"
             ],
             [
              0.6666666666666666,
              "#ed7953"
             ],
             [
              0.7777777777777778,
              "#fb9f3a"
             ],
             [
              0.8888888888888888,
              "#fdca26"
             ],
             [
              1,
              "#f0f921"
             ]
            ],
            "type": "heatmapgl"
           }
          ],
          "histogram": [
           {
            "marker": {
             "pattern": {
              "fillmode": "overlay",
              "size": 10,
              "solidity": 0.2
             }
            },
            "type": "histogram"
           }
          ],
          "histogram2d": [
           {
            "colorbar": {
             "outlinewidth": 0,
             "ticks": ""
            },
            "colorscale": [
             [
              0,
              "#0d0887"
             ],
             [
              0.1111111111111111,
              "#46039f"
             ],
             [
              0.2222222222222222,
              "#7201a8"
             ],
             [
              0.3333333333333333,
              "#9c179e"
             ],
             [
              0.4444444444444444,
              "#bd3786"
             ],
             [
              0.5555555555555556,
              "#d8576b"
             ],
             [
              0.6666666666666666,
              "#ed7953"
             ],
             [
              0.7777777777777778,
              "#fb9f3a"
             ],
             [
              0.8888888888888888,
              "#fdca26"
             ],
             [
              1,
              "#f0f921"
             ]
            ],
            "type": "histogram2d"
           }
          ],
          "histogram2dcontour": [
           {
            "colorbar": {
             "outlinewidth": 0,
             "ticks": ""
            },
            "colorscale": [
             [
              0,
              "#0d0887"
             ],
             [
              0.1111111111111111,
              "#46039f"
             ],
             [
              0.2222222222222222,
              "#7201a8"
             ],
             [
              0.3333333333333333,
              "#9c179e"
             ],
             [
              0.4444444444444444,
              "#bd3786"
             ],
             [
              0.5555555555555556,
              "#d8576b"
             ],
             [
              0.6666666666666666,
              "#ed7953"
             ],
             [
              0.7777777777777778,
              "#fb9f3a"
             ],
             [
              0.8888888888888888,
              "#fdca26"
             ],
             [
              1,
              "#f0f921"
             ]
            ],
            "type": "histogram2dcontour"
           }
          ],
          "mesh3d": [
           {
            "colorbar": {
             "outlinewidth": 0,
             "ticks": ""
            },
            "type": "mesh3d"
           }
          ],
          "parcoords": [
           {
            "line": {
             "colorbar": {
              "outlinewidth": 0,
              "ticks": ""
             }
            },
            "type": "parcoords"
           }
          ],
          "pie": [
           {
            "automargin": true,
            "type": "pie"
           }
          ],
          "scatter": [
           {
            "marker": {
             "colorbar": {
              "outlinewidth": 0,
              "ticks": ""
             }
            },
            "type": "scatter"
           }
          ],
          "scatter3d": [
           {
            "line": {
             "colorbar": {
              "outlinewidth": 0,
              "ticks": ""
             }
            },
            "marker": {
             "colorbar": {
              "outlinewidth": 0,
              "ticks": ""
             }
            },
            "type": "scatter3d"
           }
          ],
          "scattercarpet": [
           {
            "marker": {
             "colorbar": {
              "outlinewidth": 0,
              "ticks": ""
             }
            },
            "type": "scattercarpet"
           }
          ],
          "scattergeo": [
           {
            "marker": {
             "colorbar": {
              "outlinewidth": 0,
              "ticks": ""
             }
            },
            "type": "scattergeo"
           }
          ],
          "scattergl": [
           {
            "marker": {
             "colorbar": {
              "outlinewidth": 0,
              "ticks": ""
             }
            },
            "type": "scattergl"
           }
          ],
          "scattermapbox": [
           {
            "marker": {
             "colorbar": {
              "outlinewidth": 0,
              "ticks": ""
             }
            },
            "type": "scattermapbox"
           }
          ],
          "scatterpolar": [
           {
            "marker": {
             "colorbar": {
              "outlinewidth": 0,
              "ticks": ""
             }
            },
            "type": "scatterpolar"
           }
          ],
          "scatterpolargl": [
           {
            "marker": {
             "colorbar": {
              "outlinewidth": 0,
              "ticks": ""
             }
            },
            "type": "scatterpolargl"
           }
          ],
          "scatterternary": [
           {
            "marker": {
             "colorbar": {
              "outlinewidth": 0,
              "ticks": ""
             }
            },
            "type": "scatterternary"
           }
          ],
          "surface": [
           {
            "colorbar": {
             "outlinewidth": 0,
             "ticks": ""
            },
            "colorscale": [
             [
              0,
              "#0d0887"
             ],
             [
              0.1111111111111111,
              "#46039f"
             ],
             [
              0.2222222222222222,
              "#7201a8"
             ],
             [
              0.3333333333333333,
              "#9c179e"
             ],
             [
              0.4444444444444444,
              "#bd3786"
             ],
             [
              0.5555555555555556,
              "#d8576b"
             ],
             [
              0.6666666666666666,
              "#ed7953"
             ],
             [
              0.7777777777777778,
              "#fb9f3a"
             ],
             [
              0.8888888888888888,
              "#fdca26"
             ],
             [
              1,
              "#f0f921"
             ]
            ],
            "type": "surface"
           }
          ],
          "table": [
           {
            "cells": {
             "fill": {
              "color": "#EBF0F8"
             },
             "line": {
              "color": "white"
             }
            },
            "header": {
             "fill": {
              "color": "#C8D4E3"
             },
             "line": {
              "color": "white"
             }
            },
            "type": "table"
           }
          ]
         },
         "layout": {
          "annotationdefaults": {
           "arrowcolor": "#2a3f5f",
           "arrowhead": 0,
           "arrowwidth": 1
          },
          "autotypenumbers": "strict",
          "coloraxis": {
           "colorbar": {
            "outlinewidth": 0,
            "ticks": ""
           }
          },
          "colorscale": {
           "diverging": [
            [
             0,
             "#8e0152"
            ],
            [
             0.1,
             "#c51b7d"
            ],
            [
             0.2,
             "#de77ae"
            ],
            [
             0.3,
             "#f1b6da"
            ],
            [
             0.4,
             "#fde0ef"
            ],
            [
             0.5,
             "#f7f7f7"
            ],
            [
             0.6,
             "#e6f5d0"
            ],
            [
             0.7,
             "#b8e186"
            ],
            [
             0.8,
             "#7fbc41"
            ],
            [
             0.9,
             "#4d9221"
            ],
            [
             1,
             "#276419"
            ]
           ],
           "sequential": [
            [
             0,
             "#0d0887"
            ],
            [
             0.1111111111111111,
             "#46039f"
            ],
            [
             0.2222222222222222,
             "#7201a8"
            ],
            [
             0.3333333333333333,
             "#9c179e"
            ],
            [
             0.4444444444444444,
             "#bd3786"
            ],
            [
             0.5555555555555556,
             "#d8576b"
            ],
            [
             0.6666666666666666,
             "#ed7953"
            ],
            [
             0.7777777777777778,
             "#fb9f3a"
            ],
            [
             0.8888888888888888,
             "#fdca26"
            ],
            [
             1,
             "#f0f921"
            ]
           ],
           "sequentialminus": [
            [
             0,
             "#0d0887"
            ],
            [
             0.1111111111111111,
             "#46039f"
            ],
            [
             0.2222222222222222,
             "#7201a8"
            ],
            [
             0.3333333333333333,
             "#9c179e"
            ],
            [
             0.4444444444444444,
             "#bd3786"
            ],
            [
             0.5555555555555556,
             "#d8576b"
            ],
            [
             0.6666666666666666,
             "#ed7953"
            ],
            [
             0.7777777777777778,
             "#fb9f3a"
            ],
            [
             0.8888888888888888,
             "#fdca26"
            ],
            [
             1,
             "#f0f921"
            ]
           ]
          },
          "colorway": [
           "#636efa",
           "#EF553B",
           "#00cc96",
           "#ab63fa",
           "#FFA15A",
           "#19d3f3",
           "#FF6692",
           "#B6E880",
           "#FF97FF",
           "#FECB52"
          ],
          "font": {
           "color": "#2a3f5f"
          },
          "geo": {
           "bgcolor": "white",
           "lakecolor": "white",
           "landcolor": "#E5ECF6",
           "showlakes": true,
           "showland": true,
           "subunitcolor": "white"
          },
          "hoverlabel": {
           "align": "left"
          },
          "hovermode": "closest",
          "mapbox": {
           "style": "light"
          },
          "paper_bgcolor": "white",
          "plot_bgcolor": "#E5ECF6",
          "polar": {
           "angularaxis": {
            "gridcolor": "white",
            "linecolor": "white",
            "ticks": ""
           },
           "bgcolor": "#E5ECF6",
           "radialaxis": {
            "gridcolor": "white",
            "linecolor": "white",
            "ticks": ""
           }
          },
          "scene": {
           "xaxis": {
            "backgroundcolor": "#E5ECF6",
            "gridcolor": "white",
            "gridwidth": 2,
            "linecolor": "white",
            "showbackground": true,
            "ticks": "",
            "zerolinecolor": "white"
           },
           "yaxis": {
            "backgroundcolor": "#E5ECF6",
            "gridcolor": "white",
            "gridwidth": 2,
            "linecolor": "white",
            "showbackground": true,
            "ticks": "",
            "zerolinecolor": "white"
           },
           "zaxis": {
            "backgroundcolor": "#E5ECF6",
            "gridcolor": "white",
            "gridwidth": 2,
            "linecolor": "white",
            "showbackground": true,
            "ticks": "",
            "zerolinecolor": "white"
           }
          },
          "shapedefaults": {
           "line": {
            "color": "#2a3f5f"
           }
          },
          "ternary": {
           "aaxis": {
            "gridcolor": "white",
            "linecolor": "white",
            "ticks": ""
           },
           "baxis": {
            "gridcolor": "white",
            "linecolor": "white",
            "ticks": ""
           },
           "bgcolor": "#E5ECF6",
           "caxis": {
            "gridcolor": "white",
            "linecolor": "white",
            "ticks": ""
           }
          },
          "title": {
           "x": 0.05
          },
          "xaxis": {
           "automargin": true,
           "gridcolor": "white",
           "linecolor": "white",
           "ticks": "",
           "title": {
            "standoff": 15
           },
           "zerolinecolor": "white",
           "zerolinewidth": 2
          },
          "yaxis": {
           "automargin": true,
           "gridcolor": "white",
           "linecolor": "white",
           "ticks": "",
           "title": {
            "standoff": 15
           },
           "zerolinecolor": "white",
           "zerolinewidth": 2
          }
         }
        },
        "title": {
         "text": "The Elbow Method using Distortion"
        },
        "xaxis": {
         "anchor": "y",
         "domain": [
          0,
          1
         ],
         "title": {
          "text": "n cluster"
         }
        },
        "yaxis": {
         "anchor": "x",
         "domain": [
          0,
          1
         ],
         "title": {
          "text": "Distortion"
         }
        }
       }
      }
     },
     "metadata": {},
     "output_type": "display_data"
    }
   ],
   "source": [
    "Distortions = pd.DataFrame(distortions,columns=[\"Distortion\"])\n",
    "Distortions.index.name = 'n cluster'\n",
    "title = 'The Elbow Method using Distortion'\n",
    "fig = px.bar(Distortions,y=\"Distortion\",title=title)\n",
    "fig.show()\n",
    "fig.write_html(title+\".html\")"
   ]
  },
  {
   "cell_type": "code",
   "execution_count": 12,
   "metadata": {},
   "outputs": [],
   "source": [
    "##valori inerzia per ogni k\n",
    "#for key, val in mapping2.items():\n",
    "#    print(f'{key} : {val}')"
   ]
  },
  {
   "cell_type": "code",
   "execution_count": 13,
   "metadata": {},
   "outputs": [
    {
     "data": {
      "application/vnd.plotly.v1+json": {
       "config": {
        "plotlyServerURL": "https://plot.ly"
       },
       "data": [
        {
         "alignmentgroup": "True",
         "hovertemplate": "n cluster=%{x}<br>Inertia=%{y}<extra></extra>",
         "legendgroup": "",
         "marker": {
          "color": "#636efa",
          "pattern": {
           "shape": ""
          }
         },
         "name": "",
         "offsetgroup": "",
         "orientation": "v",
         "showlegend": false,
         "textposition": "auto",
         "type": "bar",
         "x": [
          0,
          1,
          2,
          3,
          4,
          5,
          6,
          7,
          8,
          9,
          10,
          11,
          12,
          13,
          14,
          15,
          16,
          17,
          18,
          19,
          20,
          21,
          22,
          23,
          24,
          25,
          26,
          27,
          28
         ],
         "xaxis": "x",
         "y": [
          222.04781609115176,
          160.2122654689047,
          123.21734663995136,
          104.10543358868253,
          89.63594159137365,
          78.66615886294986,
          66.89106116285991,
          62.128736104582714,
          55.73679044086349,
          51.623496844813985,
          49.58377516987661,
          45.35890154074437,
          42.81100051883834,
          42.42701657885633,
          40.212333000327256,
          36.94878957637284,
          37.18212333047322,
          34.08857340541868,
          34.56634081437032,
          31.296338479223337,
          31.986972154034785,
          29.275265061090607,
          28.6421170922199,
          27.18692082267641,
          26.649627459061726,
          25.6714382254844,
          25.063792966873173,
          23.902548772925858,
          23.80399206441378
         ],
         "yaxis": "y"
        }
       ],
       "layout": {
        "barmode": "relative",
        "legend": {
         "tracegroupgap": 0
        },
        "template": {
         "data": {
          "bar": [
           {
            "error_x": {
             "color": "#2a3f5f"
            },
            "error_y": {
             "color": "#2a3f5f"
            },
            "marker": {
             "line": {
              "color": "#E5ECF6",
              "width": 0.5
             },
             "pattern": {
              "fillmode": "overlay",
              "size": 10,
              "solidity": 0.2
             }
            },
            "type": "bar"
           }
          ],
          "barpolar": [
           {
            "marker": {
             "line": {
              "color": "#E5ECF6",
              "width": 0.5
             },
             "pattern": {
              "fillmode": "overlay",
              "size": 10,
              "solidity": 0.2
             }
            },
            "type": "barpolar"
           }
          ],
          "carpet": [
           {
            "aaxis": {
             "endlinecolor": "#2a3f5f",
             "gridcolor": "white",
             "linecolor": "white",
             "minorgridcolor": "white",
             "startlinecolor": "#2a3f5f"
            },
            "baxis": {
             "endlinecolor": "#2a3f5f",
             "gridcolor": "white",
             "linecolor": "white",
             "minorgridcolor": "white",
             "startlinecolor": "#2a3f5f"
            },
            "type": "carpet"
           }
          ],
          "choropleth": [
           {
            "colorbar": {
             "outlinewidth": 0,
             "ticks": ""
            },
            "type": "choropleth"
           }
          ],
          "contour": [
           {
            "colorbar": {
             "outlinewidth": 0,
             "ticks": ""
            },
            "colorscale": [
             [
              0,
              "#0d0887"
             ],
             [
              0.1111111111111111,
              "#46039f"
             ],
             [
              0.2222222222222222,
              "#7201a8"
             ],
             [
              0.3333333333333333,
              "#9c179e"
             ],
             [
              0.4444444444444444,
              "#bd3786"
             ],
             [
              0.5555555555555556,
              "#d8576b"
             ],
             [
              0.6666666666666666,
              "#ed7953"
             ],
             [
              0.7777777777777778,
              "#fb9f3a"
             ],
             [
              0.8888888888888888,
              "#fdca26"
             ],
             [
              1,
              "#f0f921"
             ]
            ],
            "type": "contour"
           }
          ],
          "contourcarpet": [
           {
            "colorbar": {
             "outlinewidth": 0,
             "ticks": ""
            },
            "type": "contourcarpet"
           }
          ],
          "heatmap": [
           {
            "colorbar": {
             "outlinewidth": 0,
             "ticks": ""
            },
            "colorscale": [
             [
              0,
              "#0d0887"
             ],
             [
              0.1111111111111111,
              "#46039f"
             ],
             [
              0.2222222222222222,
              "#7201a8"
             ],
             [
              0.3333333333333333,
              "#9c179e"
             ],
             [
              0.4444444444444444,
              "#bd3786"
             ],
             [
              0.5555555555555556,
              "#d8576b"
             ],
             [
              0.6666666666666666,
              "#ed7953"
             ],
             [
              0.7777777777777778,
              "#fb9f3a"
             ],
             [
              0.8888888888888888,
              "#fdca26"
             ],
             [
              1,
              "#f0f921"
             ]
            ],
            "type": "heatmap"
           }
          ],
          "heatmapgl": [
           {
            "colorbar": {
             "outlinewidth": 0,
             "ticks": ""
            },
            "colorscale": [
             [
              0,
              "#0d0887"
             ],
             [
              0.1111111111111111,
              "#46039f"
             ],
             [
              0.2222222222222222,
              "#7201a8"
             ],
             [
              0.3333333333333333,
              "#9c179e"
             ],
             [
              0.4444444444444444,
              "#bd3786"
             ],
             [
              0.5555555555555556,
              "#d8576b"
             ],
             [
              0.6666666666666666,
              "#ed7953"
             ],
             [
              0.7777777777777778,
              "#fb9f3a"
             ],
             [
              0.8888888888888888,
              "#fdca26"
             ],
             [
              1,
              "#f0f921"
             ]
            ],
            "type": "heatmapgl"
           }
          ],
          "histogram": [
           {
            "marker": {
             "pattern": {
              "fillmode": "overlay",
              "size": 10,
              "solidity": 0.2
             }
            },
            "type": "histogram"
           }
          ],
          "histogram2d": [
           {
            "colorbar": {
             "outlinewidth": 0,
             "ticks": ""
            },
            "colorscale": [
             [
              0,
              "#0d0887"
             ],
             [
              0.1111111111111111,
              "#46039f"
             ],
             [
              0.2222222222222222,
              "#7201a8"
             ],
             [
              0.3333333333333333,
              "#9c179e"
             ],
             [
              0.4444444444444444,
              "#bd3786"
             ],
             [
              0.5555555555555556,
              "#d8576b"
             ],
             [
              0.6666666666666666,
              "#ed7953"
             ],
             [
              0.7777777777777778,
              "#fb9f3a"
             ],
             [
              0.8888888888888888,
              "#fdca26"
             ],
             [
              1,
              "#f0f921"
             ]
            ],
            "type": "histogram2d"
           }
          ],
          "histogram2dcontour": [
           {
            "colorbar": {
             "outlinewidth": 0,
             "ticks": ""
            },
            "colorscale": [
             [
              0,
              "#0d0887"
             ],
             [
              0.1111111111111111,
              "#46039f"
             ],
             [
              0.2222222222222222,
              "#7201a8"
             ],
             [
              0.3333333333333333,
              "#9c179e"
             ],
             [
              0.4444444444444444,
              "#bd3786"
             ],
             [
              0.5555555555555556,
              "#d8576b"
             ],
             [
              0.6666666666666666,
              "#ed7953"
             ],
             [
              0.7777777777777778,
              "#fb9f3a"
             ],
             [
              0.8888888888888888,
              "#fdca26"
             ],
             [
              1,
              "#f0f921"
             ]
            ],
            "type": "histogram2dcontour"
           }
          ],
          "mesh3d": [
           {
            "colorbar": {
             "outlinewidth": 0,
             "ticks": ""
            },
            "type": "mesh3d"
           }
          ],
          "parcoords": [
           {
            "line": {
             "colorbar": {
              "outlinewidth": 0,
              "ticks": ""
             }
            },
            "type": "parcoords"
           }
          ],
          "pie": [
           {
            "automargin": true,
            "type": "pie"
           }
          ],
          "scatter": [
           {
            "marker": {
             "colorbar": {
              "outlinewidth": 0,
              "ticks": ""
             }
            },
            "type": "scatter"
           }
          ],
          "scatter3d": [
           {
            "line": {
             "colorbar": {
              "outlinewidth": 0,
              "ticks": ""
             }
            },
            "marker": {
             "colorbar": {
              "outlinewidth": 0,
              "ticks": ""
             }
            },
            "type": "scatter3d"
           }
          ],
          "scattercarpet": [
           {
            "marker": {
             "colorbar": {
              "outlinewidth": 0,
              "ticks": ""
             }
            },
            "type": "scattercarpet"
           }
          ],
          "scattergeo": [
           {
            "marker": {
             "colorbar": {
              "outlinewidth": 0,
              "ticks": ""
             }
            },
            "type": "scattergeo"
           }
          ],
          "scattergl": [
           {
            "marker": {
             "colorbar": {
              "outlinewidth": 0,
              "ticks": ""
             }
            },
            "type": "scattergl"
           }
          ],
          "scattermapbox": [
           {
            "marker": {
             "colorbar": {
              "outlinewidth": 0,
              "ticks": ""
             }
            },
            "type": "scattermapbox"
           }
          ],
          "scatterpolar": [
           {
            "marker": {
             "colorbar": {
              "outlinewidth": 0,
              "ticks": ""
             }
            },
            "type": "scatterpolar"
           }
          ],
          "scatterpolargl": [
           {
            "marker": {
             "colorbar": {
              "outlinewidth": 0,
              "ticks": ""
             }
            },
            "type": "scatterpolargl"
           }
          ],
          "scatterternary": [
           {
            "marker": {
             "colorbar": {
              "outlinewidth": 0,
              "ticks": ""
             }
            },
            "type": "scatterternary"
           }
          ],
          "surface": [
           {
            "colorbar": {
             "outlinewidth": 0,
             "ticks": ""
            },
            "colorscale": [
             [
              0,
              "#0d0887"
             ],
             [
              0.1111111111111111,
              "#46039f"
             ],
             [
              0.2222222222222222,
              "#7201a8"
             ],
             [
              0.3333333333333333,
              "#9c179e"
             ],
             [
              0.4444444444444444,
              "#bd3786"
             ],
             [
              0.5555555555555556,
              "#d8576b"
             ],
             [
              0.6666666666666666,
              "#ed7953"
             ],
             [
              0.7777777777777778,
              "#fb9f3a"
             ],
             [
              0.8888888888888888,
              "#fdca26"
             ],
             [
              1,
              "#f0f921"
             ]
            ],
            "type": "surface"
           }
          ],
          "table": [
           {
            "cells": {
             "fill": {
              "color": "#EBF0F8"
             },
             "line": {
              "color": "white"
             }
            },
            "header": {
             "fill": {
              "color": "#C8D4E3"
             },
             "line": {
              "color": "white"
             }
            },
            "type": "table"
           }
          ]
         },
         "layout": {
          "annotationdefaults": {
           "arrowcolor": "#2a3f5f",
           "arrowhead": 0,
           "arrowwidth": 1
          },
          "autotypenumbers": "strict",
          "coloraxis": {
           "colorbar": {
            "outlinewidth": 0,
            "ticks": ""
           }
          },
          "colorscale": {
           "diverging": [
            [
             0,
             "#8e0152"
            ],
            [
             0.1,
             "#c51b7d"
            ],
            [
             0.2,
             "#de77ae"
            ],
            [
             0.3,
             "#f1b6da"
            ],
            [
             0.4,
             "#fde0ef"
            ],
            [
             0.5,
             "#f7f7f7"
            ],
            [
             0.6,
             "#e6f5d0"
            ],
            [
             0.7,
             "#b8e186"
            ],
            [
             0.8,
             "#7fbc41"
            ],
            [
             0.9,
             "#4d9221"
            ],
            [
             1,
             "#276419"
            ]
           ],
           "sequential": [
            [
             0,
             "#0d0887"
            ],
            [
             0.1111111111111111,
             "#46039f"
            ],
            [
             0.2222222222222222,
             "#7201a8"
            ],
            [
             0.3333333333333333,
             "#9c179e"
            ],
            [
             0.4444444444444444,
             "#bd3786"
            ],
            [
             0.5555555555555556,
             "#d8576b"
            ],
            [
             0.6666666666666666,
             "#ed7953"
            ],
            [
             0.7777777777777778,
             "#fb9f3a"
            ],
            [
             0.8888888888888888,
             "#fdca26"
            ],
            [
             1,
             "#f0f921"
            ]
           ],
           "sequentialminus": [
            [
             0,
             "#0d0887"
            ],
            [
             0.1111111111111111,
             "#46039f"
            ],
            [
             0.2222222222222222,
             "#7201a8"
            ],
            [
             0.3333333333333333,
             "#9c179e"
            ],
            [
             0.4444444444444444,
             "#bd3786"
            ],
            [
             0.5555555555555556,
             "#d8576b"
            ],
            [
             0.6666666666666666,
             "#ed7953"
            ],
            [
             0.7777777777777778,
             "#fb9f3a"
            ],
            [
             0.8888888888888888,
             "#fdca26"
            ],
            [
             1,
             "#f0f921"
            ]
           ]
          },
          "colorway": [
           "#636efa",
           "#EF553B",
           "#00cc96",
           "#ab63fa",
           "#FFA15A",
           "#19d3f3",
           "#FF6692",
           "#B6E880",
           "#FF97FF",
           "#FECB52"
          ],
          "font": {
           "color": "#2a3f5f"
          },
          "geo": {
           "bgcolor": "white",
           "lakecolor": "white",
           "landcolor": "#E5ECF6",
           "showlakes": true,
           "showland": true,
           "subunitcolor": "white"
          },
          "hoverlabel": {
           "align": "left"
          },
          "hovermode": "closest",
          "mapbox": {
           "style": "light"
          },
          "paper_bgcolor": "white",
          "plot_bgcolor": "#E5ECF6",
          "polar": {
           "angularaxis": {
            "gridcolor": "white",
            "linecolor": "white",
            "ticks": ""
           },
           "bgcolor": "#E5ECF6",
           "radialaxis": {
            "gridcolor": "white",
            "linecolor": "white",
            "ticks": ""
           }
          },
          "scene": {
           "xaxis": {
            "backgroundcolor": "#E5ECF6",
            "gridcolor": "white",
            "gridwidth": 2,
            "linecolor": "white",
            "showbackground": true,
            "ticks": "",
            "zerolinecolor": "white"
           },
           "yaxis": {
            "backgroundcolor": "#E5ECF6",
            "gridcolor": "white",
            "gridwidth": 2,
            "linecolor": "white",
            "showbackground": true,
            "ticks": "",
            "zerolinecolor": "white"
           },
           "zaxis": {
            "backgroundcolor": "#E5ECF6",
            "gridcolor": "white",
            "gridwidth": 2,
            "linecolor": "white",
            "showbackground": true,
            "ticks": "",
            "zerolinecolor": "white"
           }
          },
          "shapedefaults": {
           "line": {
            "color": "#2a3f5f"
           }
          },
          "ternary": {
           "aaxis": {
            "gridcolor": "white",
            "linecolor": "white",
            "ticks": ""
           },
           "baxis": {
            "gridcolor": "white",
            "linecolor": "white",
            "ticks": ""
           },
           "bgcolor": "#E5ECF6",
           "caxis": {
            "gridcolor": "white",
            "linecolor": "white",
            "ticks": ""
           }
          },
          "title": {
           "x": 0.05
          },
          "xaxis": {
           "automargin": true,
           "gridcolor": "white",
           "linecolor": "white",
           "ticks": "",
           "title": {
            "standoff": 15
           },
           "zerolinecolor": "white",
           "zerolinewidth": 2
          },
          "yaxis": {
           "automargin": true,
           "gridcolor": "white",
           "linecolor": "white",
           "ticks": "",
           "title": {
            "standoff": 15
           },
           "zerolinecolor": "white",
           "zerolinewidth": 2
          }
         }
        },
        "title": {
         "text": "The Elbow Method using Inertia"
        },
        "xaxis": {
         "anchor": "y",
         "domain": [
          0,
          1
         ],
         "title": {
          "text": "n cluster"
         }
        },
        "yaxis": {
         "anchor": "x",
         "domain": [
          0,
          1
         ],
         "title": {
          "text": "Inertia"
         }
        }
       }
      }
     },
     "metadata": {},
     "output_type": "display_data"
    }
   ],
   "source": [
    "Inertias = pd.DataFrame(inertias,columns=[\"Inertia\"])\n",
    "Inertias.index.name = 'n cluster'\n",
    "title = 'The Elbow Method using Inertia'\n",
    "fig = px.bar(Inertias,y=\"Inertia\",title=title)\n",
    "fig.show()\n",
    "fig.write_html(title+\".html\")"
   ]
  },
  {
   "cell_type": "code",
   "execution_count": 16,
   "metadata": {},
   "outputs": [],
   "source": [
    "d_labels = {}\n",
    "d_metrics = {}\n",
    "d_metrics['Silhouette score Kmeans'] = []\n",
    "d_metrics['Calinski Harabasz score Kmeans'] = []\n",
    "d_metrics['Davies Bouldin score Kmeans'] = []\n",
    "d_metrics['Silhouette score Hierarchical Agglomerative'] = []\n",
    "d_metrics['Calinski Harabasz score Hierarchical Agglomerative'] = []\n",
    "d_metrics['Davies Bouldin score Hierarchical Agglomerative'] = []\n",
    "d_metrics['Silhouette score Affinity propagation'] = []\n",
    "d_metrics['Calinski Harabasz score Affinity propagation'] = []\n",
    "d_metrics['Davies Bouldin score Affinity propagation'] = []\n",
    "d_metrics['Silhouette score Fuzzy'] = []\n",
    "d_metrics['Calinski Harabasz score Fuzzy'] = []\n",
    "d_metrics['Davies Bouldin score Fuzzy'] = []\n",
    "for i in range (2,31):\n",
    "    kmeanModel= KMeans(n_clusters=i).fit(df_input)\n",
    "    d_labels['Kmeans k='+str(i)] = kmeanModel.labels_\n",
    "    silhouette_score = metrics.silhouette_score(df_input, kmeanModel.labels_, metric='euclidean')\n",
    "    d_metrics['Silhouette score Kmeans'].append(silhouette_score)\n",
    "    calinski_harabasz_score = metrics.calinski_harabasz_score(df_input, kmeanModel.labels_)\n",
    "    d_metrics['Calinski Harabasz score Kmeans'].append(calinski_harabasz_score)\n",
    "    davies_bouldin_score = metrics.davies_bouldin_score(df_input, kmeanModel.labels_)\n",
    "    d_metrics['Davies Bouldin score Kmeans'].append(davies_bouldin_score)\n",
    "\n",
    "    model= AgglomerativeClustering(n_clusters=i).fit(df_input)\n",
    "    d_labels['Hierarchical Agglomerative k='+str(i)] = model.labels_\n",
    "    silhouette_score = metrics.silhouette_score(df_input, model.labels_, metric='euclidean')\n",
    "    d_metrics['Silhouette score Hierarchical Agglomerative'].append(silhouette_score)\n",
    "    calinski_harabasz_score = metrics.calinski_harabasz_score(df_input, model.labels_)\n",
    "    d_metrics['Calinski Harabasz score Hierarchical Agglomerative'].append(calinski_harabasz_score)\n",
    "    davies_bouldin_score = metrics.davies_bouldin_score(df_input, model.labels_)\n",
    "    d_metrics['Davies Bouldin score Hierarchical Agglomerative'].append(davies_bouldin_score)\n",
    "\n",
    "    model = FCM(n_clusters=i)\n",
    "    model.fit(df_input.values)\n",
    "    model_labels = model.predict(df_input.values)\n",
    "    d_labels['Fuzzy k='+str(i)] = model_labels\n",
    "    silhouette_score = metrics.silhouette_score(df_input, model_labels, metric='euclidean')\n",
    "    d_metrics['Silhouette score Fuzzy'].append(silhouette_score)\n",
    "    calinski_harabasz_score = metrics.calinski_harabasz_score(df_input, model_labels)\n",
    "    d_metrics['Calinski Harabasz score Fuzzy'].append(calinski_harabasz_score)\n",
    "    davies_bouldin_score = metrics.davies_bouldin_score(df_input, model_labels)\n",
    "    d_metrics['Davies Bouldin score Fuzzy'].append(davies_bouldin_score)\n",
    "\n",
    "model= AffinityPropagation().fit(df_input)\n",
    "d_labels['Affinity propagation'] = model.labels_\n",
    "silhouette_score = metrics.silhouette_score(df_input, model.labels_, metric='euclidean')\n",
    "d_metrics['Silhouette score Affinity propagation'].append(silhouette_score)\n",
    "calinski_harabasz_score = metrics.calinski_harabasz_score(df_input, model.labels_)\n",
    "d_metrics['Calinski Harabasz score Affinity propagation'].append(calinski_harabasz_score)\n",
    "davies_bouldin_score = metrics.davies_bouldin_score(df_input, model.labels_)\n",
    "d_metrics['Davies Bouldin score Affinity propagation'].append(davies_bouldin_score)\n"
   ]
  },
  {
   "cell_type": "code",
   "execution_count": 17,
   "metadata": {},
   "outputs": [],
   "source": [
    "df_labels = pd.DataFrame(data=d_labels, index=df.index)\n",
    "df_metrics = pd.DataFrame(data=d_metrics, index=[i for i in range(2,31)])\n",
    "df_metrics.index.name = 'N cluster'"
   ]
  },
  {
   "cell_type": "code",
   "execution_count": 19,
   "metadata": {},
   "outputs": [
    {
     "data": {
      "text/html": [
       "<div>\n",
       "<style scoped>\n",
       "    .dataframe tbody tr th:only-of-type {\n",
       "        vertical-align: middle;\n",
       "    }\n",
       "\n",
       "    .dataframe tbody tr th {\n",
       "        vertical-align: top;\n",
       "    }\n",
       "\n",
       "    .dataframe thead th {\n",
       "        text-align: right;\n",
       "    }\n",
       "</style>\n",
       "<table border=\"1\" class=\"dataframe\">\n",
       "  <thead>\n",
       "    <tr style=\"text-align: right;\">\n",
       "      <th></th>\n",
       "      <th>Silhouette score Kmeans</th>\n",
       "      <th>Calinski Harabasz score Kmeans</th>\n",
       "      <th>Davies Bouldin score Kmeans</th>\n",
       "      <th>Silhouette score Hierarchical Agglomerative</th>\n",
       "      <th>Calinski Harabasz score Hierarchical Agglomerative</th>\n",
       "      <th>Davies Bouldin score Hierarchical Agglomerative</th>\n",
       "      <th>Silhouette score Affinity propagation</th>\n",
       "      <th>Calinski Harabasz score Affinity propagation</th>\n",
       "      <th>Davies Bouldin score Affinity propagation</th>\n",
       "      <th>Silhouette score Fuzzy</th>\n",
       "      <th>Calinski Harabasz score Fuzzy</th>\n",
       "      <th>Davies Bouldin score Fuzzy</th>\n",
       "    </tr>\n",
       "    <tr>\n",
       "      <th>N cluster</th>\n",
       "      <th></th>\n",
       "      <th></th>\n",
       "      <th></th>\n",
       "      <th></th>\n",
       "      <th></th>\n",
       "      <th></th>\n",
       "      <th></th>\n",
       "      <th></th>\n",
       "      <th></th>\n",
       "      <th></th>\n",
       "      <th></th>\n",
       "      <th></th>\n",
       "    </tr>\n",
       "  </thead>\n",
       "  <tbody>\n",
       "    <tr>\n",
       "      <th>2</th>\n",
       "      <td>0.677714</td>\n",
       "      <td>163.347117</td>\n",
       "      <td>0.573265</td>\n",
       "      <td>0.624729</td>\n",
       "      <td>144.020450</td>\n",
       "      <td>0.716934</td>\n",
       "      <td>0.229973</td>\n",
       "      <td>96.042402</td>\n",
       "      <td>0.916984</td>\n",
       "      <td>0.668198</td>\n",
       "      <td>161.146750</td>\n",
       "      <td>0.601600</td>\n",
       "    </tr>\n",
       "    <tr>\n",
       "      <th>3</th>\n",
       "      <td>0.478115</td>\n",
       "      <td>143.961829</td>\n",
       "      <td>0.884293</td>\n",
       "      <td>0.437283</td>\n",
       "      <td>122.132761</td>\n",
       "      <td>0.967118</td>\n",
       "      <td>0.229973</td>\n",
       "      <td>96.042402</td>\n",
       "      <td>0.916984</td>\n",
       "      <td>0.455283</td>\n",
       "      <td>141.887829</td>\n",
       "      <td>0.928261</td>\n",
       "    </tr>\n",
       "    <tr>\n",
       "      <th>4</th>\n",
       "      <td>0.493140</td>\n",
       "      <td>140.237503</td>\n",
       "      <td>0.766433</td>\n",
       "      <td>0.453831</td>\n",
       "      <td>132.565451</td>\n",
       "      <td>0.892859</td>\n",
       "      <td>0.229973</td>\n",
       "      <td>96.042402</td>\n",
       "      <td>0.916984</td>\n",
       "      <td>0.225661</td>\n",
       "      <td>105.328972</td>\n",
       "      <td>1.562229</td>\n",
       "    </tr>\n",
       "    <tr>\n",
       "      <th>5</th>\n",
       "      <td>0.441532</td>\n",
       "      <td>131.139719</td>\n",
       "      <td>0.835908</td>\n",
       "      <td>0.418285</td>\n",
       "      <td>126.263062</td>\n",
       "      <td>0.891927</td>\n",
       "      <td>0.229973</td>\n",
       "      <td>96.042402</td>\n",
       "      <td>0.916984</td>\n",
       "      <td>0.194740</td>\n",
       "      <td>90.329419</td>\n",
       "      <td>1.390783</td>\n",
       "    </tr>\n",
       "    <tr>\n",
       "      <th>6</th>\n",
       "      <td>0.361552</td>\n",
       "      <td>126.372254</td>\n",
       "      <td>0.897067</td>\n",
       "      <td>0.419120</td>\n",
       "      <td>119.760287</td>\n",
       "      <td>0.771043</td>\n",
       "      <td>0.229973</td>\n",
       "      <td>96.042402</td>\n",
       "      <td>0.916984</td>\n",
       "      <td>0.088970</td>\n",
       "      <td>92.419199</td>\n",
       "      <td>1.691598</td>\n",
       "    </tr>\n",
       "    <tr>\n",
       "      <th>7</th>\n",
       "      <td>0.407706</td>\n",
       "      <td>124.083975</td>\n",
       "      <td>0.835256</td>\n",
       "      <td>0.415010</td>\n",
       "      <td>116.575106</td>\n",
       "      <td>0.760419</td>\n",
       "      <td>0.229973</td>\n",
       "      <td>96.042402</td>\n",
       "      <td>0.916984</td>\n",
       "      <td>0.170106</td>\n",
       "      <td>98.640811</td>\n",
       "      <td>1.278225</td>\n",
       "    </tr>\n",
       "    <tr>\n",
       "      <th>8</th>\n",
       "      <td>0.416655</td>\n",
       "      <td>126.951559</td>\n",
       "      <td>0.727208</td>\n",
       "      <td>0.408691</td>\n",
       "      <td>117.957686</td>\n",
       "      <td>0.659727</td>\n",
       "      <td>0.229973</td>\n",
       "      <td>96.042402</td>\n",
       "      <td>0.916984</td>\n",
       "      <td>0.118835</td>\n",
       "      <td>83.750575</td>\n",
       "      <td>2.001049</td>\n",
       "    </tr>\n",
       "    <tr>\n",
       "      <th>9</th>\n",
       "      <td>0.339259</td>\n",
       "      <td>124.085950</td>\n",
       "      <td>0.798491</td>\n",
       "      <td>0.223656</td>\n",
       "      <td>114.052659</td>\n",
       "      <td>0.953232</td>\n",
       "      <td>0.229973</td>\n",
       "      <td>96.042402</td>\n",
       "      <td>0.916984</td>\n",
       "      <td>0.127996</td>\n",
       "      <td>80.749044</td>\n",
       "      <td>1.691501</td>\n",
       "    </tr>\n",
       "    <tr>\n",
       "      <th>10</th>\n",
       "      <td>0.259934</td>\n",
       "      <td>120.499064</td>\n",
       "      <td>0.934306</td>\n",
       "      <td>0.227136</td>\n",
       "      <td>110.649018</td>\n",
       "      <td>0.961536</td>\n",
       "      <td>0.229973</td>\n",
       "      <td>96.042402</td>\n",
       "      <td>0.916984</td>\n",
       "      <td>0.118555</td>\n",
       "      <td>97.369801</td>\n",
       "      <td>1.088520</td>\n",
       "    </tr>\n",
       "    <tr>\n",
       "      <th>11</th>\n",
       "      <td>0.249204</td>\n",
       "      <td>114.801789</td>\n",
       "      <td>0.963701</td>\n",
       "      <td>0.230184</td>\n",
       "      <td>109.210665</td>\n",
       "      <td>1.015317</td>\n",
       "      <td>0.229973</td>\n",
       "      <td>96.042402</td>\n",
       "      <td>0.916984</td>\n",
       "      <td>0.076526</td>\n",
       "      <td>76.534984</td>\n",
       "      <td>1.547989</td>\n",
       "    </tr>\n",
       "    <tr>\n",
       "      <th>12</th>\n",
       "      <td>0.266487</td>\n",
       "      <td>111.297242</td>\n",
       "      <td>0.972614</td>\n",
       "      <td>0.229803</td>\n",
       "      <td>109.335187</td>\n",
       "      <td>1.014059</td>\n",
       "      <td>0.229973</td>\n",
       "      <td>96.042402</td>\n",
       "      <td>0.916984</td>\n",
       "      <td>-0.013822</td>\n",
       "      <td>55.880772</td>\n",
       "      <td>2.174269</td>\n",
       "    </tr>\n",
       "    <tr>\n",
       "      <th>13</th>\n",
       "      <td>0.234553</td>\n",
       "      <td>106.412715</td>\n",
       "      <td>0.907258</td>\n",
       "      <td>0.241538</td>\n",
       "      <td>108.093755</td>\n",
       "      <td>1.009834</td>\n",
       "      <td>0.229973</td>\n",
       "      <td>96.042402</td>\n",
       "      <td>0.916984</td>\n",
       "      <td>0.047292</td>\n",
       "      <td>56.675876</td>\n",
       "      <td>1.926464</td>\n",
       "    </tr>\n",
       "    <tr>\n",
       "      <th>14</th>\n",
       "      <td>0.242174</td>\n",
       "      <td>109.049063</td>\n",
       "      <td>1.031939</td>\n",
       "      <td>0.233564</td>\n",
       "      <td>105.292541</td>\n",
       "      <td>1.010710</td>\n",
       "      <td>0.229973</td>\n",
       "      <td>96.042402</td>\n",
       "      <td>0.916984</td>\n",
       "      <td>-0.060333</td>\n",
       "      <td>53.726828</td>\n",
       "      <td>1.655766</td>\n",
       "    </tr>\n",
       "    <tr>\n",
       "      <th>15</th>\n",
       "      <td>0.248354</td>\n",
       "      <td>105.026668</td>\n",
       "      <td>0.917918</td>\n",
       "      <td>0.237060</td>\n",
       "      <td>103.467244</td>\n",
       "      <td>0.961474</td>\n",
       "      <td>0.229973</td>\n",
       "      <td>96.042402</td>\n",
       "      <td>0.916984</td>\n",
       "      <td>0.002273</td>\n",
       "      <td>45.659649</td>\n",
       "      <td>1.729352</td>\n",
       "    </tr>\n",
       "    <tr>\n",
       "      <th>16</th>\n",
       "      <td>0.249936</td>\n",
       "      <td>101.544349</td>\n",
       "      <td>0.935183</td>\n",
       "      <td>0.237622</td>\n",
       "      <td>102.097798</td>\n",
       "      <td>1.025379</td>\n",
       "      <td>0.229973</td>\n",
       "      <td>96.042402</td>\n",
       "      <td>0.916984</td>\n",
       "      <td>0.020113</td>\n",
       "      <td>48.648002</td>\n",
       "      <td>1.818461</td>\n",
       "    </tr>\n",
       "    <tr>\n",
       "      <th>17</th>\n",
       "      <td>0.246270</td>\n",
       "      <td>101.098385</td>\n",
       "      <td>0.930937</td>\n",
       "      <td>0.249788</td>\n",
       "      <td>100.955749</td>\n",
       "      <td>1.004535</td>\n",
       "      <td>0.229973</td>\n",
       "      <td>96.042402</td>\n",
       "      <td>0.916984</td>\n",
       "      <td>-0.004888</td>\n",
       "      <td>49.515613</td>\n",
       "      <td>2.019080</td>\n",
       "    </tr>\n",
       "    <tr>\n",
       "      <th>18</th>\n",
       "      <td>0.205127</td>\n",
       "      <td>97.030412</td>\n",
       "      <td>0.984426</td>\n",
       "      <td>0.253153</td>\n",
       "      <td>100.161508</td>\n",
       "      <td>0.995195</td>\n",
       "      <td>0.229973</td>\n",
       "      <td>96.042402</td>\n",
       "      <td>0.916984</td>\n",
       "      <td>-0.003198</td>\n",
       "      <td>52.102586</td>\n",
       "      <td>1.623483</td>\n",
       "    </tr>\n",
       "    <tr>\n",
       "      <th>19</th>\n",
       "      <td>0.240613</td>\n",
       "      <td>95.231751</td>\n",
       "      <td>1.108339</td>\n",
       "      <td>0.252007</td>\n",
       "      <td>100.005461</td>\n",
       "      <td>0.946917</td>\n",
       "      <td>0.229973</td>\n",
       "      <td>96.042402</td>\n",
       "      <td>0.916984</td>\n",
       "      <td>-0.035480</td>\n",
       "      <td>48.532789</td>\n",
       "      <td>1.381356</td>\n",
       "    </tr>\n",
       "    <tr>\n",
       "      <th>20</th>\n",
       "      <td>0.261807</td>\n",
       "      <td>96.475820</td>\n",
       "      <td>0.908027</td>\n",
       "      <td>0.248400</td>\n",
       "      <td>99.440606</td>\n",
       "      <td>0.957840</td>\n",
       "      <td>0.229973</td>\n",
       "      <td>96.042402</td>\n",
       "      <td>0.916984</td>\n",
       "      <td>-0.025497</td>\n",
       "      <td>57.040876</td>\n",
       "      <td>1.640413</td>\n",
       "    </tr>\n",
       "    <tr>\n",
       "      <th>21</th>\n",
       "      <td>0.194031</td>\n",
       "      <td>94.420326</td>\n",
       "      <td>0.972938</td>\n",
       "      <td>0.243863</td>\n",
       "      <td>97.198475</td>\n",
       "      <td>0.977862</td>\n",
       "      <td>0.229973</td>\n",
       "      <td>96.042402</td>\n",
       "      <td>0.916984</td>\n",
       "      <td>-0.082030</td>\n",
       "      <td>36.423839</td>\n",
       "      <td>1.828141</td>\n",
       "    </tr>\n",
       "    <tr>\n",
       "      <th>22</th>\n",
       "      <td>0.194334</td>\n",
       "      <td>90.991970</td>\n",
       "      <td>1.003349</td>\n",
       "      <td>0.242130</td>\n",
       "      <td>95.285783</td>\n",
       "      <td>0.946411</td>\n",
       "      <td>0.229973</td>\n",
       "      <td>96.042402</td>\n",
       "      <td>0.916984</td>\n",
       "      <td>-0.056105</td>\n",
       "      <td>37.762826</td>\n",
       "      <td>2.101181</td>\n",
       "    </tr>\n",
       "    <tr>\n",
       "      <th>23</th>\n",
       "      <td>0.200568</td>\n",
       "      <td>90.567331</td>\n",
       "      <td>1.001827</td>\n",
       "      <td>0.243147</td>\n",
       "      <td>93.640943</td>\n",
       "      <td>0.947952</td>\n",
       "      <td>0.229973</td>\n",
       "      <td>96.042402</td>\n",
       "      <td>0.916984</td>\n",
       "      <td>-0.037052</td>\n",
       "      <td>42.812330</td>\n",
       "      <td>1.655420</td>\n",
       "    </tr>\n",
       "    <tr>\n",
       "      <th>24</th>\n",
       "      <td>0.206120</td>\n",
       "      <td>91.684119</td>\n",
       "      <td>1.008287</td>\n",
       "      <td>0.244207</td>\n",
       "      <td>92.316075</td>\n",
       "      <td>0.951650</td>\n",
       "      <td>0.229973</td>\n",
       "      <td>96.042402</td>\n",
       "      <td>0.916984</td>\n",
       "      <td>-0.030128</td>\n",
       "      <td>60.858109</td>\n",
       "      <td>1.353007</td>\n",
       "    </tr>\n",
       "    <tr>\n",
       "      <th>25</th>\n",
       "      <td>0.246164</td>\n",
       "      <td>88.474139</td>\n",
       "      <td>0.917306</td>\n",
       "      <td>0.229151</td>\n",
       "      <td>91.217071</td>\n",
       "      <td>0.953669</td>\n",
       "      <td>0.229973</td>\n",
       "      <td>96.042402</td>\n",
       "      <td>0.916984</td>\n",
       "      <td>0.074445</td>\n",
       "      <td>61.862075</td>\n",
       "      <td>1.212334</td>\n",
       "    </tr>\n",
       "    <tr>\n",
       "      <th>26</th>\n",
       "      <td>0.186495</td>\n",
       "      <td>88.029837</td>\n",
       "      <td>0.944413</td>\n",
       "      <td>0.224524</td>\n",
       "      <td>90.257572</td>\n",
       "      <td>0.978960</td>\n",
       "      <td>0.229973</td>\n",
       "      <td>96.042402</td>\n",
       "      <td>0.916984</td>\n",
       "      <td>-0.100521</td>\n",
       "      <td>35.883597</td>\n",
       "      <td>1.451485</td>\n",
       "    </tr>\n",
       "    <tr>\n",
       "      <th>27</th>\n",
       "      <td>0.194350</td>\n",
       "      <td>86.959254</td>\n",
       "      <td>0.949492</td>\n",
       "      <td>0.223597</td>\n",
       "      <td>89.518474</td>\n",
       "      <td>0.931125</td>\n",
       "      <td>0.229973</td>\n",
       "      <td>96.042402</td>\n",
       "      <td>0.916984</td>\n",
       "      <td>0.052291</td>\n",
       "      <td>55.691262</td>\n",
       "      <td>1.188505</td>\n",
       "    </tr>\n",
       "    <tr>\n",
       "      <th>28</th>\n",
       "      <td>0.179016</td>\n",
       "      <td>85.771191</td>\n",
       "      <td>0.995402</td>\n",
       "      <td>0.224312</td>\n",
       "      <td>89.011058</td>\n",
       "      <td>0.878767</td>\n",
       "      <td>0.229973</td>\n",
       "      <td>96.042402</td>\n",
       "      <td>0.916984</td>\n",
       "      <td>-0.073428</td>\n",
       "      <td>27.132009</td>\n",
       "      <td>1.709717</td>\n",
       "    </tr>\n",
       "    <tr>\n",
       "      <th>29</th>\n",
       "      <td>0.197519</td>\n",
       "      <td>85.382756</td>\n",
       "      <td>0.925728</td>\n",
       "      <td>0.220141</td>\n",
       "      <td>88.156601</td>\n",
       "      <td>0.881771</td>\n",
       "      <td>0.229973</td>\n",
       "      <td>96.042402</td>\n",
       "      <td>0.916984</td>\n",
       "      <td>-0.047376</td>\n",
       "      <td>35.739499</td>\n",
       "      <td>1.762286</td>\n",
       "    </tr>\n",
       "    <tr>\n",
       "      <th>30</th>\n",
       "      <td>0.167601</td>\n",
       "      <td>85.455843</td>\n",
       "      <td>1.096963</td>\n",
       "      <td>0.218944</td>\n",
       "      <td>87.467778</td>\n",
       "      <td>0.899125</td>\n",
       "      <td>0.229973</td>\n",
       "      <td>96.042402</td>\n",
       "      <td>0.916984</td>\n",
       "      <td>-0.045643</td>\n",
       "      <td>45.183883</td>\n",
       "      <td>1.553146</td>\n",
       "    </tr>\n",
       "  </tbody>\n",
       "</table>\n",
       "</div>"
      ],
      "text/plain": [
       "           Silhouette score Kmeans  Calinski Harabasz score Kmeans  \\\n",
       "N cluster                                                            \n",
       "2                         0.677714                      163.347117   \n",
       "3                         0.478115                      143.961829   \n",
       "4                         0.493140                      140.237503   \n",
       "5                         0.441532                      131.139719   \n",
       "6                         0.361552                      126.372254   \n",
       "7                         0.407706                      124.083975   \n",
       "8                         0.416655                      126.951559   \n",
       "9                         0.339259                      124.085950   \n",
       "10                        0.259934                      120.499064   \n",
       "11                        0.249204                      114.801789   \n",
       "12                        0.266487                      111.297242   \n",
       "13                        0.234553                      106.412715   \n",
       "14                        0.242174                      109.049063   \n",
       "15                        0.248354                      105.026668   \n",
       "16                        0.249936                      101.544349   \n",
       "17                        0.246270                      101.098385   \n",
       "18                        0.205127                       97.030412   \n",
       "19                        0.240613                       95.231751   \n",
       "20                        0.261807                       96.475820   \n",
       "21                        0.194031                       94.420326   \n",
       "22                        0.194334                       90.991970   \n",
       "23                        0.200568                       90.567331   \n",
       "24                        0.206120                       91.684119   \n",
       "25                        0.246164                       88.474139   \n",
       "26                        0.186495                       88.029837   \n",
       "27                        0.194350                       86.959254   \n",
       "28                        0.179016                       85.771191   \n",
       "29                        0.197519                       85.382756   \n",
       "30                        0.167601                       85.455843   \n",
       "\n",
       "           Davies Bouldin score Kmeans  \\\n",
       "N cluster                                \n",
       "2                             0.573265   \n",
       "3                             0.884293   \n",
       "4                             0.766433   \n",
       "5                             0.835908   \n",
       "6                             0.897067   \n",
       "7                             0.835256   \n",
       "8                             0.727208   \n",
       "9                             0.798491   \n",
       "10                            0.934306   \n",
       "11                            0.963701   \n",
       "12                            0.972614   \n",
       "13                            0.907258   \n",
       "14                            1.031939   \n",
       "15                            0.917918   \n",
       "16                            0.935183   \n",
       "17                            0.930937   \n",
       "18                            0.984426   \n",
       "19                            1.108339   \n",
       "20                            0.908027   \n",
       "21                            0.972938   \n",
       "22                            1.003349   \n",
       "23                            1.001827   \n",
       "24                            1.008287   \n",
       "25                            0.917306   \n",
       "26                            0.944413   \n",
       "27                            0.949492   \n",
       "28                            0.995402   \n",
       "29                            0.925728   \n",
       "30                            1.096963   \n",
       "\n",
       "           Silhouette score Hierarchical Agglomerative  \\\n",
       "N cluster                                                \n",
       "2                                             0.624729   \n",
       "3                                             0.437283   \n",
       "4                                             0.453831   \n",
       "5                                             0.418285   \n",
       "6                                             0.419120   \n",
       "7                                             0.415010   \n",
       "8                                             0.408691   \n",
       "9                                             0.223656   \n",
       "10                                            0.227136   \n",
       "11                                            0.230184   \n",
       "12                                            0.229803   \n",
       "13                                            0.241538   \n",
       "14                                            0.233564   \n",
       "15                                            0.237060   \n",
       "16                                            0.237622   \n",
       "17                                            0.249788   \n",
       "18                                            0.253153   \n",
       "19                                            0.252007   \n",
       "20                                            0.248400   \n",
       "21                                            0.243863   \n",
       "22                                            0.242130   \n",
       "23                                            0.243147   \n",
       "24                                            0.244207   \n",
       "25                                            0.229151   \n",
       "26                                            0.224524   \n",
       "27                                            0.223597   \n",
       "28                                            0.224312   \n",
       "29                                            0.220141   \n",
       "30                                            0.218944   \n",
       "\n",
       "           Calinski Harabasz score Hierarchical Agglomerative  \\\n",
       "N cluster                                                       \n",
       "2                                                 144.020450    \n",
       "3                                                 122.132761    \n",
       "4                                                 132.565451    \n",
       "5                                                 126.263062    \n",
       "6                                                 119.760287    \n",
       "7                                                 116.575106    \n",
       "8                                                 117.957686    \n",
       "9                                                 114.052659    \n",
       "10                                                110.649018    \n",
       "11                                                109.210665    \n",
       "12                                                109.335187    \n",
       "13                                                108.093755    \n",
       "14                                                105.292541    \n",
       "15                                                103.467244    \n",
       "16                                                102.097798    \n",
       "17                                                100.955749    \n",
       "18                                                100.161508    \n",
       "19                                                100.005461    \n",
       "20                                                 99.440606    \n",
       "21                                                 97.198475    \n",
       "22                                                 95.285783    \n",
       "23                                                 93.640943    \n",
       "24                                                 92.316075    \n",
       "25                                                 91.217071    \n",
       "26                                                 90.257572    \n",
       "27                                                 89.518474    \n",
       "28                                                 89.011058    \n",
       "29                                                 88.156601    \n",
       "30                                                 87.467778    \n",
       "\n",
       "           Davies Bouldin score Hierarchical Agglomerative  \\\n",
       "N cluster                                                    \n",
       "2                                                 0.716934   \n",
       "3                                                 0.967118   \n",
       "4                                                 0.892859   \n",
       "5                                                 0.891927   \n",
       "6                                                 0.771043   \n",
       "7                                                 0.760419   \n",
       "8                                                 0.659727   \n",
       "9                                                 0.953232   \n",
       "10                                                0.961536   \n",
       "11                                                1.015317   \n",
       "12                                                1.014059   \n",
       "13                                                1.009834   \n",
       "14                                                1.010710   \n",
       "15                                                0.961474   \n",
       "16                                                1.025379   \n",
       "17                                                1.004535   \n",
       "18                                                0.995195   \n",
       "19                                                0.946917   \n",
       "20                                                0.957840   \n",
       "21                                                0.977862   \n",
       "22                                                0.946411   \n",
       "23                                                0.947952   \n",
       "24                                                0.951650   \n",
       "25                                                0.953669   \n",
       "26                                                0.978960   \n",
       "27                                                0.931125   \n",
       "28                                                0.878767   \n",
       "29                                                0.881771   \n",
       "30                                                0.899125   \n",
       "\n",
       "           Silhouette score Affinity propagation  \\\n",
       "N cluster                                          \n",
       "2                                       0.229973   \n",
       "3                                       0.229973   \n",
       "4                                       0.229973   \n",
       "5                                       0.229973   \n",
       "6                                       0.229973   \n",
       "7                                       0.229973   \n",
       "8                                       0.229973   \n",
       "9                                       0.229973   \n",
       "10                                      0.229973   \n",
       "11                                      0.229973   \n",
       "12                                      0.229973   \n",
       "13                                      0.229973   \n",
       "14                                      0.229973   \n",
       "15                                      0.229973   \n",
       "16                                      0.229973   \n",
       "17                                      0.229973   \n",
       "18                                      0.229973   \n",
       "19                                      0.229973   \n",
       "20                                      0.229973   \n",
       "21                                      0.229973   \n",
       "22                                      0.229973   \n",
       "23                                      0.229973   \n",
       "24                                      0.229973   \n",
       "25                                      0.229973   \n",
       "26                                      0.229973   \n",
       "27                                      0.229973   \n",
       "28                                      0.229973   \n",
       "29                                      0.229973   \n",
       "30                                      0.229973   \n",
       "\n",
       "           Calinski Harabasz score Affinity propagation  \\\n",
       "N cluster                                                 \n",
       "2                                             96.042402   \n",
       "3                                             96.042402   \n",
       "4                                             96.042402   \n",
       "5                                             96.042402   \n",
       "6                                             96.042402   \n",
       "7                                             96.042402   \n",
       "8                                             96.042402   \n",
       "9                                             96.042402   \n",
       "10                                            96.042402   \n",
       "11                                            96.042402   \n",
       "12                                            96.042402   \n",
       "13                                            96.042402   \n",
       "14                                            96.042402   \n",
       "15                                            96.042402   \n",
       "16                                            96.042402   \n",
       "17                                            96.042402   \n",
       "18                                            96.042402   \n",
       "19                                            96.042402   \n",
       "20                                            96.042402   \n",
       "21                                            96.042402   \n",
       "22                                            96.042402   \n",
       "23                                            96.042402   \n",
       "24                                            96.042402   \n",
       "25                                            96.042402   \n",
       "26                                            96.042402   \n",
       "27                                            96.042402   \n",
       "28                                            96.042402   \n",
       "29                                            96.042402   \n",
       "30                                            96.042402   \n",
       "\n",
       "           Davies Bouldin score Affinity propagation  Silhouette score Fuzzy  \\\n",
       "N cluster                                                                      \n",
       "2                                           0.916984                0.668198   \n",
       "3                                           0.916984                0.455283   \n",
       "4                                           0.916984                0.225661   \n",
       "5                                           0.916984                0.194740   \n",
       "6                                           0.916984                0.088970   \n",
       "7                                           0.916984                0.170106   \n",
       "8                                           0.916984                0.118835   \n",
       "9                                           0.916984                0.127996   \n",
       "10                                          0.916984                0.118555   \n",
       "11                                          0.916984                0.076526   \n",
       "12                                          0.916984               -0.013822   \n",
       "13                                          0.916984                0.047292   \n",
       "14                                          0.916984               -0.060333   \n",
       "15                                          0.916984                0.002273   \n",
       "16                                          0.916984                0.020113   \n",
       "17                                          0.916984               -0.004888   \n",
       "18                                          0.916984               -0.003198   \n",
       "19                                          0.916984               -0.035480   \n",
       "20                                          0.916984               -0.025497   \n",
       "21                                          0.916984               -0.082030   \n",
       "22                                          0.916984               -0.056105   \n",
       "23                                          0.916984               -0.037052   \n",
       "24                                          0.916984               -0.030128   \n",
       "25                                          0.916984                0.074445   \n",
       "26                                          0.916984               -0.100521   \n",
       "27                                          0.916984                0.052291   \n",
       "28                                          0.916984               -0.073428   \n",
       "29                                          0.916984               -0.047376   \n",
       "30                                          0.916984               -0.045643   \n",
       "\n",
       "           Calinski Harabasz score Fuzzy  Davies Bouldin score Fuzzy  \n",
       "N cluster                                                             \n",
       "2                             161.146750                    0.601600  \n",
       "3                             141.887829                    0.928261  \n",
       "4                             105.328972                    1.562229  \n",
       "5                              90.329419                    1.390783  \n",
       "6                              92.419199                    1.691598  \n",
       "7                              98.640811                    1.278225  \n",
       "8                              83.750575                    2.001049  \n",
       "9                              80.749044                    1.691501  \n",
       "10                             97.369801                    1.088520  \n",
       "11                             76.534984                    1.547989  \n",
       "12                             55.880772                    2.174269  \n",
       "13                             56.675876                    1.926464  \n",
       "14                             53.726828                    1.655766  \n",
       "15                             45.659649                    1.729352  \n",
       "16                             48.648002                    1.818461  \n",
       "17                             49.515613                    2.019080  \n",
       "18                             52.102586                    1.623483  \n",
       "19                             48.532789                    1.381356  \n",
       "20                             57.040876                    1.640413  \n",
       "21                             36.423839                    1.828141  \n",
       "22                             37.762826                    2.101181  \n",
       "23                             42.812330                    1.655420  \n",
       "24                             60.858109                    1.353007  \n",
       "25                             61.862075                    1.212334  \n",
       "26                             35.883597                    1.451485  \n",
       "27                             55.691262                    1.188505  \n",
       "28                             27.132009                    1.709717  \n",
       "29                             35.739499                    1.762286  \n",
       "30                             45.183883                    1.553146  "
      ]
     },
     "execution_count": 19,
     "metadata": {},
     "output_type": "execute_result"
    }
   ],
   "source": [
    "df_metrics"
   ]
  },
  {
   "cell_type": "markdown",
   "metadata": {},
   "source": [
    "---"
   ]
  },
  {
   "cell_type": "code",
   "execution_count": null,
   "metadata": {},
   "outputs": [],
   "source": [
    "df_som = pd.read_excel(\"TabellaCompletaClusters.xlsx\")\n",
    "df_som.set_index('COMUNE',inplace=True)"
   ]
  },
  {
   "cell_type": "code",
   "execution_count": 44,
   "metadata": {},
   "outputs": [],
   "source": [
    "df_som_labels = pd.DataFrame(index=df_som.index)"
   ]
  },
  {
   "cell_type": "code",
   "execution_count": null,
   "metadata": {},
   "outputs": [],
   "source": [
    "df_som_labels['Auto som'] = \"(\"+df_som['x autosom'].apply(int).apply(str) +\",\"+ df_som['y autosom'].apply(int).apply(str)+\")\"\n",
    "df_som_labels['Som10x10'] = df_som['Som10x10']\n",
    "df_som_labels['Som7x7'] = df_som['Som7x7']\n",
    "df_som_labels['Som5x5'] = df_som['Som5x5']\n",
    "df_som_labels['Som4x4'] = df_som['Som4x4']\n",
    "df_som_labels['Som3x3'] = df_som['Som3x3']"
   ]
  },
  {
   "cell_type": "code",
   "execution_count": 55,
   "metadata": {},
   "outputs": [],
   "source": [
    "df_labels['Auto som'] = df_som_labels['Auto som'].apply(hash)\n",
    "df_labels['Som10x10'] = df_som_labels['Som10x10'].apply(hash)\n",
    "df_labels['Som7x7'] = df_som_labels['Som7x7'].apply(hash)\n",
    "df_labels['Som5x5'] = df_som_labels['Som5x5'].apply(hash)\n",
    "df_labels['Som4x4'] = df_som_labels['Som4x4'].apply(hash)\n",
    "df_labels['Som3x3'] = df_som_labels['Som3x3'].apply(hash)"
   ]
  },
  {
   "cell_type": "code",
   "execution_count": 48,
   "metadata": {},
   "outputs": [],
   "source": [
    "df_labels.to_excel(\"all_labels.xlsx\")"
   ]
  },
  {
   "cell_type": "code",
   "execution_count": 51,
   "metadata": {},
   "outputs": [
    {
     "data": {
      "text/plain": [
       "Index(['Auto som', 'Som10x10', 'Som7x7', 'Som5x5', 'Som4x4', 'Som3x3'], dtype='object')"
      ]
     },
     "execution_count": 51,
     "metadata": {},
     "output_type": "execute_result"
    }
   ],
   "source": [
    "df_som_labels.columns"
   ]
  },
  {
   "cell_type": "code",
   "execution_count": 61,
   "metadata": {},
   "outputs": [],
   "source": [
    "for som in df_som_labels.columns:\n",
    "    labels = df_labels[som]\n",
    "    silhouette_score = metrics.silhouette_score(df_input, labels, metric='euclidean')\n",
    "    df_metrics['Silhouette score '+som] = silhouette_score\n",
    "    calinski_harabasz_score = metrics.calinski_harabasz_score(df_input, labels)\n",
    "    df_metrics['Calinski Harabasz score '+som] = calinski_harabasz_score\n",
    "    davies_bouldin_score = metrics.davies_bouldin_score(df_input, labels)\n",
    "    df_metrics['Davies Bouldin score '+som] = davies_bouldin_score\n"
   ]
  },
  {
   "cell_type": "code",
   "execution_count": 62,
   "metadata": {},
   "outputs": [
    {
     "data": {
      "text/html": [
       "<div>\n",
       "<style scoped>\n",
       "    .dataframe tbody tr th:only-of-type {\n",
       "        vertical-align: middle;\n",
       "    }\n",
       "\n",
       "    .dataframe tbody tr th {\n",
       "        vertical-align: top;\n",
       "    }\n",
       "\n",
       "    .dataframe thead th {\n",
       "        text-align: right;\n",
       "    }\n",
       "</style>\n",
       "<table border=\"1\" class=\"dataframe\">\n",
       "  <thead>\n",
       "    <tr style=\"text-align: right;\">\n",
       "      <th></th>\n",
       "      <th>Silhouette score Kmeans</th>\n",
       "      <th>Calinski Harabasz score Kmeans</th>\n",
       "      <th>Davies Bouldin score Kmeans</th>\n",
       "      <th>Silhouette score Hierarchical Agglomerative</th>\n",
       "      <th>Calinski Harabasz score Hierarchical Agglomerative</th>\n",
       "      <th>Davies Bouldin score Hierarchical Agglomerative</th>\n",
       "      <th>Silhouette score Affinity propagation</th>\n",
       "      <th>Calinski Harabasz score Affinity propagation</th>\n",
       "      <th>Davies Bouldin score Affinity propagation</th>\n",
       "      <th>Silhouette score Fuzzy</th>\n",
       "      <th>...</th>\n",
       "      <th>Davies Bouldin score Som7x7</th>\n",
       "      <th>Silhouette score Som5x5</th>\n",
       "      <th>Calinski Harabasz score Som5x5</th>\n",
       "      <th>Davies Bouldin score Som5x5</th>\n",
       "      <th>Silhouette score Som4x4</th>\n",
       "      <th>Calinski Harabasz score Som4x4</th>\n",
       "      <th>Davies Bouldin score Som4x4</th>\n",
       "      <th>Silhouette score Som3x3</th>\n",
       "      <th>Calinski Harabasz score Som3x3</th>\n",
       "      <th>Davies Bouldin score Som3x3</th>\n",
       "    </tr>\n",
       "    <tr>\n",
       "      <th>N cluster</th>\n",
       "      <th></th>\n",
       "      <th></th>\n",
       "      <th></th>\n",
       "      <th></th>\n",
       "      <th></th>\n",
       "      <th></th>\n",
       "      <th></th>\n",
       "      <th></th>\n",
       "      <th></th>\n",
       "      <th></th>\n",
       "      <th></th>\n",
       "      <th></th>\n",
       "      <th></th>\n",
       "      <th></th>\n",
       "      <th></th>\n",
       "      <th></th>\n",
       "      <th></th>\n",
       "      <th></th>\n",
       "      <th></th>\n",
       "      <th></th>\n",
       "      <th></th>\n",
       "    </tr>\n",
       "  </thead>\n",
       "  <tbody>\n",
       "    <tr>\n",
       "      <th>2</th>\n",
       "      <td>0.677714</td>\n",
       "      <td>163.347117</td>\n",
       "      <td>0.573265</td>\n",
       "      <td>0.624729</td>\n",
       "      <td>144.020450</td>\n",
       "      <td>0.716934</td>\n",
       "      <td>0.229973</td>\n",
       "      <td>96.042402</td>\n",
       "      <td>0.916984</td>\n",
       "      <td>0.668198</td>\n",
       "      <td>...</td>\n",
       "      <td>2.659348</td>\n",
       "      <td>-0.124394</td>\n",
       "      <td>15.406212</td>\n",
       "      <td>2.586391</td>\n",
       "      <td>-0.172893</td>\n",
       "      <td>7.440839</td>\n",
       "      <td>3.373142</td>\n",
       "      <td>-0.128841</td>\n",
       "      <td>5.196636</td>\n",
       "      <td>3.643959</td>\n",
       "    </tr>\n",
       "    <tr>\n",
       "      <th>3</th>\n",
       "      <td>0.478115</td>\n",
       "      <td>143.961829</td>\n",
       "      <td>0.884293</td>\n",
       "      <td>0.437283</td>\n",
       "      <td>122.132761</td>\n",
       "      <td>0.967118</td>\n",
       "      <td>0.229973</td>\n",
       "      <td>96.042402</td>\n",
       "      <td>0.916984</td>\n",
       "      <td>0.455283</td>\n",
       "      <td>...</td>\n",
       "      <td>2.659348</td>\n",
       "      <td>-0.124394</td>\n",
       "      <td>15.406212</td>\n",
       "      <td>2.586391</td>\n",
       "      <td>-0.172893</td>\n",
       "      <td>7.440839</td>\n",
       "      <td>3.373142</td>\n",
       "      <td>-0.128841</td>\n",
       "      <td>5.196636</td>\n",
       "      <td>3.643959</td>\n",
       "    </tr>\n",
       "    <tr>\n",
       "      <th>4</th>\n",
       "      <td>0.493140</td>\n",
       "      <td>140.237503</td>\n",
       "      <td>0.766433</td>\n",
       "      <td>0.453831</td>\n",
       "      <td>132.565451</td>\n",
       "      <td>0.892859</td>\n",
       "      <td>0.229973</td>\n",
       "      <td>96.042402</td>\n",
       "      <td>0.916984</td>\n",
       "      <td>0.225661</td>\n",
       "      <td>...</td>\n",
       "      <td>2.659348</td>\n",
       "      <td>-0.124394</td>\n",
       "      <td>15.406212</td>\n",
       "      <td>2.586391</td>\n",
       "      <td>-0.172893</td>\n",
       "      <td>7.440839</td>\n",
       "      <td>3.373142</td>\n",
       "      <td>-0.128841</td>\n",
       "      <td>5.196636</td>\n",
       "      <td>3.643959</td>\n",
       "    </tr>\n",
       "    <tr>\n",
       "      <th>5</th>\n",
       "      <td>0.441532</td>\n",
       "      <td>131.139719</td>\n",
       "      <td>0.835908</td>\n",
       "      <td>0.418285</td>\n",
       "      <td>126.263062</td>\n",
       "      <td>0.891927</td>\n",
       "      <td>0.229973</td>\n",
       "      <td>96.042402</td>\n",
       "      <td>0.916984</td>\n",
       "      <td>0.194740</td>\n",
       "      <td>...</td>\n",
       "      <td>2.659348</td>\n",
       "      <td>-0.124394</td>\n",
       "      <td>15.406212</td>\n",
       "      <td>2.586391</td>\n",
       "      <td>-0.172893</td>\n",
       "      <td>7.440839</td>\n",
       "      <td>3.373142</td>\n",
       "      <td>-0.128841</td>\n",
       "      <td>5.196636</td>\n",
       "      <td>3.643959</td>\n",
       "    </tr>\n",
       "    <tr>\n",
       "      <th>6</th>\n",
       "      <td>0.361552</td>\n",
       "      <td>126.372254</td>\n",
       "      <td>0.897067</td>\n",
       "      <td>0.419120</td>\n",
       "      <td>119.760287</td>\n",
       "      <td>0.771043</td>\n",
       "      <td>0.229973</td>\n",
       "      <td>96.042402</td>\n",
       "      <td>0.916984</td>\n",
       "      <td>0.088970</td>\n",
       "      <td>...</td>\n",
       "      <td>2.659348</td>\n",
       "      <td>-0.124394</td>\n",
       "      <td>15.406212</td>\n",
       "      <td>2.586391</td>\n",
       "      <td>-0.172893</td>\n",
       "      <td>7.440839</td>\n",
       "      <td>3.373142</td>\n",
       "      <td>-0.128841</td>\n",
       "      <td>5.196636</td>\n",
       "      <td>3.643959</td>\n",
       "    </tr>\n",
       "    <tr>\n",
       "      <th>7</th>\n",
       "      <td>0.407706</td>\n",
       "      <td>124.083975</td>\n",
       "      <td>0.835256</td>\n",
       "      <td>0.415010</td>\n",
       "      <td>116.575106</td>\n",
       "      <td>0.760419</td>\n",
       "      <td>0.229973</td>\n",
       "      <td>96.042402</td>\n",
       "      <td>0.916984</td>\n",
       "      <td>0.170106</td>\n",
       "      <td>...</td>\n",
       "      <td>2.659348</td>\n",
       "      <td>-0.124394</td>\n",
       "      <td>15.406212</td>\n",
       "      <td>2.586391</td>\n",
       "      <td>-0.172893</td>\n",
       "      <td>7.440839</td>\n",
       "      <td>3.373142</td>\n",
       "      <td>-0.128841</td>\n",
       "      <td>5.196636</td>\n",
       "      <td>3.643959</td>\n",
       "    </tr>\n",
       "    <tr>\n",
       "      <th>8</th>\n",
       "      <td>0.416655</td>\n",
       "      <td>126.951559</td>\n",
       "      <td>0.727208</td>\n",
       "      <td>0.408691</td>\n",
       "      <td>117.957686</td>\n",
       "      <td>0.659727</td>\n",
       "      <td>0.229973</td>\n",
       "      <td>96.042402</td>\n",
       "      <td>0.916984</td>\n",
       "      <td>0.118835</td>\n",
       "      <td>...</td>\n",
       "      <td>2.659348</td>\n",
       "      <td>-0.124394</td>\n",
       "      <td>15.406212</td>\n",
       "      <td>2.586391</td>\n",
       "      <td>-0.172893</td>\n",
       "      <td>7.440839</td>\n",
       "      <td>3.373142</td>\n",
       "      <td>-0.128841</td>\n",
       "      <td>5.196636</td>\n",
       "      <td>3.643959</td>\n",
       "    </tr>\n",
       "    <tr>\n",
       "      <th>9</th>\n",
       "      <td>0.339259</td>\n",
       "      <td>124.085950</td>\n",
       "      <td>0.798491</td>\n",
       "      <td>0.223656</td>\n",
       "      <td>114.052659</td>\n",
       "      <td>0.953232</td>\n",
       "      <td>0.229973</td>\n",
       "      <td>96.042402</td>\n",
       "      <td>0.916984</td>\n",
       "      <td>0.127996</td>\n",
       "      <td>...</td>\n",
       "      <td>2.659348</td>\n",
       "      <td>-0.124394</td>\n",
       "      <td>15.406212</td>\n",
       "      <td>2.586391</td>\n",
       "      <td>-0.172893</td>\n",
       "      <td>7.440839</td>\n",
       "      <td>3.373142</td>\n",
       "      <td>-0.128841</td>\n",
       "      <td>5.196636</td>\n",
       "      <td>3.643959</td>\n",
       "    </tr>\n",
       "    <tr>\n",
       "      <th>10</th>\n",
       "      <td>0.259934</td>\n",
       "      <td>120.499064</td>\n",
       "      <td>0.934306</td>\n",
       "      <td>0.227136</td>\n",
       "      <td>110.649018</td>\n",
       "      <td>0.961536</td>\n",
       "      <td>0.229973</td>\n",
       "      <td>96.042402</td>\n",
       "      <td>0.916984</td>\n",
       "      <td>0.118555</td>\n",
       "      <td>...</td>\n",
       "      <td>2.659348</td>\n",
       "      <td>-0.124394</td>\n",
       "      <td>15.406212</td>\n",
       "      <td>2.586391</td>\n",
       "      <td>-0.172893</td>\n",
       "      <td>7.440839</td>\n",
       "      <td>3.373142</td>\n",
       "      <td>-0.128841</td>\n",
       "      <td>5.196636</td>\n",
       "      <td>3.643959</td>\n",
       "    </tr>\n",
       "    <tr>\n",
       "      <th>11</th>\n",
       "      <td>0.249204</td>\n",
       "      <td>114.801789</td>\n",
       "      <td>0.963701</td>\n",
       "      <td>0.230184</td>\n",
       "      <td>109.210665</td>\n",
       "      <td>1.015317</td>\n",
       "      <td>0.229973</td>\n",
       "      <td>96.042402</td>\n",
       "      <td>0.916984</td>\n",
       "      <td>0.076526</td>\n",
       "      <td>...</td>\n",
       "      <td>2.659348</td>\n",
       "      <td>-0.124394</td>\n",
       "      <td>15.406212</td>\n",
       "      <td>2.586391</td>\n",
       "      <td>-0.172893</td>\n",
       "      <td>7.440839</td>\n",
       "      <td>3.373142</td>\n",
       "      <td>-0.128841</td>\n",
       "      <td>5.196636</td>\n",
       "      <td>3.643959</td>\n",
       "    </tr>\n",
       "    <tr>\n",
       "      <th>12</th>\n",
       "      <td>0.266487</td>\n",
       "      <td>111.297242</td>\n",
       "      <td>0.972614</td>\n",
       "      <td>0.229803</td>\n",
       "      <td>109.335187</td>\n",
       "      <td>1.014059</td>\n",
       "      <td>0.229973</td>\n",
       "      <td>96.042402</td>\n",
       "      <td>0.916984</td>\n",
       "      <td>-0.013822</td>\n",
       "      <td>...</td>\n",
       "      <td>2.659348</td>\n",
       "      <td>-0.124394</td>\n",
       "      <td>15.406212</td>\n",
       "      <td>2.586391</td>\n",
       "      <td>-0.172893</td>\n",
       "      <td>7.440839</td>\n",
       "      <td>3.373142</td>\n",
       "      <td>-0.128841</td>\n",
       "      <td>5.196636</td>\n",
       "      <td>3.643959</td>\n",
       "    </tr>\n",
       "    <tr>\n",
       "      <th>13</th>\n",
       "      <td>0.234553</td>\n",
       "      <td>106.412715</td>\n",
       "      <td>0.907258</td>\n",
       "      <td>0.241538</td>\n",
       "      <td>108.093755</td>\n",
       "      <td>1.009834</td>\n",
       "      <td>0.229973</td>\n",
       "      <td>96.042402</td>\n",
       "      <td>0.916984</td>\n",
       "      <td>0.047292</td>\n",
       "      <td>...</td>\n",
       "      <td>2.659348</td>\n",
       "      <td>-0.124394</td>\n",
       "      <td>15.406212</td>\n",
       "      <td>2.586391</td>\n",
       "      <td>-0.172893</td>\n",
       "      <td>7.440839</td>\n",
       "      <td>3.373142</td>\n",
       "      <td>-0.128841</td>\n",
       "      <td>5.196636</td>\n",
       "      <td>3.643959</td>\n",
       "    </tr>\n",
       "    <tr>\n",
       "      <th>14</th>\n",
       "      <td>0.242174</td>\n",
       "      <td>109.049063</td>\n",
       "      <td>1.031939</td>\n",
       "      <td>0.233564</td>\n",
       "      <td>105.292541</td>\n",
       "      <td>1.010710</td>\n",
       "      <td>0.229973</td>\n",
       "      <td>96.042402</td>\n",
       "      <td>0.916984</td>\n",
       "      <td>-0.060333</td>\n",
       "      <td>...</td>\n",
       "      <td>2.659348</td>\n",
       "      <td>-0.124394</td>\n",
       "      <td>15.406212</td>\n",
       "      <td>2.586391</td>\n",
       "      <td>-0.172893</td>\n",
       "      <td>7.440839</td>\n",
       "      <td>3.373142</td>\n",
       "      <td>-0.128841</td>\n",
       "      <td>5.196636</td>\n",
       "      <td>3.643959</td>\n",
       "    </tr>\n",
       "    <tr>\n",
       "      <th>15</th>\n",
       "      <td>0.248354</td>\n",
       "      <td>105.026668</td>\n",
       "      <td>0.917918</td>\n",
       "      <td>0.237060</td>\n",
       "      <td>103.467244</td>\n",
       "      <td>0.961474</td>\n",
       "      <td>0.229973</td>\n",
       "      <td>96.042402</td>\n",
       "      <td>0.916984</td>\n",
       "      <td>0.002273</td>\n",
       "      <td>...</td>\n",
       "      <td>2.659348</td>\n",
       "      <td>-0.124394</td>\n",
       "      <td>15.406212</td>\n",
       "      <td>2.586391</td>\n",
       "      <td>-0.172893</td>\n",
       "      <td>7.440839</td>\n",
       "      <td>3.373142</td>\n",
       "      <td>-0.128841</td>\n",
       "      <td>5.196636</td>\n",
       "      <td>3.643959</td>\n",
       "    </tr>\n",
       "    <tr>\n",
       "      <th>16</th>\n",
       "      <td>0.249936</td>\n",
       "      <td>101.544349</td>\n",
       "      <td>0.935183</td>\n",
       "      <td>0.237622</td>\n",
       "      <td>102.097798</td>\n",
       "      <td>1.025379</td>\n",
       "      <td>0.229973</td>\n",
       "      <td>96.042402</td>\n",
       "      <td>0.916984</td>\n",
       "      <td>0.020113</td>\n",
       "      <td>...</td>\n",
       "      <td>2.659348</td>\n",
       "      <td>-0.124394</td>\n",
       "      <td>15.406212</td>\n",
       "      <td>2.586391</td>\n",
       "      <td>-0.172893</td>\n",
       "      <td>7.440839</td>\n",
       "      <td>3.373142</td>\n",
       "      <td>-0.128841</td>\n",
       "      <td>5.196636</td>\n",
       "      <td>3.643959</td>\n",
       "    </tr>\n",
       "    <tr>\n",
       "      <th>17</th>\n",
       "      <td>0.246270</td>\n",
       "      <td>101.098385</td>\n",
       "      <td>0.930937</td>\n",
       "      <td>0.249788</td>\n",
       "      <td>100.955749</td>\n",
       "      <td>1.004535</td>\n",
       "      <td>0.229973</td>\n",
       "      <td>96.042402</td>\n",
       "      <td>0.916984</td>\n",
       "      <td>-0.004888</td>\n",
       "      <td>...</td>\n",
       "      <td>2.659348</td>\n",
       "      <td>-0.124394</td>\n",
       "      <td>15.406212</td>\n",
       "      <td>2.586391</td>\n",
       "      <td>-0.172893</td>\n",
       "      <td>7.440839</td>\n",
       "      <td>3.373142</td>\n",
       "      <td>-0.128841</td>\n",
       "      <td>5.196636</td>\n",
       "      <td>3.643959</td>\n",
       "    </tr>\n",
       "    <tr>\n",
       "      <th>18</th>\n",
       "      <td>0.205127</td>\n",
       "      <td>97.030412</td>\n",
       "      <td>0.984426</td>\n",
       "      <td>0.253153</td>\n",
       "      <td>100.161508</td>\n",
       "      <td>0.995195</td>\n",
       "      <td>0.229973</td>\n",
       "      <td>96.042402</td>\n",
       "      <td>0.916984</td>\n",
       "      <td>-0.003198</td>\n",
       "      <td>...</td>\n",
       "      <td>2.659348</td>\n",
       "      <td>-0.124394</td>\n",
       "      <td>15.406212</td>\n",
       "      <td>2.586391</td>\n",
       "      <td>-0.172893</td>\n",
       "      <td>7.440839</td>\n",
       "      <td>3.373142</td>\n",
       "      <td>-0.128841</td>\n",
       "      <td>5.196636</td>\n",
       "      <td>3.643959</td>\n",
       "    </tr>\n",
       "    <tr>\n",
       "      <th>19</th>\n",
       "      <td>0.240613</td>\n",
       "      <td>95.231751</td>\n",
       "      <td>1.108339</td>\n",
       "      <td>0.252007</td>\n",
       "      <td>100.005461</td>\n",
       "      <td>0.946917</td>\n",
       "      <td>0.229973</td>\n",
       "      <td>96.042402</td>\n",
       "      <td>0.916984</td>\n",
       "      <td>-0.035480</td>\n",
       "      <td>...</td>\n",
       "      <td>2.659348</td>\n",
       "      <td>-0.124394</td>\n",
       "      <td>15.406212</td>\n",
       "      <td>2.586391</td>\n",
       "      <td>-0.172893</td>\n",
       "      <td>7.440839</td>\n",
       "      <td>3.373142</td>\n",
       "      <td>-0.128841</td>\n",
       "      <td>5.196636</td>\n",
       "      <td>3.643959</td>\n",
       "    </tr>\n",
       "    <tr>\n",
       "      <th>20</th>\n",
       "      <td>0.261807</td>\n",
       "      <td>96.475820</td>\n",
       "      <td>0.908027</td>\n",
       "      <td>0.248400</td>\n",
       "      <td>99.440606</td>\n",
       "      <td>0.957840</td>\n",
       "      <td>0.229973</td>\n",
       "      <td>96.042402</td>\n",
       "      <td>0.916984</td>\n",
       "      <td>-0.025497</td>\n",
       "      <td>...</td>\n",
       "      <td>2.659348</td>\n",
       "      <td>-0.124394</td>\n",
       "      <td>15.406212</td>\n",
       "      <td>2.586391</td>\n",
       "      <td>-0.172893</td>\n",
       "      <td>7.440839</td>\n",
       "      <td>3.373142</td>\n",
       "      <td>-0.128841</td>\n",
       "      <td>5.196636</td>\n",
       "      <td>3.643959</td>\n",
       "    </tr>\n",
       "    <tr>\n",
       "      <th>21</th>\n",
       "      <td>0.194031</td>\n",
       "      <td>94.420326</td>\n",
       "      <td>0.972938</td>\n",
       "      <td>0.243863</td>\n",
       "      <td>97.198475</td>\n",
       "      <td>0.977862</td>\n",
       "      <td>0.229973</td>\n",
       "      <td>96.042402</td>\n",
       "      <td>0.916984</td>\n",
       "      <td>-0.082030</td>\n",
       "      <td>...</td>\n",
       "      <td>2.659348</td>\n",
       "      <td>-0.124394</td>\n",
       "      <td>15.406212</td>\n",
       "      <td>2.586391</td>\n",
       "      <td>-0.172893</td>\n",
       "      <td>7.440839</td>\n",
       "      <td>3.373142</td>\n",
       "      <td>-0.128841</td>\n",
       "      <td>5.196636</td>\n",
       "      <td>3.643959</td>\n",
       "    </tr>\n",
       "    <tr>\n",
       "      <th>22</th>\n",
       "      <td>0.194334</td>\n",
       "      <td>90.991970</td>\n",
       "      <td>1.003349</td>\n",
       "      <td>0.242130</td>\n",
       "      <td>95.285783</td>\n",
       "      <td>0.946411</td>\n",
       "      <td>0.229973</td>\n",
       "      <td>96.042402</td>\n",
       "      <td>0.916984</td>\n",
       "      <td>-0.056105</td>\n",
       "      <td>...</td>\n",
       "      <td>2.659348</td>\n",
       "      <td>-0.124394</td>\n",
       "      <td>15.406212</td>\n",
       "      <td>2.586391</td>\n",
       "      <td>-0.172893</td>\n",
       "      <td>7.440839</td>\n",
       "      <td>3.373142</td>\n",
       "      <td>-0.128841</td>\n",
       "      <td>5.196636</td>\n",
       "      <td>3.643959</td>\n",
       "    </tr>\n",
       "    <tr>\n",
       "      <th>23</th>\n",
       "      <td>0.200568</td>\n",
       "      <td>90.567331</td>\n",
       "      <td>1.001827</td>\n",
       "      <td>0.243147</td>\n",
       "      <td>93.640943</td>\n",
       "      <td>0.947952</td>\n",
       "      <td>0.229973</td>\n",
       "      <td>96.042402</td>\n",
       "      <td>0.916984</td>\n",
       "      <td>-0.037052</td>\n",
       "      <td>...</td>\n",
       "      <td>2.659348</td>\n",
       "      <td>-0.124394</td>\n",
       "      <td>15.406212</td>\n",
       "      <td>2.586391</td>\n",
       "      <td>-0.172893</td>\n",
       "      <td>7.440839</td>\n",
       "      <td>3.373142</td>\n",
       "      <td>-0.128841</td>\n",
       "      <td>5.196636</td>\n",
       "      <td>3.643959</td>\n",
       "    </tr>\n",
       "    <tr>\n",
       "      <th>24</th>\n",
       "      <td>0.206120</td>\n",
       "      <td>91.684119</td>\n",
       "      <td>1.008287</td>\n",
       "      <td>0.244207</td>\n",
       "      <td>92.316075</td>\n",
       "      <td>0.951650</td>\n",
       "      <td>0.229973</td>\n",
       "      <td>96.042402</td>\n",
       "      <td>0.916984</td>\n",
       "      <td>-0.030128</td>\n",
       "      <td>...</td>\n",
       "      <td>2.659348</td>\n",
       "      <td>-0.124394</td>\n",
       "      <td>15.406212</td>\n",
       "      <td>2.586391</td>\n",
       "      <td>-0.172893</td>\n",
       "      <td>7.440839</td>\n",
       "      <td>3.373142</td>\n",
       "      <td>-0.128841</td>\n",
       "      <td>5.196636</td>\n",
       "      <td>3.643959</td>\n",
       "    </tr>\n",
       "    <tr>\n",
       "      <th>25</th>\n",
       "      <td>0.246164</td>\n",
       "      <td>88.474139</td>\n",
       "      <td>0.917306</td>\n",
       "      <td>0.229151</td>\n",
       "      <td>91.217071</td>\n",
       "      <td>0.953669</td>\n",
       "      <td>0.229973</td>\n",
       "      <td>96.042402</td>\n",
       "      <td>0.916984</td>\n",
       "      <td>0.074445</td>\n",
       "      <td>...</td>\n",
       "      <td>2.659348</td>\n",
       "      <td>-0.124394</td>\n",
       "      <td>15.406212</td>\n",
       "      <td>2.586391</td>\n",
       "      <td>-0.172893</td>\n",
       "      <td>7.440839</td>\n",
       "      <td>3.373142</td>\n",
       "      <td>-0.128841</td>\n",
       "      <td>5.196636</td>\n",
       "      <td>3.643959</td>\n",
       "    </tr>\n",
       "    <tr>\n",
       "      <th>26</th>\n",
       "      <td>0.186495</td>\n",
       "      <td>88.029837</td>\n",
       "      <td>0.944413</td>\n",
       "      <td>0.224524</td>\n",
       "      <td>90.257572</td>\n",
       "      <td>0.978960</td>\n",
       "      <td>0.229973</td>\n",
       "      <td>96.042402</td>\n",
       "      <td>0.916984</td>\n",
       "      <td>-0.100521</td>\n",
       "      <td>...</td>\n",
       "      <td>2.659348</td>\n",
       "      <td>-0.124394</td>\n",
       "      <td>15.406212</td>\n",
       "      <td>2.586391</td>\n",
       "      <td>-0.172893</td>\n",
       "      <td>7.440839</td>\n",
       "      <td>3.373142</td>\n",
       "      <td>-0.128841</td>\n",
       "      <td>5.196636</td>\n",
       "      <td>3.643959</td>\n",
       "    </tr>\n",
       "    <tr>\n",
       "      <th>27</th>\n",
       "      <td>0.194350</td>\n",
       "      <td>86.959254</td>\n",
       "      <td>0.949492</td>\n",
       "      <td>0.223597</td>\n",
       "      <td>89.518474</td>\n",
       "      <td>0.931125</td>\n",
       "      <td>0.229973</td>\n",
       "      <td>96.042402</td>\n",
       "      <td>0.916984</td>\n",
       "      <td>0.052291</td>\n",
       "      <td>...</td>\n",
       "      <td>2.659348</td>\n",
       "      <td>-0.124394</td>\n",
       "      <td>15.406212</td>\n",
       "      <td>2.586391</td>\n",
       "      <td>-0.172893</td>\n",
       "      <td>7.440839</td>\n",
       "      <td>3.373142</td>\n",
       "      <td>-0.128841</td>\n",
       "      <td>5.196636</td>\n",
       "      <td>3.643959</td>\n",
       "    </tr>\n",
       "    <tr>\n",
       "      <th>28</th>\n",
       "      <td>0.179016</td>\n",
       "      <td>85.771191</td>\n",
       "      <td>0.995402</td>\n",
       "      <td>0.224312</td>\n",
       "      <td>89.011058</td>\n",
       "      <td>0.878767</td>\n",
       "      <td>0.229973</td>\n",
       "      <td>96.042402</td>\n",
       "      <td>0.916984</td>\n",
       "      <td>-0.073428</td>\n",
       "      <td>...</td>\n",
       "      <td>2.659348</td>\n",
       "      <td>-0.124394</td>\n",
       "      <td>15.406212</td>\n",
       "      <td>2.586391</td>\n",
       "      <td>-0.172893</td>\n",
       "      <td>7.440839</td>\n",
       "      <td>3.373142</td>\n",
       "      <td>-0.128841</td>\n",
       "      <td>5.196636</td>\n",
       "      <td>3.643959</td>\n",
       "    </tr>\n",
       "    <tr>\n",
       "      <th>29</th>\n",
       "      <td>0.197519</td>\n",
       "      <td>85.382756</td>\n",
       "      <td>0.925728</td>\n",
       "      <td>0.220141</td>\n",
       "      <td>88.156601</td>\n",
       "      <td>0.881771</td>\n",
       "      <td>0.229973</td>\n",
       "      <td>96.042402</td>\n",
       "      <td>0.916984</td>\n",
       "      <td>-0.047376</td>\n",
       "      <td>...</td>\n",
       "      <td>2.659348</td>\n",
       "      <td>-0.124394</td>\n",
       "      <td>15.406212</td>\n",
       "      <td>2.586391</td>\n",
       "      <td>-0.172893</td>\n",
       "      <td>7.440839</td>\n",
       "      <td>3.373142</td>\n",
       "      <td>-0.128841</td>\n",
       "      <td>5.196636</td>\n",
       "      <td>3.643959</td>\n",
       "    </tr>\n",
       "    <tr>\n",
       "      <th>30</th>\n",
       "      <td>0.167601</td>\n",
       "      <td>85.455843</td>\n",
       "      <td>1.096963</td>\n",
       "      <td>0.218944</td>\n",
       "      <td>87.467778</td>\n",
       "      <td>0.899125</td>\n",
       "      <td>0.229973</td>\n",
       "      <td>96.042402</td>\n",
       "      <td>0.916984</td>\n",
       "      <td>-0.045643</td>\n",
       "      <td>...</td>\n",
       "      <td>2.659348</td>\n",
       "      <td>-0.124394</td>\n",
       "      <td>15.406212</td>\n",
       "      <td>2.586391</td>\n",
       "      <td>-0.172893</td>\n",
       "      <td>7.440839</td>\n",
       "      <td>3.373142</td>\n",
       "      <td>-0.128841</td>\n",
       "      <td>5.196636</td>\n",
       "      <td>3.643959</td>\n",
       "    </tr>\n",
       "  </tbody>\n",
       "</table>\n",
       "<p>29 rows × 30 columns</p>\n",
       "</div>"
      ],
      "text/plain": [
       "           Silhouette score Kmeans  Calinski Harabasz score Kmeans  \\\n",
       "N cluster                                                            \n",
       "2                         0.677714                      163.347117   \n",
       "3                         0.478115                      143.961829   \n",
       "4                         0.493140                      140.237503   \n",
       "5                         0.441532                      131.139719   \n",
       "6                         0.361552                      126.372254   \n",
       "7                         0.407706                      124.083975   \n",
       "8                         0.416655                      126.951559   \n",
       "9                         0.339259                      124.085950   \n",
       "10                        0.259934                      120.499064   \n",
       "11                        0.249204                      114.801789   \n",
       "12                        0.266487                      111.297242   \n",
       "13                        0.234553                      106.412715   \n",
       "14                        0.242174                      109.049063   \n",
       "15                        0.248354                      105.026668   \n",
       "16                        0.249936                      101.544349   \n",
       "17                        0.246270                      101.098385   \n",
       "18                        0.205127                       97.030412   \n",
       "19                        0.240613                       95.231751   \n",
       "20                        0.261807                       96.475820   \n",
       "21                        0.194031                       94.420326   \n",
       "22                        0.194334                       90.991970   \n",
       "23                        0.200568                       90.567331   \n",
       "24                        0.206120                       91.684119   \n",
       "25                        0.246164                       88.474139   \n",
       "26                        0.186495                       88.029837   \n",
       "27                        0.194350                       86.959254   \n",
       "28                        0.179016                       85.771191   \n",
       "29                        0.197519                       85.382756   \n",
       "30                        0.167601                       85.455843   \n",
       "\n",
       "           Davies Bouldin score Kmeans  \\\n",
       "N cluster                                \n",
       "2                             0.573265   \n",
       "3                             0.884293   \n",
       "4                             0.766433   \n",
       "5                             0.835908   \n",
       "6                             0.897067   \n",
       "7                             0.835256   \n",
       "8                             0.727208   \n",
       "9                             0.798491   \n",
       "10                            0.934306   \n",
       "11                            0.963701   \n",
       "12                            0.972614   \n",
       "13                            0.907258   \n",
       "14                            1.031939   \n",
       "15                            0.917918   \n",
       "16                            0.935183   \n",
       "17                            0.930937   \n",
       "18                            0.984426   \n",
       "19                            1.108339   \n",
       "20                            0.908027   \n",
       "21                            0.972938   \n",
       "22                            1.003349   \n",
       "23                            1.001827   \n",
       "24                            1.008287   \n",
       "25                            0.917306   \n",
       "26                            0.944413   \n",
       "27                            0.949492   \n",
       "28                            0.995402   \n",
       "29                            0.925728   \n",
       "30                            1.096963   \n",
       "\n",
       "           Silhouette score Hierarchical Agglomerative  \\\n",
       "N cluster                                                \n",
       "2                                             0.624729   \n",
       "3                                             0.437283   \n",
       "4                                             0.453831   \n",
       "5                                             0.418285   \n",
       "6                                             0.419120   \n",
       "7                                             0.415010   \n",
       "8                                             0.408691   \n",
       "9                                             0.223656   \n",
       "10                                            0.227136   \n",
       "11                                            0.230184   \n",
       "12                                            0.229803   \n",
       "13                                            0.241538   \n",
       "14                                            0.233564   \n",
       "15                                            0.237060   \n",
       "16                                            0.237622   \n",
       "17                                            0.249788   \n",
       "18                                            0.253153   \n",
       "19                                            0.252007   \n",
       "20                                            0.248400   \n",
       "21                                            0.243863   \n",
       "22                                            0.242130   \n",
       "23                                            0.243147   \n",
       "24                                            0.244207   \n",
       "25                                            0.229151   \n",
       "26                                            0.224524   \n",
       "27                                            0.223597   \n",
       "28                                            0.224312   \n",
       "29                                            0.220141   \n",
       "30                                            0.218944   \n",
       "\n",
       "           Calinski Harabasz score Hierarchical Agglomerative  \\\n",
       "N cluster                                                       \n",
       "2                                                 144.020450    \n",
       "3                                                 122.132761    \n",
       "4                                                 132.565451    \n",
       "5                                                 126.263062    \n",
       "6                                                 119.760287    \n",
       "7                                                 116.575106    \n",
       "8                                                 117.957686    \n",
       "9                                                 114.052659    \n",
       "10                                                110.649018    \n",
       "11                                                109.210665    \n",
       "12                                                109.335187    \n",
       "13                                                108.093755    \n",
       "14                                                105.292541    \n",
       "15                                                103.467244    \n",
       "16                                                102.097798    \n",
       "17                                                100.955749    \n",
       "18                                                100.161508    \n",
       "19                                                100.005461    \n",
       "20                                                 99.440606    \n",
       "21                                                 97.198475    \n",
       "22                                                 95.285783    \n",
       "23                                                 93.640943    \n",
       "24                                                 92.316075    \n",
       "25                                                 91.217071    \n",
       "26                                                 90.257572    \n",
       "27                                                 89.518474    \n",
       "28                                                 89.011058    \n",
       "29                                                 88.156601    \n",
       "30                                                 87.467778    \n",
       "\n",
       "           Davies Bouldin score Hierarchical Agglomerative  \\\n",
       "N cluster                                                    \n",
       "2                                                 0.716934   \n",
       "3                                                 0.967118   \n",
       "4                                                 0.892859   \n",
       "5                                                 0.891927   \n",
       "6                                                 0.771043   \n",
       "7                                                 0.760419   \n",
       "8                                                 0.659727   \n",
       "9                                                 0.953232   \n",
       "10                                                0.961536   \n",
       "11                                                1.015317   \n",
       "12                                                1.014059   \n",
       "13                                                1.009834   \n",
       "14                                                1.010710   \n",
       "15                                                0.961474   \n",
       "16                                                1.025379   \n",
       "17                                                1.004535   \n",
       "18                                                0.995195   \n",
       "19                                                0.946917   \n",
       "20                                                0.957840   \n",
       "21                                                0.977862   \n",
       "22                                                0.946411   \n",
       "23                                                0.947952   \n",
       "24                                                0.951650   \n",
       "25                                                0.953669   \n",
       "26                                                0.978960   \n",
       "27                                                0.931125   \n",
       "28                                                0.878767   \n",
       "29                                                0.881771   \n",
       "30                                                0.899125   \n",
       "\n",
       "           Silhouette score Affinity propagation  \\\n",
       "N cluster                                          \n",
       "2                                       0.229973   \n",
       "3                                       0.229973   \n",
       "4                                       0.229973   \n",
       "5                                       0.229973   \n",
       "6                                       0.229973   \n",
       "7                                       0.229973   \n",
       "8                                       0.229973   \n",
       "9                                       0.229973   \n",
       "10                                      0.229973   \n",
       "11                                      0.229973   \n",
       "12                                      0.229973   \n",
       "13                                      0.229973   \n",
       "14                                      0.229973   \n",
       "15                                      0.229973   \n",
       "16                                      0.229973   \n",
       "17                                      0.229973   \n",
       "18                                      0.229973   \n",
       "19                                      0.229973   \n",
       "20                                      0.229973   \n",
       "21                                      0.229973   \n",
       "22                                      0.229973   \n",
       "23                                      0.229973   \n",
       "24                                      0.229973   \n",
       "25                                      0.229973   \n",
       "26                                      0.229973   \n",
       "27                                      0.229973   \n",
       "28                                      0.229973   \n",
       "29                                      0.229973   \n",
       "30                                      0.229973   \n",
       "\n",
       "           Calinski Harabasz score Affinity propagation  \\\n",
       "N cluster                                                 \n",
       "2                                             96.042402   \n",
       "3                                             96.042402   \n",
       "4                                             96.042402   \n",
       "5                                             96.042402   \n",
       "6                                             96.042402   \n",
       "7                                             96.042402   \n",
       "8                                             96.042402   \n",
       "9                                             96.042402   \n",
       "10                                            96.042402   \n",
       "11                                            96.042402   \n",
       "12                                            96.042402   \n",
       "13                                            96.042402   \n",
       "14                                            96.042402   \n",
       "15                                            96.042402   \n",
       "16                                            96.042402   \n",
       "17                                            96.042402   \n",
       "18                                            96.042402   \n",
       "19                                            96.042402   \n",
       "20                                            96.042402   \n",
       "21                                            96.042402   \n",
       "22                                            96.042402   \n",
       "23                                            96.042402   \n",
       "24                                            96.042402   \n",
       "25                                            96.042402   \n",
       "26                                            96.042402   \n",
       "27                                            96.042402   \n",
       "28                                            96.042402   \n",
       "29                                            96.042402   \n",
       "30                                            96.042402   \n",
       "\n",
       "           Davies Bouldin score Affinity propagation  Silhouette score Fuzzy  \\\n",
       "N cluster                                                                      \n",
       "2                                           0.916984                0.668198   \n",
       "3                                           0.916984                0.455283   \n",
       "4                                           0.916984                0.225661   \n",
       "5                                           0.916984                0.194740   \n",
       "6                                           0.916984                0.088970   \n",
       "7                                           0.916984                0.170106   \n",
       "8                                           0.916984                0.118835   \n",
       "9                                           0.916984                0.127996   \n",
       "10                                          0.916984                0.118555   \n",
       "11                                          0.916984                0.076526   \n",
       "12                                          0.916984               -0.013822   \n",
       "13                                          0.916984                0.047292   \n",
       "14                                          0.916984               -0.060333   \n",
       "15                                          0.916984                0.002273   \n",
       "16                                          0.916984                0.020113   \n",
       "17                                          0.916984               -0.004888   \n",
       "18                                          0.916984               -0.003198   \n",
       "19                                          0.916984               -0.035480   \n",
       "20                                          0.916984               -0.025497   \n",
       "21                                          0.916984               -0.082030   \n",
       "22                                          0.916984               -0.056105   \n",
       "23                                          0.916984               -0.037052   \n",
       "24                                          0.916984               -0.030128   \n",
       "25                                          0.916984                0.074445   \n",
       "26                                          0.916984               -0.100521   \n",
       "27                                          0.916984                0.052291   \n",
       "28                                          0.916984               -0.073428   \n",
       "29                                          0.916984               -0.047376   \n",
       "30                                          0.916984               -0.045643   \n",
       "\n",
       "           ...  Davies Bouldin score Som7x7  Silhouette score Som5x5  \\\n",
       "N cluster  ...                                                         \n",
       "2          ...                     2.659348                -0.124394   \n",
       "3          ...                     2.659348                -0.124394   \n",
       "4          ...                     2.659348                -0.124394   \n",
       "5          ...                     2.659348                -0.124394   \n",
       "6          ...                     2.659348                -0.124394   \n",
       "7          ...                     2.659348                -0.124394   \n",
       "8          ...                     2.659348                -0.124394   \n",
       "9          ...                     2.659348                -0.124394   \n",
       "10         ...                     2.659348                -0.124394   \n",
       "11         ...                     2.659348                -0.124394   \n",
       "12         ...                     2.659348                -0.124394   \n",
       "13         ...                     2.659348                -0.124394   \n",
       "14         ...                     2.659348                -0.124394   \n",
       "15         ...                     2.659348                -0.124394   \n",
       "16         ...                     2.659348                -0.124394   \n",
       "17         ...                     2.659348                -0.124394   \n",
       "18         ...                     2.659348                -0.124394   \n",
       "19         ...                     2.659348                -0.124394   \n",
       "20         ...                     2.659348                -0.124394   \n",
       "21         ...                     2.659348                -0.124394   \n",
       "22         ...                     2.659348                -0.124394   \n",
       "23         ...                     2.659348                -0.124394   \n",
       "24         ...                     2.659348                -0.124394   \n",
       "25         ...                     2.659348                -0.124394   \n",
       "26         ...                     2.659348                -0.124394   \n",
       "27         ...                     2.659348                -0.124394   \n",
       "28         ...                     2.659348                -0.124394   \n",
       "29         ...                     2.659348                -0.124394   \n",
       "30         ...                     2.659348                -0.124394   \n",
       "\n",
       "           Calinski Harabasz score Som5x5  Davies Bouldin score Som5x5  \\\n",
       "N cluster                                                                \n",
       "2                               15.406212                     2.586391   \n",
       "3                               15.406212                     2.586391   \n",
       "4                               15.406212                     2.586391   \n",
       "5                               15.406212                     2.586391   \n",
       "6                               15.406212                     2.586391   \n",
       "7                               15.406212                     2.586391   \n",
       "8                               15.406212                     2.586391   \n",
       "9                               15.406212                     2.586391   \n",
       "10                              15.406212                     2.586391   \n",
       "11                              15.406212                     2.586391   \n",
       "12                              15.406212                     2.586391   \n",
       "13                              15.406212                     2.586391   \n",
       "14                              15.406212                     2.586391   \n",
       "15                              15.406212                     2.586391   \n",
       "16                              15.406212                     2.586391   \n",
       "17                              15.406212                     2.586391   \n",
       "18                              15.406212                     2.586391   \n",
       "19                              15.406212                     2.586391   \n",
       "20                              15.406212                     2.586391   \n",
       "21                              15.406212                     2.586391   \n",
       "22                              15.406212                     2.586391   \n",
       "23                              15.406212                     2.586391   \n",
       "24                              15.406212                     2.586391   \n",
       "25                              15.406212                     2.586391   \n",
       "26                              15.406212                     2.586391   \n",
       "27                              15.406212                     2.586391   \n",
       "28                              15.406212                     2.586391   \n",
       "29                              15.406212                     2.586391   \n",
       "30                              15.406212                     2.586391   \n",
       "\n",
       "           Silhouette score Som4x4  Calinski Harabasz score Som4x4  \\\n",
       "N cluster                                                            \n",
       "2                        -0.172893                        7.440839   \n",
       "3                        -0.172893                        7.440839   \n",
       "4                        -0.172893                        7.440839   \n",
       "5                        -0.172893                        7.440839   \n",
       "6                        -0.172893                        7.440839   \n",
       "7                        -0.172893                        7.440839   \n",
       "8                        -0.172893                        7.440839   \n",
       "9                        -0.172893                        7.440839   \n",
       "10                       -0.172893                        7.440839   \n",
       "11                       -0.172893                        7.440839   \n",
       "12                       -0.172893                        7.440839   \n",
       "13                       -0.172893                        7.440839   \n",
       "14                       -0.172893                        7.440839   \n",
       "15                       -0.172893                        7.440839   \n",
       "16                       -0.172893                        7.440839   \n",
       "17                       -0.172893                        7.440839   \n",
       "18                       -0.172893                        7.440839   \n",
       "19                       -0.172893                        7.440839   \n",
       "20                       -0.172893                        7.440839   \n",
       "21                       -0.172893                        7.440839   \n",
       "22                       -0.172893                        7.440839   \n",
       "23                       -0.172893                        7.440839   \n",
       "24                       -0.172893                        7.440839   \n",
       "25                       -0.172893                        7.440839   \n",
       "26                       -0.172893                        7.440839   \n",
       "27                       -0.172893                        7.440839   \n",
       "28                       -0.172893                        7.440839   \n",
       "29                       -0.172893                        7.440839   \n",
       "30                       -0.172893                        7.440839   \n",
       "\n",
       "           Davies Bouldin score Som4x4  Silhouette score Som3x3  \\\n",
       "N cluster                                                         \n",
       "2                             3.373142                -0.128841   \n",
       "3                             3.373142                -0.128841   \n",
       "4                             3.373142                -0.128841   \n",
       "5                             3.373142                -0.128841   \n",
       "6                             3.373142                -0.128841   \n",
       "7                             3.373142                -0.128841   \n",
       "8                             3.373142                -0.128841   \n",
       "9                             3.373142                -0.128841   \n",
       "10                            3.373142                -0.128841   \n",
       "11                            3.373142                -0.128841   \n",
       "12                            3.373142                -0.128841   \n",
       "13                            3.373142                -0.128841   \n",
       "14                            3.373142                -0.128841   \n",
       "15                            3.373142                -0.128841   \n",
       "16                            3.373142                -0.128841   \n",
       "17                            3.373142                -0.128841   \n",
       "18                            3.373142                -0.128841   \n",
       "19                            3.373142                -0.128841   \n",
       "20                            3.373142                -0.128841   \n",
       "21                            3.373142                -0.128841   \n",
       "22                            3.373142                -0.128841   \n",
       "23                            3.373142                -0.128841   \n",
       "24                            3.373142                -0.128841   \n",
       "25                            3.373142                -0.128841   \n",
       "26                            3.373142                -0.128841   \n",
       "27                            3.373142                -0.128841   \n",
       "28                            3.373142                -0.128841   \n",
       "29                            3.373142                -0.128841   \n",
       "30                            3.373142                -0.128841   \n",
       "\n",
       "           Calinski Harabasz score Som3x3  Davies Bouldin score Som3x3  \n",
       "N cluster                                                               \n",
       "2                                5.196636                     3.643959  \n",
       "3                                5.196636                     3.643959  \n",
       "4                                5.196636                     3.643959  \n",
       "5                                5.196636                     3.643959  \n",
       "6                                5.196636                     3.643959  \n",
       "7                                5.196636                     3.643959  \n",
       "8                                5.196636                     3.643959  \n",
       "9                                5.196636                     3.643959  \n",
       "10                               5.196636                     3.643959  \n",
       "11                               5.196636                     3.643959  \n",
       "12                               5.196636                     3.643959  \n",
       "13                               5.196636                     3.643959  \n",
       "14                               5.196636                     3.643959  \n",
       "15                               5.196636                     3.643959  \n",
       "16                               5.196636                     3.643959  \n",
       "17                               5.196636                     3.643959  \n",
       "18                               5.196636                     3.643959  \n",
       "19                               5.196636                     3.643959  \n",
       "20                               5.196636                     3.643959  \n",
       "21                               5.196636                     3.643959  \n",
       "22                               5.196636                     3.643959  \n",
       "23                               5.196636                     3.643959  \n",
       "24                               5.196636                     3.643959  \n",
       "25                               5.196636                     3.643959  \n",
       "26                               5.196636                     3.643959  \n",
       "27                               5.196636                     3.643959  \n",
       "28                               5.196636                     3.643959  \n",
       "29                               5.196636                     3.643959  \n",
       "30                               5.196636                     3.643959  \n",
       "\n",
       "[29 rows x 30 columns]"
      ]
     },
     "execution_count": 62,
     "metadata": {},
     "output_type": "execute_result"
    }
   ],
   "source": [
    "df_metrics"
   ]
  },
  {
   "cell_type": "code",
   "execution_count": 63,
   "metadata": {},
   "outputs": [],
   "source": [
    "df_metrics.to_excel('all_metrics.xlsx')"
   ]
  },
  {
   "cell_type": "code",
   "execution_count": 71,
   "metadata": {},
   "outputs": [
    {
     "data": {
      "text/plain": [
       "163"
      ]
     },
     "execution_count": 71,
     "metadata": {},
     "output_type": "execute_result"
    }
   ],
   "source": [
    "df_labels['Auto som'].nunique()"
   ]
  }
 ],
 "metadata": {
  "interpreter": {
   "hash": "916dbcbb3f70747c44a77c7bcd40155683ae19c65e1c03b4aa3499c5328201f1"
  },
  "kernelspec": {
   "display_name": "Python 3.8.10 64-bit",
   "language": "python",
   "name": "python3"
  },
  "language_info": {
   "codemirror_mode": {
    "name": "ipython",
    "version": 3
   },
   "file_extension": ".py",
   "mimetype": "text/x-python",
   "name": "python",
   "nbconvert_exporter": "python",
   "pygments_lexer": "ipython3",
   "version": "3.8.10"
  },
  "orig_nbformat": 4
 },
 "nbformat": 4,
 "nbformat_minor": 2
}
