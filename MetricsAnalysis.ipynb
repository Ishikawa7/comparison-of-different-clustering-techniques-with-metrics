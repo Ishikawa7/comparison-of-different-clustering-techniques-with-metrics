{
 "cells": [
  {
   "cell_type": "markdown",
   "metadata": {},
   "source": [
    "# Analisi metriche"
   ]
  },
  {
   "cell_type": "code",
   "execution_count": 1,
   "metadata": {},
   "outputs": [],
   "source": [
    "import os\n",
    "\n",
    "import pandas as pd\n",
    "import numpy as np\n",
    "\n",
    "import matplotlib.pyplot as plt\n",
    "import seaborn as sns\n",
    "import plotly.express as px\n",
    "sns.set()\n",
    "\n",
    "from sklearn import metrics\n",
    "from scipy.spatial.distance import euclidean\n",
    "from scipy.spatial.distance import cdist"
   ]
  },
  {
   "cell_type": "code",
   "execution_count": 3,
   "metadata": {},
   "outputs": [
    {
     "data": {
      "text/html": [
       "<div>\n",
       "<style scoped>\n",
       "    .dataframe tbody tr th:only-of-type {\n",
       "        vertical-align: middle;\n",
       "    }\n",
       "\n",
       "    .dataframe tbody tr th {\n",
       "        vertical-align: top;\n",
       "    }\n",
       "\n",
       "    .dataframe thead th {\n",
       "        text-align: right;\n",
       "    }\n",
       "</style>\n",
       "<table border=\"1\" class=\"dataframe\">\n",
       "  <thead>\n",
       "    <tr style=\"text-align: right;\">\n",
       "      <th></th>\n",
       "      <th>Silhouette score Kmeans</th>\n",
       "      <th>Calinski Harabasz score Kmeans</th>\n",
       "      <th>Davies Bouldin score Kmeans</th>\n",
       "      <th>Silhouette score Hierarchical Agglomerative</th>\n",
       "      <th>Calinski Harabasz score Hierarchical Agglomerative</th>\n",
       "      <th>Davies Bouldin score Hierarchical Agglomerative</th>\n",
       "      <th>Silhouette score Affinity propagation</th>\n",
       "      <th>Calinski Harabasz score Affinity propagation</th>\n",
       "      <th>Davies Bouldin score Affinity propagation</th>\n",
       "      <th>Silhouette score Fuzzy</th>\n",
       "      <th>...</th>\n",
       "      <th>Davies Bouldin score Fuzzy</th>\n",
       "      <th>Silhouette score Som5x5</th>\n",
       "      <th>Calinski Harabasz score Som5x5</th>\n",
       "      <th>Davies Bouldin score Som5x5</th>\n",
       "      <th>Silhouette score Som4x4</th>\n",
       "      <th>Calinski Harabasz score Som4x4</th>\n",
       "      <th>Davies Bouldin score Som4x4</th>\n",
       "      <th>Silhouette score Som3x3</th>\n",
       "      <th>Calinski Harabasz score Som3x3</th>\n",
       "      <th>Davies Bouldin score Som3x3</th>\n",
       "    </tr>\n",
       "    <tr>\n",
       "      <th>N cluster</th>\n",
       "      <th></th>\n",
       "      <th></th>\n",
       "      <th></th>\n",
       "      <th></th>\n",
       "      <th></th>\n",
       "      <th></th>\n",
       "      <th></th>\n",
       "      <th></th>\n",
       "      <th></th>\n",
       "      <th></th>\n",
       "      <th></th>\n",
       "      <th></th>\n",
       "      <th></th>\n",
       "      <th></th>\n",
       "      <th></th>\n",
       "      <th></th>\n",
       "      <th></th>\n",
       "      <th></th>\n",
       "      <th></th>\n",
       "      <th></th>\n",
       "      <th></th>\n",
       "    </tr>\n",
       "  </thead>\n",
       "  <tbody>\n",
       "    <tr>\n",
       "      <th>2</th>\n",
       "      <td>0.677714</td>\n",
       "      <td>163.347117</td>\n",
       "      <td>0.573265</td>\n",
       "      <td>0.624729</td>\n",
       "      <td>144.020450</td>\n",
       "      <td>0.716934</td>\n",
       "      <td>n.a.</td>\n",
       "      <td>n.a.</td>\n",
       "      <td>n.a.</td>\n",
       "      <td>0.668198</td>\n",
       "      <td>...</td>\n",
       "      <td>0.601600</td>\n",
       "      <td>n.a.</td>\n",
       "      <td>n.a.</td>\n",
       "      <td>n.a.</td>\n",
       "      <td>n.a.</td>\n",
       "      <td>n.a.</td>\n",
       "      <td>n.a.</td>\n",
       "      <td>n.a.</td>\n",
       "      <td>n.a.</td>\n",
       "      <td>n.a.</td>\n",
       "    </tr>\n",
       "    <tr>\n",
       "      <th>3</th>\n",
       "      <td>0.478115</td>\n",
       "      <td>143.961829</td>\n",
       "      <td>0.884293</td>\n",
       "      <td>0.437283</td>\n",
       "      <td>122.132761</td>\n",
       "      <td>0.967118</td>\n",
       "      <td>n.a.</td>\n",
       "      <td>n.a.</td>\n",
       "      <td>n.a.</td>\n",
       "      <td>0.455283</td>\n",
       "      <td>...</td>\n",
       "      <td>0.928261</td>\n",
       "      <td>n.a.</td>\n",
       "      <td>n.a.</td>\n",
       "      <td>n.a.</td>\n",
       "      <td>n.a.</td>\n",
       "      <td>n.a.</td>\n",
       "      <td>n.a.</td>\n",
       "      <td>n.a.</td>\n",
       "      <td>n.a.</td>\n",
       "      <td>n.a.</td>\n",
       "    </tr>\n",
       "    <tr>\n",
       "      <th>4</th>\n",
       "      <td>0.493140</td>\n",
       "      <td>140.237503</td>\n",
       "      <td>0.766433</td>\n",
       "      <td>0.453831</td>\n",
       "      <td>132.565451</td>\n",
       "      <td>0.892859</td>\n",
       "      <td>n.a.</td>\n",
       "      <td>n.a.</td>\n",
       "      <td>n.a.</td>\n",
       "      <td>0.225661</td>\n",
       "      <td>...</td>\n",
       "      <td>1.562229</td>\n",
       "      <td>n.a.</td>\n",
       "      <td>n.a.</td>\n",
       "      <td>n.a.</td>\n",
       "      <td>n.a.</td>\n",
       "      <td>n.a.</td>\n",
       "      <td>n.a.</td>\n",
       "      <td>n.a.</td>\n",
       "      <td>n.a.</td>\n",
       "      <td>n.a.</td>\n",
       "    </tr>\n",
       "    <tr>\n",
       "      <th>5</th>\n",
       "      <td>0.441532</td>\n",
       "      <td>131.139719</td>\n",
       "      <td>0.835908</td>\n",
       "      <td>0.418285</td>\n",
       "      <td>126.263062</td>\n",
       "      <td>0.891927</td>\n",
       "      <td>n.a.</td>\n",
       "      <td>n.a.</td>\n",
       "      <td>n.a.</td>\n",
       "      <td>0.194740</td>\n",
       "      <td>...</td>\n",
       "      <td>1.390783</td>\n",
       "      <td>n.a.</td>\n",
       "      <td>n.a.</td>\n",
       "      <td>n.a.</td>\n",
       "      <td>n.a.</td>\n",
       "      <td>n.a.</td>\n",
       "      <td>n.a.</td>\n",
       "      <td>n.a.</td>\n",
       "      <td>n.a.</td>\n",
       "      <td>n.a.</td>\n",
       "    </tr>\n",
       "    <tr>\n",
       "      <th>6</th>\n",
       "      <td>0.361552</td>\n",
       "      <td>126.372254</td>\n",
       "      <td>0.897067</td>\n",
       "      <td>0.419120</td>\n",
       "      <td>119.760287</td>\n",
       "      <td>0.771043</td>\n",
       "      <td>n.a.</td>\n",
       "      <td>n.a.</td>\n",
       "      <td>n.a.</td>\n",
       "      <td>0.088970</td>\n",
       "      <td>...</td>\n",
       "      <td>1.691598</td>\n",
       "      <td>n.a.</td>\n",
       "      <td>n.a.</td>\n",
       "      <td>n.a.</td>\n",
       "      <td>n.a.</td>\n",
       "      <td>n.a.</td>\n",
       "      <td>n.a.</td>\n",
       "      <td>n.a.</td>\n",
       "      <td>n.a.</td>\n",
       "      <td>n.a.</td>\n",
       "    </tr>\n",
       "    <tr>\n",
       "      <th>7</th>\n",
       "      <td>0.407706</td>\n",
       "      <td>124.083975</td>\n",
       "      <td>0.835256</td>\n",
       "      <td>0.415010</td>\n",
       "      <td>116.575106</td>\n",
       "      <td>0.760419</td>\n",
       "      <td>n.a.</td>\n",
       "      <td>n.a.</td>\n",
       "      <td>n.a.</td>\n",
       "      <td>0.170106</td>\n",
       "      <td>...</td>\n",
       "      <td>1.278225</td>\n",
       "      <td>n.a.</td>\n",
       "      <td>n.a.</td>\n",
       "      <td>n.a.</td>\n",
       "      <td>n.a.</td>\n",
       "      <td>n.a.</td>\n",
       "      <td>n.a.</td>\n",
       "      <td>n.a.</td>\n",
       "      <td>n.a.</td>\n",
       "      <td>n.a.</td>\n",
       "    </tr>\n",
       "    <tr>\n",
       "      <th>8</th>\n",
       "      <td>0.416655</td>\n",
       "      <td>126.951559</td>\n",
       "      <td>0.727208</td>\n",
       "      <td>0.408691</td>\n",
       "      <td>117.957686</td>\n",
       "      <td>0.659727</td>\n",
       "      <td>n.a.</td>\n",
       "      <td>n.a.</td>\n",
       "      <td>n.a.</td>\n",
       "      <td>0.118835</td>\n",
       "      <td>...</td>\n",
       "      <td>2.001049</td>\n",
       "      <td>n.a.</td>\n",
       "      <td>n.a.</td>\n",
       "      <td>n.a.</td>\n",
       "      <td>n.a.</td>\n",
       "      <td>n.a.</td>\n",
       "      <td>n.a.</td>\n",
       "      <td>n.a.</td>\n",
       "      <td>n.a.</td>\n",
       "      <td>n.a.</td>\n",
       "    </tr>\n",
       "    <tr>\n",
       "      <th>9</th>\n",
       "      <td>0.339259</td>\n",
       "      <td>124.085950</td>\n",
       "      <td>0.798491</td>\n",
       "      <td>0.223656</td>\n",
       "      <td>114.052659</td>\n",
       "      <td>0.953232</td>\n",
       "      <td>n.a.</td>\n",
       "      <td>n.a.</td>\n",
       "      <td>n.a.</td>\n",
       "      <td>0.127996</td>\n",
       "      <td>...</td>\n",
       "      <td>1.691501</td>\n",
       "      <td>n.a.</td>\n",
       "      <td>n.a.</td>\n",
       "      <td>n.a.</td>\n",
       "      <td>n.a.</td>\n",
       "      <td>n.a.</td>\n",
       "      <td>n.a.</td>\n",
       "      <td>-0.128841</td>\n",
       "      <td>5.196636</td>\n",
       "      <td>3.643959</td>\n",
       "    </tr>\n",
       "    <tr>\n",
       "      <th>10</th>\n",
       "      <td>0.259934</td>\n",
       "      <td>120.499064</td>\n",
       "      <td>0.934306</td>\n",
       "      <td>0.227136</td>\n",
       "      <td>110.649018</td>\n",
       "      <td>0.961536</td>\n",
       "      <td>n.a.</td>\n",
       "      <td>n.a.</td>\n",
       "      <td>n.a.</td>\n",
       "      <td>0.118555</td>\n",
       "      <td>...</td>\n",
       "      <td>1.088520</td>\n",
       "      <td>n.a.</td>\n",
       "      <td>n.a.</td>\n",
       "      <td>n.a.</td>\n",
       "      <td>n.a.</td>\n",
       "      <td>n.a.</td>\n",
       "      <td>n.a.</td>\n",
       "      <td>n.a.</td>\n",
       "      <td>n.a.</td>\n",
       "      <td>n.a.</td>\n",
       "    </tr>\n",
       "    <tr>\n",
       "      <th>11</th>\n",
       "      <td>0.249204</td>\n",
       "      <td>114.801789</td>\n",
       "      <td>0.963701</td>\n",
       "      <td>0.230184</td>\n",
       "      <td>109.210665</td>\n",
       "      <td>1.015317</td>\n",
       "      <td>n.a.</td>\n",
       "      <td>n.a.</td>\n",
       "      <td>n.a.</td>\n",
       "      <td>0.076526</td>\n",
       "      <td>...</td>\n",
       "      <td>1.547989</td>\n",
       "      <td>n.a.</td>\n",
       "      <td>n.a.</td>\n",
       "      <td>n.a.</td>\n",
       "      <td>n.a.</td>\n",
       "      <td>n.a.</td>\n",
       "      <td>n.a.</td>\n",
       "      <td>n.a.</td>\n",
       "      <td>n.a.</td>\n",
       "      <td>n.a.</td>\n",
       "    </tr>\n",
       "    <tr>\n",
       "      <th>12</th>\n",
       "      <td>0.266487</td>\n",
       "      <td>111.297242</td>\n",
       "      <td>0.972614</td>\n",
       "      <td>0.229803</td>\n",
       "      <td>109.335187</td>\n",
       "      <td>1.014059</td>\n",
       "      <td>n.a.</td>\n",
       "      <td>n.a.</td>\n",
       "      <td>n.a.</td>\n",
       "      <td>-0.013822</td>\n",
       "      <td>...</td>\n",
       "      <td>2.174269</td>\n",
       "      <td>n.a.</td>\n",
       "      <td>n.a.</td>\n",
       "      <td>n.a.</td>\n",
       "      <td>n.a.</td>\n",
       "      <td>n.a.</td>\n",
       "      <td>n.a.</td>\n",
       "      <td>n.a.</td>\n",
       "      <td>n.a.</td>\n",
       "      <td>n.a.</td>\n",
       "    </tr>\n",
       "    <tr>\n",
       "      <th>13</th>\n",
       "      <td>0.234553</td>\n",
       "      <td>106.412715</td>\n",
       "      <td>0.907258</td>\n",
       "      <td>0.241538</td>\n",
       "      <td>108.093755</td>\n",
       "      <td>1.009834</td>\n",
       "      <td>n.a.</td>\n",
       "      <td>n.a.</td>\n",
       "      <td>n.a.</td>\n",
       "      <td>0.047292</td>\n",
       "      <td>...</td>\n",
       "      <td>1.926464</td>\n",
       "      <td>n.a.</td>\n",
       "      <td>n.a.</td>\n",
       "      <td>n.a.</td>\n",
       "      <td>n.a.</td>\n",
       "      <td>n.a.</td>\n",
       "      <td>n.a.</td>\n",
       "      <td>n.a.</td>\n",
       "      <td>n.a.</td>\n",
       "      <td>n.a.</td>\n",
       "    </tr>\n",
       "    <tr>\n",
       "      <th>14</th>\n",
       "      <td>0.242174</td>\n",
       "      <td>109.049063</td>\n",
       "      <td>1.031939</td>\n",
       "      <td>0.233564</td>\n",
       "      <td>105.292541</td>\n",
       "      <td>1.010710</td>\n",
       "      <td>n.a.</td>\n",
       "      <td>n.a.</td>\n",
       "      <td>n.a.</td>\n",
       "      <td>-0.060333</td>\n",
       "      <td>...</td>\n",
       "      <td>1.655766</td>\n",
       "      <td>n.a.</td>\n",
       "      <td>n.a.</td>\n",
       "      <td>n.a.</td>\n",
       "      <td>n.a.</td>\n",
       "      <td>n.a.</td>\n",
       "      <td>n.a.</td>\n",
       "      <td>n.a.</td>\n",
       "      <td>n.a.</td>\n",
       "      <td>n.a.</td>\n",
       "    </tr>\n",
       "    <tr>\n",
       "      <th>15</th>\n",
       "      <td>0.248354</td>\n",
       "      <td>105.026668</td>\n",
       "      <td>0.917918</td>\n",
       "      <td>0.237060</td>\n",
       "      <td>103.467244</td>\n",
       "      <td>0.961474</td>\n",
       "      <td>n.a.</td>\n",
       "      <td>n.a.</td>\n",
       "      <td>n.a.</td>\n",
       "      <td>0.002273</td>\n",
       "      <td>...</td>\n",
       "      <td>1.729352</td>\n",
       "      <td>n.a.</td>\n",
       "      <td>n.a.</td>\n",
       "      <td>n.a.</td>\n",
       "      <td>n.a.</td>\n",
       "      <td>n.a.</td>\n",
       "      <td>n.a.</td>\n",
       "      <td>n.a.</td>\n",
       "      <td>n.a.</td>\n",
       "      <td>n.a.</td>\n",
       "    </tr>\n",
       "    <tr>\n",
       "      <th>16</th>\n",
       "      <td>0.249936</td>\n",
       "      <td>101.544349</td>\n",
       "      <td>0.935183</td>\n",
       "      <td>0.237622</td>\n",
       "      <td>102.097798</td>\n",
       "      <td>1.025379</td>\n",
       "      <td>n.a.</td>\n",
       "      <td>n.a.</td>\n",
       "      <td>n.a.</td>\n",
       "      <td>0.020113</td>\n",
       "      <td>...</td>\n",
       "      <td>1.818461</td>\n",
       "      <td>n.a.</td>\n",
       "      <td>n.a.</td>\n",
       "      <td>n.a.</td>\n",
       "      <td>-0.172893</td>\n",
       "      <td>7.440839</td>\n",
       "      <td>3.373142</td>\n",
       "      <td>n.a.</td>\n",
       "      <td>n.a.</td>\n",
       "      <td>n.a.</td>\n",
       "    </tr>\n",
       "    <tr>\n",
       "      <th>17</th>\n",
       "      <td>0.246270</td>\n",
       "      <td>101.098385</td>\n",
       "      <td>0.930937</td>\n",
       "      <td>0.249788</td>\n",
       "      <td>100.955749</td>\n",
       "      <td>1.004535</td>\n",
       "      <td>n.a.</td>\n",
       "      <td>n.a.</td>\n",
       "      <td>n.a.</td>\n",
       "      <td>-0.004888</td>\n",
       "      <td>...</td>\n",
       "      <td>2.019080</td>\n",
       "      <td>n.a.</td>\n",
       "      <td>n.a.</td>\n",
       "      <td>n.a.</td>\n",
       "      <td>n.a.</td>\n",
       "      <td>n.a.</td>\n",
       "      <td>n.a.</td>\n",
       "      <td>n.a.</td>\n",
       "      <td>n.a.</td>\n",
       "      <td>n.a.</td>\n",
       "    </tr>\n",
       "    <tr>\n",
       "      <th>18</th>\n",
       "      <td>0.205127</td>\n",
       "      <td>97.030412</td>\n",
       "      <td>0.984426</td>\n",
       "      <td>0.253153</td>\n",
       "      <td>100.161508</td>\n",
       "      <td>0.995195</td>\n",
       "      <td>n.a.</td>\n",
       "      <td>n.a.</td>\n",
       "      <td>n.a.</td>\n",
       "      <td>-0.003198</td>\n",
       "      <td>...</td>\n",
       "      <td>1.623483</td>\n",
       "      <td>n.a.</td>\n",
       "      <td>n.a.</td>\n",
       "      <td>n.a.</td>\n",
       "      <td>n.a.</td>\n",
       "      <td>n.a.</td>\n",
       "      <td>n.a.</td>\n",
       "      <td>n.a.</td>\n",
       "      <td>n.a.</td>\n",
       "      <td>n.a.</td>\n",
       "    </tr>\n",
       "    <tr>\n",
       "      <th>19</th>\n",
       "      <td>0.240613</td>\n",
       "      <td>95.231751</td>\n",
       "      <td>1.108339</td>\n",
       "      <td>0.252007</td>\n",
       "      <td>100.005461</td>\n",
       "      <td>0.946917</td>\n",
       "      <td>n.a.</td>\n",
       "      <td>n.a.</td>\n",
       "      <td>n.a.</td>\n",
       "      <td>-0.035480</td>\n",
       "      <td>...</td>\n",
       "      <td>1.381356</td>\n",
       "      <td>n.a.</td>\n",
       "      <td>n.a.</td>\n",
       "      <td>n.a.</td>\n",
       "      <td>n.a.</td>\n",
       "      <td>n.a.</td>\n",
       "      <td>n.a.</td>\n",
       "      <td>n.a.</td>\n",
       "      <td>n.a.</td>\n",
       "      <td>n.a.</td>\n",
       "    </tr>\n",
       "    <tr>\n",
       "      <th>20</th>\n",
       "      <td>0.261807</td>\n",
       "      <td>96.475820</td>\n",
       "      <td>0.908027</td>\n",
       "      <td>0.248400</td>\n",
       "      <td>99.440606</td>\n",
       "      <td>0.957840</td>\n",
       "      <td>0.229973</td>\n",
       "      <td>96.042402</td>\n",
       "      <td>0.916984</td>\n",
       "      <td>-0.025497</td>\n",
       "      <td>...</td>\n",
       "      <td>1.640413</td>\n",
       "      <td>n.a.</td>\n",
       "      <td>n.a.</td>\n",
       "      <td>n.a.</td>\n",
       "      <td>n.a.</td>\n",
       "      <td>n.a.</td>\n",
       "      <td>n.a.</td>\n",
       "      <td>n.a.</td>\n",
       "      <td>n.a.</td>\n",
       "      <td>n.a.</td>\n",
       "    </tr>\n",
       "    <tr>\n",
       "      <th>21</th>\n",
       "      <td>0.194031</td>\n",
       "      <td>94.420326</td>\n",
       "      <td>0.972938</td>\n",
       "      <td>0.243863</td>\n",
       "      <td>97.198475</td>\n",
       "      <td>0.977862</td>\n",
       "      <td>n.a.</td>\n",
       "      <td>n.a.</td>\n",
       "      <td>n.a.</td>\n",
       "      <td>-0.082030</td>\n",
       "      <td>...</td>\n",
       "      <td>1.828141</td>\n",
       "      <td>n.a.</td>\n",
       "      <td>n.a.</td>\n",
       "      <td>n.a.</td>\n",
       "      <td>n.a.</td>\n",
       "      <td>n.a.</td>\n",
       "      <td>n.a.</td>\n",
       "      <td>n.a.</td>\n",
       "      <td>n.a.</td>\n",
       "      <td>n.a.</td>\n",
       "    </tr>\n",
       "    <tr>\n",
       "      <th>22</th>\n",
       "      <td>0.194334</td>\n",
       "      <td>90.991970</td>\n",
       "      <td>1.003349</td>\n",
       "      <td>0.242130</td>\n",
       "      <td>95.285783</td>\n",
       "      <td>0.946411</td>\n",
       "      <td>n.a.</td>\n",
       "      <td>n.a.</td>\n",
       "      <td>n.a.</td>\n",
       "      <td>-0.056105</td>\n",
       "      <td>...</td>\n",
       "      <td>2.101181</td>\n",
       "      <td>n.a.</td>\n",
       "      <td>n.a.</td>\n",
       "      <td>n.a.</td>\n",
       "      <td>n.a.</td>\n",
       "      <td>n.a.</td>\n",
       "      <td>n.a.</td>\n",
       "      <td>n.a.</td>\n",
       "      <td>n.a.</td>\n",
       "      <td>n.a.</td>\n",
       "    </tr>\n",
       "    <tr>\n",
       "      <th>23</th>\n",
       "      <td>0.200568</td>\n",
       "      <td>90.567331</td>\n",
       "      <td>1.001827</td>\n",
       "      <td>0.243147</td>\n",
       "      <td>93.640943</td>\n",
       "      <td>0.947952</td>\n",
       "      <td>n.a.</td>\n",
       "      <td>n.a.</td>\n",
       "      <td>n.a.</td>\n",
       "      <td>-0.037052</td>\n",
       "      <td>...</td>\n",
       "      <td>1.655420</td>\n",
       "      <td>n.a.</td>\n",
       "      <td>n.a.</td>\n",
       "      <td>n.a.</td>\n",
       "      <td>n.a.</td>\n",
       "      <td>n.a.</td>\n",
       "      <td>n.a.</td>\n",
       "      <td>n.a.</td>\n",
       "      <td>n.a.</td>\n",
       "      <td>n.a.</td>\n",
       "    </tr>\n",
       "    <tr>\n",
       "      <th>24</th>\n",
       "      <td>0.206120</td>\n",
       "      <td>91.684119</td>\n",
       "      <td>1.008287</td>\n",
       "      <td>0.244207</td>\n",
       "      <td>92.316075</td>\n",
       "      <td>0.951650</td>\n",
       "      <td>n.a.</td>\n",
       "      <td>n.a.</td>\n",
       "      <td>n.a.</td>\n",
       "      <td>-0.030128</td>\n",
       "      <td>...</td>\n",
       "      <td>1.353007</td>\n",
       "      <td>n.a.</td>\n",
       "      <td>n.a.</td>\n",
       "      <td>n.a.</td>\n",
       "      <td>n.a.</td>\n",
       "      <td>n.a.</td>\n",
       "      <td>n.a.</td>\n",
       "      <td>n.a.</td>\n",
       "      <td>n.a.</td>\n",
       "      <td>n.a.</td>\n",
       "    </tr>\n",
       "    <tr>\n",
       "      <th>25</th>\n",
       "      <td>0.246164</td>\n",
       "      <td>88.474139</td>\n",
       "      <td>0.917306</td>\n",
       "      <td>0.229151</td>\n",
       "      <td>91.217071</td>\n",
       "      <td>0.953669</td>\n",
       "      <td>n.a.</td>\n",
       "      <td>n.a.</td>\n",
       "      <td>n.a.</td>\n",
       "      <td>0.074445</td>\n",
       "      <td>...</td>\n",
       "      <td>1.212334</td>\n",
       "      <td>-0.124394</td>\n",
       "      <td>15.406212</td>\n",
       "      <td>2.586391</td>\n",
       "      <td>n.a.</td>\n",
       "      <td>n.a.</td>\n",
       "      <td>n.a.</td>\n",
       "      <td>n.a.</td>\n",
       "      <td>n.a.</td>\n",
       "      <td>n.a.</td>\n",
       "    </tr>\n",
       "    <tr>\n",
       "      <th>26</th>\n",
       "      <td>0.186495</td>\n",
       "      <td>88.029837</td>\n",
       "      <td>0.944413</td>\n",
       "      <td>0.224524</td>\n",
       "      <td>90.257572</td>\n",
       "      <td>0.978960</td>\n",
       "      <td>n.a.</td>\n",
       "      <td>n.a.</td>\n",
       "      <td>n.a.</td>\n",
       "      <td>-0.100521</td>\n",
       "      <td>...</td>\n",
       "      <td>1.451485</td>\n",
       "      <td>n.a.</td>\n",
       "      <td>n.a.</td>\n",
       "      <td>n.a.</td>\n",
       "      <td>n.a.</td>\n",
       "      <td>n.a.</td>\n",
       "      <td>n.a.</td>\n",
       "      <td>n.a.</td>\n",
       "      <td>n.a.</td>\n",
       "      <td>n.a.</td>\n",
       "    </tr>\n",
       "    <tr>\n",
       "      <th>27</th>\n",
       "      <td>0.194350</td>\n",
       "      <td>86.959254</td>\n",
       "      <td>0.949492</td>\n",
       "      <td>0.223597</td>\n",
       "      <td>89.518474</td>\n",
       "      <td>0.931125</td>\n",
       "      <td>n.a.</td>\n",
       "      <td>n.a.</td>\n",
       "      <td>n.a.</td>\n",
       "      <td>0.052291</td>\n",
       "      <td>...</td>\n",
       "      <td>1.188505</td>\n",
       "      <td>n.a.</td>\n",
       "      <td>n.a.</td>\n",
       "      <td>n.a.</td>\n",
       "      <td>n.a.</td>\n",
       "      <td>n.a.</td>\n",
       "      <td>n.a.</td>\n",
       "      <td>n.a.</td>\n",
       "      <td>n.a.</td>\n",
       "      <td>n.a.</td>\n",
       "    </tr>\n",
       "    <tr>\n",
       "      <th>28</th>\n",
       "      <td>0.179016</td>\n",
       "      <td>85.771191</td>\n",
       "      <td>0.995402</td>\n",
       "      <td>0.224312</td>\n",
       "      <td>89.011058</td>\n",
       "      <td>0.878767</td>\n",
       "      <td>n.a.</td>\n",
       "      <td>n.a.</td>\n",
       "      <td>n.a.</td>\n",
       "      <td>-0.073428</td>\n",
       "      <td>...</td>\n",
       "      <td>1.709717</td>\n",
       "      <td>n.a.</td>\n",
       "      <td>n.a.</td>\n",
       "      <td>n.a.</td>\n",
       "      <td>n.a.</td>\n",
       "      <td>n.a.</td>\n",
       "      <td>n.a.</td>\n",
       "      <td>n.a.</td>\n",
       "      <td>n.a.</td>\n",
       "      <td>n.a.</td>\n",
       "    </tr>\n",
       "    <tr>\n",
       "      <th>29</th>\n",
       "      <td>0.197519</td>\n",
       "      <td>85.382756</td>\n",
       "      <td>0.925728</td>\n",
       "      <td>0.220141</td>\n",
       "      <td>88.156601</td>\n",
       "      <td>0.881771</td>\n",
       "      <td>n.a.</td>\n",
       "      <td>n.a.</td>\n",
       "      <td>n.a.</td>\n",
       "      <td>-0.047376</td>\n",
       "      <td>...</td>\n",
       "      <td>1.762286</td>\n",
       "      <td>n.a.</td>\n",
       "      <td>n.a.</td>\n",
       "      <td>n.a.</td>\n",
       "      <td>n.a.</td>\n",
       "      <td>n.a.</td>\n",
       "      <td>n.a.</td>\n",
       "      <td>n.a.</td>\n",
       "      <td>n.a.</td>\n",
       "      <td>n.a.</td>\n",
       "    </tr>\n",
       "    <tr>\n",
       "      <th>30</th>\n",
       "      <td>0.167601</td>\n",
       "      <td>85.455843</td>\n",
       "      <td>1.096963</td>\n",
       "      <td>0.218944</td>\n",
       "      <td>87.467778</td>\n",
       "      <td>0.899125</td>\n",
       "      <td>n.a.</td>\n",
       "      <td>n.a.</td>\n",
       "      <td>n.a.</td>\n",
       "      <td>-0.045643</td>\n",
       "      <td>...</td>\n",
       "      <td>1.553146</td>\n",
       "      <td>n.a.</td>\n",
       "      <td>n.a.</td>\n",
       "      <td>n.a.</td>\n",
       "      <td>n.a.</td>\n",
       "      <td>n.a.</td>\n",
       "      <td>n.a.</td>\n",
       "      <td>n.a.</td>\n",
       "      <td>n.a.</td>\n",
       "      <td>n.a.</td>\n",
       "    </tr>\n",
       "  </tbody>\n",
       "</table>\n",
       "<p>29 rows × 21 columns</p>\n",
       "</div>"
      ],
      "text/plain": [
       "           Silhouette score Kmeans  Calinski Harabasz score Kmeans  \\\n",
       "N cluster                                                            \n",
       "2                         0.677714                      163.347117   \n",
       "3                         0.478115                      143.961829   \n",
       "4                         0.493140                      140.237503   \n",
       "5                         0.441532                      131.139719   \n",
       "6                         0.361552                      126.372254   \n",
       "7                         0.407706                      124.083975   \n",
       "8                         0.416655                      126.951559   \n",
       "9                         0.339259                      124.085950   \n",
       "10                        0.259934                      120.499064   \n",
       "11                        0.249204                      114.801789   \n",
       "12                        0.266487                      111.297242   \n",
       "13                        0.234553                      106.412715   \n",
       "14                        0.242174                      109.049063   \n",
       "15                        0.248354                      105.026668   \n",
       "16                        0.249936                      101.544349   \n",
       "17                        0.246270                      101.098385   \n",
       "18                        0.205127                       97.030412   \n",
       "19                        0.240613                       95.231751   \n",
       "20                        0.261807                       96.475820   \n",
       "21                        0.194031                       94.420326   \n",
       "22                        0.194334                       90.991970   \n",
       "23                        0.200568                       90.567331   \n",
       "24                        0.206120                       91.684119   \n",
       "25                        0.246164                       88.474139   \n",
       "26                        0.186495                       88.029837   \n",
       "27                        0.194350                       86.959254   \n",
       "28                        0.179016                       85.771191   \n",
       "29                        0.197519                       85.382756   \n",
       "30                        0.167601                       85.455843   \n",
       "\n",
       "           Davies Bouldin score Kmeans  \\\n",
       "N cluster                                \n",
       "2                             0.573265   \n",
       "3                             0.884293   \n",
       "4                             0.766433   \n",
       "5                             0.835908   \n",
       "6                             0.897067   \n",
       "7                             0.835256   \n",
       "8                             0.727208   \n",
       "9                             0.798491   \n",
       "10                            0.934306   \n",
       "11                            0.963701   \n",
       "12                            0.972614   \n",
       "13                            0.907258   \n",
       "14                            1.031939   \n",
       "15                            0.917918   \n",
       "16                            0.935183   \n",
       "17                            0.930937   \n",
       "18                            0.984426   \n",
       "19                            1.108339   \n",
       "20                            0.908027   \n",
       "21                            0.972938   \n",
       "22                            1.003349   \n",
       "23                            1.001827   \n",
       "24                            1.008287   \n",
       "25                            0.917306   \n",
       "26                            0.944413   \n",
       "27                            0.949492   \n",
       "28                            0.995402   \n",
       "29                            0.925728   \n",
       "30                            1.096963   \n",
       "\n",
       "           Silhouette score Hierarchical Agglomerative  \\\n",
       "N cluster                                                \n",
       "2                                             0.624729   \n",
       "3                                             0.437283   \n",
       "4                                             0.453831   \n",
       "5                                             0.418285   \n",
       "6                                             0.419120   \n",
       "7                                             0.415010   \n",
       "8                                             0.408691   \n",
       "9                                             0.223656   \n",
       "10                                            0.227136   \n",
       "11                                            0.230184   \n",
       "12                                            0.229803   \n",
       "13                                            0.241538   \n",
       "14                                            0.233564   \n",
       "15                                            0.237060   \n",
       "16                                            0.237622   \n",
       "17                                            0.249788   \n",
       "18                                            0.253153   \n",
       "19                                            0.252007   \n",
       "20                                            0.248400   \n",
       "21                                            0.243863   \n",
       "22                                            0.242130   \n",
       "23                                            0.243147   \n",
       "24                                            0.244207   \n",
       "25                                            0.229151   \n",
       "26                                            0.224524   \n",
       "27                                            0.223597   \n",
       "28                                            0.224312   \n",
       "29                                            0.220141   \n",
       "30                                            0.218944   \n",
       "\n",
       "           Calinski Harabasz score Hierarchical Agglomerative  \\\n",
       "N cluster                                                       \n",
       "2                                                 144.020450    \n",
       "3                                                 122.132761    \n",
       "4                                                 132.565451    \n",
       "5                                                 126.263062    \n",
       "6                                                 119.760287    \n",
       "7                                                 116.575106    \n",
       "8                                                 117.957686    \n",
       "9                                                 114.052659    \n",
       "10                                                110.649018    \n",
       "11                                                109.210665    \n",
       "12                                                109.335187    \n",
       "13                                                108.093755    \n",
       "14                                                105.292541    \n",
       "15                                                103.467244    \n",
       "16                                                102.097798    \n",
       "17                                                100.955749    \n",
       "18                                                100.161508    \n",
       "19                                                100.005461    \n",
       "20                                                 99.440606    \n",
       "21                                                 97.198475    \n",
       "22                                                 95.285783    \n",
       "23                                                 93.640943    \n",
       "24                                                 92.316075    \n",
       "25                                                 91.217071    \n",
       "26                                                 90.257572    \n",
       "27                                                 89.518474    \n",
       "28                                                 89.011058    \n",
       "29                                                 88.156601    \n",
       "30                                                 87.467778    \n",
       "\n",
       "           Davies Bouldin score Hierarchical Agglomerative  \\\n",
       "N cluster                                                    \n",
       "2                                                 0.716934   \n",
       "3                                                 0.967118   \n",
       "4                                                 0.892859   \n",
       "5                                                 0.891927   \n",
       "6                                                 0.771043   \n",
       "7                                                 0.760419   \n",
       "8                                                 0.659727   \n",
       "9                                                 0.953232   \n",
       "10                                                0.961536   \n",
       "11                                                1.015317   \n",
       "12                                                1.014059   \n",
       "13                                                1.009834   \n",
       "14                                                1.010710   \n",
       "15                                                0.961474   \n",
       "16                                                1.025379   \n",
       "17                                                1.004535   \n",
       "18                                                0.995195   \n",
       "19                                                0.946917   \n",
       "20                                                0.957840   \n",
       "21                                                0.977862   \n",
       "22                                                0.946411   \n",
       "23                                                0.947952   \n",
       "24                                                0.951650   \n",
       "25                                                0.953669   \n",
       "26                                                0.978960   \n",
       "27                                                0.931125   \n",
       "28                                                0.878767   \n",
       "29                                                0.881771   \n",
       "30                                                0.899125   \n",
       "\n",
       "          Silhouette score Affinity propagation  \\\n",
       "N cluster                                         \n",
       "2                                          n.a.   \n",
       "3                                          n.a.   \n",
       "4                                          n.a.   \n",
       "5                                          n.a.   \n",
       "6                                          n.a.   \n",
       "7                                          n.a.   \n",
       "8                                          n.a.   \n",
       "9                                          n.a.   \n",
       "10                                         n.a.   \n",
       "11                                         n.a.   \n",
       "12                                         n.a.   \n",
       "13                                         n.a.   \n",
       "14                                         n.a.   \n",
       "15                                         n.a.   \n",
       "16                                         n.a.   \n",
       "17                                         n.a.   \n",
       "18                                         n.a.   \n",
       "19                                         n.a.   \n",
       "20                                     0.229973   \n",
       "21                                         n.a.   \n",
       "22                                         n.a.   \n",
       "23                                         n.a.   \n",
       "24                                         n.a.   \n",
       "25                                         n.a.   \n",
       "26                                         n.a.   \n",
       "27                                         n.a.   \n",
       "28                                         n.a.   \n",
       "29                                         n.a.   \n",
       "30                                         n.a.   \n",
       "\n",
       "          Calinski Harabasz score Affinity propagation  \\\n",
       "N cluster                                                \n",
       "2                                                 n.a.   \n",
       "3                                                 n.a.   \n",
       "4                                                 n.a.   \n",
       "5                                                 n.a.   \n",
       "6                                                 n.a.   \n",
       "7                                                 n.a.   \n",
       "8                                                 n.a.   \n",
       "9                                                 n.a.   \n",
       "10                                                n.a.   \n",
       "11                                                n.a.   \n",
       "12                                                n.a.   \n",
       "13                                                n.a.   \n",
       "14                                                n.a.   \n",
       "15                                                n.a.   \n",
       "16                                                n.a.   \n",
       "17                                                n.a.   \n",
       "18                                                n.a.   \n",
       "19                                                n.a.   \n",
       "20                                           96.042402   \n",
       "21                                                n.a.   \n",
       "22                                                n.a.   \n",
       "23                                                n.a.   \n",
       "24                                                n.a.   \n",
       "25                                                n.a.   \n",
       "26                                                n.a.   \n",
       "27                                                n.a.   \n",
       "28                                                n.a.   \n",
       "29                                                n.a.   \n",
       "30                                                n.a.   \n",
       "\n",
       "          Davies Bouldin score Affinity propagation  Silhouette score Fuzzy  \\\n",
       "N cluster                                                                     \n",
       "2                                              n.a.                0.668198   \n",
       "3                                              n.a.                0.455283   \n",
       "4                                              n.a.                0.225661   \n",
       "5                                              n.a.                0.194740   \n",
       "6                                              n.a.                0.088970   \n",
       "7                                              n.a.                0.170106   \n",
       "8                                              n.a.                0.118835   \n",
       "9                                              n.a.                0.127996   \n",
       "10                                             n.a.                0.118555   \n",
       "11                                             n.a.                0.076526   \n",
       "12                                             n.a.               -0.013822   \n",
       "13                                             n.a.                0.047292   \n",
       "14                                             n.a.               -0.060333   \n",
       "15                                             n.a.                0.002273   \n",
       "16                                             n.a.                0.020113   \n",
       "17                                             n.a.               -0.004888   \n",
       "18                                             n.a.               -0.003198   \n",
       "19                                             n.a.               -0.035480   \n",
       "20                                         0.916984               -0.025497   \n",
       "21                                             n.a.               -0.082030   \n",
       "22                                             n.a.               -0.056105   \n",
       "23                                             n.a.               -0.037052   \n",
       "24                                             n.a.               -0.030128   \n",
       "25                                             n.a.                0.074445   \n",
       "26                                             n.a.               -0.100521   \n",
       "27                                             n.a.                0.052291   \n",
       "28                                             n.a.               -0.073428   \n",
       "29                                             n.a.               -0.047376   \n",
       "30                                             n.a.               -0.045643   \n",
       "\n",
       "           ...  Davies Bouldin score Fuzzy  Silhouette score Som5x5  \\\n",
       "N cluster  ...                                                        \n",
       "2          ...                    0.601600                     n.a.   \n",
       "3          ...                    0.928261                     n.a.   \n",
       "4          ...                    1.562229                     n.a.   \n",
       "5          ...                    1.390783                     n.a.   \n",
       "6          ...                    1.691598                     n.a.   \n",
       "7          ...                    1.278225                     n.a.   \n",
       "8          ...                    2.001049                     n.a.   \n",
       "9          ...                    1.691501                     n.a.   \n",
       "10         ...                    1.088520                     n.a.   \n",
       "11         ...                    1.547989                     n.a.   \n",
       "12         ...                    2.174269                     n.a.   \n",
       "13         ...                    1.926464                     n.a.   \n",
       "14         ...                    1.655766                     n.a.   \n",
       "15         ...                    1.729352                     n.a.   \n",
       "16         ...                    1.818461                     n.a.   \n",
       "17         ...                    2.019080                     n.a.   \n",
       "18         ...                    1.623483                     n.a.   \n",
       "19         ...                    1.381356                     n.a.   \n",
       "20         ...                    1.640413                     n.a.   \n",
       "21         ...                    1.828141                     n.a.   \n",
       "22         ...                    2.101181                     n.a.   \n",
       "23         ...                    1.655420                     n.a.   \n",
       "24         ...                    1.353007                     n.a.   \n",
       "25         ...                    1.212334                -0.124394   \n",
       "26         ...                    1.451485                     n.a.   \n",
       "27         ...                    1.188505                     n.a.   \n",
       "28         ...                    1.709717                     n.a.   \n",
       "29         ...                    1.762286                     n.a.   \n",
       "30         ...                    1.553146                     n.a.   \n",
       "\n",
       "          Calinski Harabasz score Som5x5 Davies Bouldin score Som5x5  \\\n",
       "N cluster                                                              \n",
       "2                                   n.a.                        n.a.   \n",
       "3                                   n.a.                        n.a.   \n",
       "4                                   n.a.                        n.a.   \n",
       "5                                   n.a.                        n.a.   \n",
       "6                                   n.a.                        n.a.   \n",
       "7                                   n.a.                        n.a.   \n",
       "8                                   n.a.                        n.a.   \n",
       "9                                   n.a.                        n.a.   \n",
       "10                                  n.a.                        n.a.   \n",
       "11                                  n.a.                        n.a.   \n",
       "12                                  n.a.                        n.a.   \n",
       "13                                  n.a.                        n.a.   \n",
       "14                                  n.a.                        n.a.   \n",
       "15                                  n.a.                        n.a.   \n",
       "16                                  n.a.                        n.a.   \n",
       "17                                  n.a.                        n.a.   \n",
       "18                                  n.a.                        n.a.   \n",
       "19                                  n.a.                        n.a.   \n",
       "20                                  n.a.                        n.a.   \n",
       "21                                  n.a.                        n.a.   \n",
       "22                                  n.a.                        n.a.   \n",
       "23                                  n.a.                        n.a.   \n",
       "24                                  n.a.                        n.a.   \n",
       "25                             15.406212                    2.586391   \n",
       "26                                  n.a.                        n.a.   \n",
       "27                                  n.a.                        n.a.   \n",
       "28                                  n.a.                        n.a.   \n",
       "29                                  n.a.                        n.a.   \n",
       "30                                  n.a.                        n.a.   \n",
       "\n",
       "          Silhouette score Som4x4 Calinski Harabasz score Som4x4  \\\n",
       "N cluster                                                          \n",
       "2                            n.a.                           n.a.   \n",
       "3                            n.a.                           n.a.   \n",
       "4                            n.a.                           n.a.   \n",
       "5                            n.a.                           n.a.   \n",
       "6                            n.a.                           n.a.   \n",
       "7                            n.a.                           n.a.   \n",
       "8                            n.a.                           n.a.   \n",
       "9                            n.a.                           n.a.   \n",
       "10                           n.a.                           n.a.   \n",
       "11                           n.a.                           n.a.   \n",
       "12                           n.a.                           n.a.   \n",
       "13                           n.a.                           n.a.   \n",
       "14                           n.a.                           n.a.   \n",
       "15                           n.a.                           n.a.   \n",
       "16                      -0.172893                       7.440839   \n",
       "17                           n.a.                           n.a.   \n",
       "18                           n.a.                           n.a.   \n",
       "19                           n.a.                           n.a.   \n",
       "20                           n.a.                           n.a.   \n",
       "21                           n.a.                           n.a.   \n",
       "22                           n.a.                           n.a.   \n",
       "23                           n.a.                           n.a.   \n",
       "24                           n.a.                           n.a.   \n",
       "25                           n.a.                           n.a.   \n",
       "26                           n.a.                           n.a.   \n",
       "27                           n.a.                           n.a.   \n",
       "28                           n.a.                           n.a.   \n",
       "29                           n.a.                           n.a.   \n",
       "30                           n.a.                           n.a.   \n",
       "\n",
       "          Davies Bouldin score Som4x4 Silhouette score Som3x3  \\\n",
       "N cluster                                                       \n",
       "2                                n.a.                    n.a.   \n",
       "3                                n.a.                    n.a.   \n",
       "4                                n.a.                    n.a.   \n",
       "5                                n.a.                    n.a.   \n",
       "6                                n.a.                    n.a.   \n",
       "7                                n.a.                    n.a.   \n",
       "8                                n.a.                    n.a.   \n",
       "9                                n.a.               -0.128841   \n",
       "10                               n.a.                    n.a.   \n",
       "11                               n.a.                    n.a.   \n",
       "12                               n.a.                    n.a.   \n",
       "13                               n.a.                    n.a.   \n",
       "14                               n.a.                    n.a.   \n",
       "15                               n.a.                    n.a.   \n",
       "16                           3.373142                    n.a.   \n",
       "17                               n.a.                    n.a.   \n",
       "18                               n.a.                    n.a.   \n",
       "19                               n.a.                    n.a.   \n",
       "20                               n.a.                    n.a.   \n",
       "21                               n.a.                    n.a.   \n",
       "22                               n.a.                    n.a.   \n",
       "23                               n.a.                    n.a.   \n",
       "24                               n.a.                    n.a.   \n",
       "25                               n.a.                    n.a.   \n",
       "26                               n.a.                    n.a.   \n",
       "27                               n.a.                    n.a.   \n",
       "28                               n.a.                    n.a.   \n",
       "29                               n.a.                    n.a.   \n",
       "30                               n.a.                    n.a.   \n",
       "\n",
       "          Calinski Harabasz score Som3x3 Davies Bouldin score Som3x3  \n",
       "N cluster                                                             \n",
       "2                                   n.a.                        n.a.  \n",
       "3                                   n.a.                        n.a.  \n",
       "4                                   n.a.                        n.a.  \n",
       "5                                   n.a.                        n.a.  \n",
       "6                                   n.a.                        n.a.  \n",
       "7                                   n.a.                        n.a.  \n",
       "8                                   n.a.                        n.a.  \n",
       "9                               5.196636                    3.643959  \n",
       "10                                  n.a.                        n.a.  \n",
       "11                                  n.a.                        n.a.  \n",
       "12                                  n.a.                        n.a.  \n",
       "13                                  n.a.                        n.a.  \n",
       "14                                  n.a.                        n.a.  \n",
       "15                                  n.a.                        n.a.  \n",
       "16                                  n.a.                        n.a.  \n",
       "17                                  n.a.                        n.a.  \n",
       "18                                  n.a.                        n.a.  \n",
       "19                                  n.a.                        n.a.  \n",
       "20                                  n.a.                        n.a.  \n",
       "21                                  n.a.                        n.a.  \n",
       "22                                  n.a.                        n.a.  \n",
       "23                                  n.a.                        n.a.  \n",
       "24                                  n.a.                        n.a.  \n",
       "25                                  n.a.                        n.a.  \n",
       "26                                  n.a.                        n.a.  \n",
       "27                                  n.a.                        n.a.  \n",
       "28                                  n.a.                        n.a.  \n",
       "29                                  n.a.                        n.a.  \n",
       "30                                  n.a.                        n.a.  \n",
       "\n",
       "[29 rows x 21 columns]"
      ]
     },
     "execution_count": 3,
     "metadata": {},
     "output_type": "execute_result"
    }
   ],
   "source": [
    "df_metrics = pd.read_excel(\"all_metrics.xlsx\")\n",
    "df_metrics.set_index(\"N cluster\",inplace=True)\n",
    "df_metrics"
   ]
  },
  {
   "cell_type": "code",
   "execution_count": 4,
   "metadata": {},
   "outputs": [
    {
     "data": {
      "text/html": [
       "<div>\n",
       "<style scoped>\n",
       "    .dataframe tbody tr th:only-of-type {\n",
       "        vertical-align: middle;\n",
       "    }\n",
       "\n",
       "    .dataframe tbody tr th {\n",
       "        vertical-align: top;\n",
       "    }\n",
       "\n",
       "    .dataframe thead th {\n",
       "        text-align: right;\n",
       "    }\n",
       "</style>\n",
       "<table border=\"1\" class=\"dataframe\">\n",
       "  <thead>\n",
       "    <tr style=\"text-align: right;\">\n",
       "      <th>N cluster</th>\n",
       "      <th>2</th>\n",
       "      <th>3</th>\n",
       "      <th>4</th>\n",
       "      <th>5</th>\n",
       "      <th>6</th>\n",
       "      <th>7</th>\n",
       "      <th>8</th>\n",
       "      <th>9</th>\n",
       "      <th>10</th>\n",
       "      <th>11</th>\n",
       "      <th>...</th>\n",
       "      <th>21</th>\n",
       "      <th>22</th>\n",
       "      <th>23</th>\n",
       "      <th>24</th>\n",
       "      <th>25</th>\n",
       "      <th>26</th>\n",
       "      <th>27</th>\n",
       "      <th>28</th>\n",
       "      <th>29</th>\n",
       "      <th>30</th>\n",
       "    </tr>\n",
       "  </thead>\n",
       "  <tbody>\n",
       "    <tr>\n",
       "      <th>Silhouette score Kmeans</th>\n",
       "      <td>0.677714</td>\n",
       "      <td>0.478115</td>\n",
       "      <td>0.49314</td>\n",
       "      <td>0.441532</td>\n",
       "      <td>0.361552</td>\n",
       "      <td>0.407706</td>\n",
       "      <td>0.416655</td>\n",
       "      <td>0.339259</td>\n",
       "      <td>0.259934</td>\n",
       "      <td>0.249204</td>\n",
       "      <td>...</td>\n",
       "      <td>0.194031</td>\n",
       "      <td>0.194334</td>\n",
       "      <td>0.200568</td>\n",
       "      <td>0.20612</td>\n",
       "      <td>0.246164</td>\n",
       "      <td>0.186495</td>\n",
       "      <td>0.19435</td>\n",
       "      <td>0.179016</td>\n",
       "      <td>0.197519</td>\n",
       "      <td>0.167601</td>\n",
       "    </tr>\n",
       "    <tr>\n",
       "      <th>Calinski Harabasz score Kmeans</th>\n",
       "      <td>163.347117</td>\n",
       "      <td>143.961829</td>\n",
       "      <td>140.237503</td>\n",
       "      <td>131.139719</td>\n",
       "      <td>126.372254</td>\n",
       "      <td>124.083975</td>\n",
       "      <td>126.951559</td>\n",
       "      <td>124.08595</td>\n",
       "      <td>120.499064</td>\n",
       "      <td>114.801789</td>\n",
       "      <td>...</td>\n",
       "      <td>94.420326</td>\n",
       "      <td>90.99197</td>\n",
       "      <td>90.567331</td>\n",
       "      <td>91.684119</td>\n",
       "      <td>88.474139</td>\n",
       "      <td>88.029837</td>\n",
       "      <td>86.959254</td>\n",
       "      <td>85.771191</td>\n",
       "      <td>85.382756</td>\n",
       "      <td>85.455843</td>\n",
       "    </tr>\n",
       "    <tr>\n",
       "      <th>Davies Bouldin score Kmeans</th>\n",
       "      <td>0.573265</td>\n",
       "      <td>0.884293</td>\n",
       "      <td>0.766433</td>\n",
       "      <td>0.835908</td>\n",
       "      <td>0.897067</td>\n",
       "      <td>0.835256</td>\n",
       "      <td>0.727208</td>\n",
       "      <td>0.798491</td>\n",
       "      <td>0.934306</td>\n",
       "      <td>0.963701</td>\n",
       "      <td>...</td>\n",
       "      <td>0.972938</td>\n",
       "      <td>1.003349</td>\n",
       "      <td>1.001827</td>\n",
       "      <td>1.008287</td>\n",
       "      <td>0.917306</td>\n",
       "      <td>0.944413</td>\n",
       "      <td>0.949492</td>\n",
       "      <td>0.995402</td>\n",
       "      <td>0.925728</td>\n",
       "      <td>1.096963</td>\n",
       "    </tr>\n",
       "    <tr>\n",
       "      <th>Silhouette score Hierarchical Agglomerative</th>\n",
       "      <td>0.624729</td>\n",
       "      <td>0.437283</td>\n",
       "      <td>0.453831</td>\n",
       "      <td>0.418285</td>\n",
       "      <td>0.41912</td>\n",
       "      <td>0.41501</td>\n",
       "      <td>0.408691</td>\n",
       "      <td>0.223656</td>\n",
       "      <td>0.227136</td>\n",
       "      <td>0.230184</td>\n",
       "      <td>...</td>\n",
       "      <td>0.243863</td>\n",
       "      <td>0.24213</td>\n",
       "      <td>0.243147</td>\n",
       "      <td>0.244207</td>\n",
       "      <td>0.229151</td>\n",
       "      <td>0.224524</td>\n",
       "      <td>0.223597</td>\n",
       "      <td>0.224312</td>\n",
       "      <td>0.220141</td>\n",
       "      <td>0.218944</td>\n",
       "    </tr>\n",
       "    <tr>\n",
       "      <th>Calinski Harabasz score Hierarchical Agglomerative</th>\n",
       "      <td>144.02045</td>\n",
       "      <td>122.132761</td>\n",
       "      <td>132.565451</td>\n",
       "      <td>126.263062</td>\n",
       "      <td>119.760287</td>\n",
       "      <td>116.575106</td>\n",
       "      <td>117.957686</td>\n",
       "      <td>114.052659</td>\n",
       "      <td>110.649018</td>\n",
       "      <td>109.210665</td>\n",
       "      <td>...</td>\n",
       "      <td>97.198475</td>\n",
       "      <td>95.285783</td>\n",
       "      <td>93.640943</td>\n",
       "      <td>92.316075</td>\n",
       "      <td>91.217071</td>\n",
       "      <td>90.257572</td>\n",
       "      <td>89.518474</td>\n",
       "      <td>89.011058</td>\n",
       "      <td>88.156601</td>\n",
       "      <td>87.467778</td>\n",
       "    </tr>\n",
       "    <tr>\n",
       "      <th>Davies Bouldin score Hierarchical Agglomerative</th>\n",
       "      <td>0.716934</td>\n",
       "      <td>0.967118</td>\n",
       "      <td>0.892859</td>\n",
       "      <td>0.891927</td>\n",
       "      <td>0.771043</td>\n",
       "      <td>0.760419</td>\n",
       "      <td>0.659727</td>\n",
       "      <td>0.953232</td>\n",
       "      <td>0.961536</td>\n",
       "      <td>1.015317</td>\n",
       "      <td>...</td>\n",
       "      <td>0.977862</td>\n",
       "      <td>0.946411</td>\n",
       "      <td>0.947952</td>\n",
       "      <td>0.95165</td>\n",
       "      <td>0.953669</td>\n",
       "      <td>0.97896</td>\n",
       "      <td>0.931125</td>\n",
       "      <td>0.878767</td>\n",
       "      <td>0.881771</td>\n",
       "      <td>0.899125</td>\n",
       "    </tr>\n",
       "    <tr>\n",
       "      <th>Silhouette score Affinity propagation</th>\n",
       "      <td>n.a.</td>\n",
       "      <td>n.a.</td>\n",
       "      <td>n.a.</td>\n",
       "      <td>n.a.</td>\n",
       "      <td>n.a.</td>\n",
       "      <td>n.a.</td>\n",
       "      <td>n.a.</td>\n",
       "      <td>n.a.</td>\n",
       "      <td>n.a.</td>\n",
       "      <td>n.a.</td>\n",
       "      <td>...</td>\n",
       "      <td>n.a.</td>\n",
       "      <td>n.a.</td>\n",
       "      <td>n.a.</td>\n",
       "      <td>n.a.</td>\n",
       "      <td>n.a.</td>\n",
       "      <td>n.a.</td>\n",
       "      <td>n.a.</td>\n",
       "      <td>n.a.</td>\n",
       "      <td>n.a.</td>\n",
       "      <td>n.a.</td>\n",
       "    </tr>\n",
       "    <tr>\n",
       "      <th>Calinski Harabasz score Affinity propagation</th>\n",
       "      <td>n.a.</td>\n",
       "      <td>n.a.</td>\n",
       "      <td>n.a.</td>\n",
       "      <td>n.a.</td>\n",
       "      <td>n.a.</td>\n",
       "      <td>n.a.</td>\n",
       "      <td>n.a.</td>\n",
       "      <td>n.a.</td>\n",
       "      <td>n.a.</td>\n",
       "      <td>n.a.</td>\n",
       "      <td>...</td>\n",
       "      <td>n.a.</td>\n",
       "      <td>n.a.</td>\n",
       "      <td>n.a.</td>\n",
       "      <td>n.a.</td>\n",
       "      <td>n.a.</td>\n",
       "      <td>n.a.</td>\n",
       "      <td>n.a.</td>\n",
       "      <td>n.a.</td>\n",
       "      <td>n.a.</td>\n",
       "      <td>n.a.</td>\n",
       "    </tr>\n",
       "    <tr>\n",
       "      <th>Davies Bouldin score Affinity propagation</th>\n",
       "      <td>n.a.</td>\n",
       "      <td>n.a.</td>\n",
       "      <td>n.a.</td>\n",
       "      <td>n.a.</td>\n",
       "      <td>n.a.</td>\n",
       "      <td>n.a.</td>\n",
       "      <td>n.a.</td>\n",
       "      <td>n.a.</td>\n",
       "      <td>n.a.</td>\n",
       "      <td>n.a.</td>\n",
       "      <td>...</td>\n",
       "      <td>n.a.</td>\n",
       "      <td>n.a.</td>\n",
       "      <td>n.a.</td>\n",
       "      <td>n.a.</td>\n",
       "      <td>n.a.</td>\n",
       "      <td>n.a.</td>\n",
       "      <td>n.a.</td>\n",
       "      <td>n.a.</td>\n",
       "      <td>n.a.</td>\n",
       "      <td>n.a.</td>\n",
       "    </tr>\n",
       "    <tr>\n",
       "      <th>Silhouette score Fuzzy</th>\n",
       "      <td>0.668198</td>\n",
       "      <td>0.455283</td>\n",
       "      <td>0.225661</td>\n",
       "      <td>0.19474</td>\n",
       "      <td>0.08897</td>\n",
       "      <td>0.170106</td>\n",
       "      <td>0.118835</td>\n",
       "      <td>0.127996</td>\n",
       "      <td>0.118555</td>\n",
       "      <td>0.076526</td>\n",
       "      <td>...</td>\n",
       "      <td>-0.08203</td>\n",
       "      <td>-0.056105</td>\n",
       "      <td>-0.037052</td>\n",
       "      <td>-0.030128</td>\n",
       "      <td>0.074445</td>\n",
       "      <td>-0.100521</td>\n",
       "      <td>0.052291</td>\n",
       "      <td>-0.073428</td>\n",
       "      <td>-0.047376</td>\n",
       "      <td>-0.045643</td>\n",
       "    </tr>\n",
       "    <tr>\n",
       "      <th>Calinski Harabasz score Fuzzy</th>\n",
       "      <td>161.14675</td>\n",
       "      <td>141.887829</td>\n",
       "      <td>105.328972</td>\n",
       "      <td>90.329419</td>\n",
       "      <td>92.419199</td>\n",
       "      <td>98.640811</td>\n",
       "      <td>83.750575</td>\n",
       "      <td>80.749044</td>\n",
       "      <td>97.369801</td>\n",
       "      <td>76.534984</td>\n",
       "      <td>...</td>\n",
       "      <td>36.423839</td>\n",
       "      <td>37.762826</td>\n",
       "      <td>42.81233</td>\n",
       "      <td>60.858109</td>\n",
       "      <td>61.862075</td>\n",
       "      <td>35.883597</td>\n",
       "      <td>55.691262</td>\n",
       "      <td>27.132009</td>\n",
       "      <td>35.739499</td>\n",
       "      <td>45.183883</td>\n",
       "    </tr>\n",
       "    <tr>\n",
       "      <th>Davies Bouldin score Fuzzy</th>\n",
       "      <td>0.6016</td>\n",
       "      <td>0.928261</td>\n",
       "      <td>1.562229</td>\n",
       "      <td>1.390783</td>\n",
       "      <td>1.691598</td>\n",
       "      <td>1.278225</td>\n",
       "      <td>2.001049</td>\n",
       "      <td>1.691501</td>\n",
       "      <td>1.08852</td>\n",
       "      <td>1.547989</td>\n",
       "      <td>...</td>\n",
       "      <td>1.828141</td>\n",
       "      <td>2.101181</td>\n",
       "      <td>1.65542</td>\n",
       "      <td>1.353007</td>\n",
       "      <td>1.212334</td>\n",
       "      <td>1.451485</td>\n",
       "      <td>1.188505</td>\n",
       "      <td>1.709717</td>\n",
       "      <td>1.762286</td>\n",
       "      <td>1.553146</td>\n",
       "    </tr>\n",
       "    <tr>\n",
       "      <th>Silhouette score Som5x5</th>\n",
       "      <td>n.a.</td>\n",
       "      <td>n.a.</td>\n",
       "      <td>n.a.</td>\n",
       "      <td>n.a.</td>\n",
       "      <td>n.a.</td>\n",
       "      <td>n.a.</td>\n",
       "      <td>n.a.</td>\n",
       "      <td>n.a.</td>\n",
       "      <td>n.a.</td>\n",
       "      <td>n.a.</td>\n",
       "      <td>...</td>\n",
       "      <td>n.a.</td>\n",
       "      <td>n.a.</td>\n",
       "      <td>n.a.</td>\n",
       "      <td>n.a.</td>\n",
       "      <td>-0.124394</td>\n",
       "      <td>n.a.</td>\n",
       "      <td>n.a.</td>\n",
       "      <td>n.a.</td>\n",
       "      <td>n.a.</td>\n",
       "      <td>n.a.</td>\n",
       "    </tr>\n",
       "    <tr>\n",
       "      <th>Calinski Harabasz score Som5x5</th>\n",
       "      <td>n.a.</td>\n",
       "      <td>n.a.</td>\n",
       "      <td>n.a.</td>\n",
       "      <td>n.a.</td>\n",
       "      <td>n.a.</td>\n",
       "      <td>n.a.</td>\n",
       "      <td>n.a.</td>\n",
       "      <td>n.a.</td>\n",
       "      <td>n.a.</td>\n",
       "      <td>n.a.</td>\n",
       "      <td>...</td>\n",
       "      <td>n.a.</td>\n",
       "      <td>n.a.</td>\n",
       "      <td>n.a.</td>\n",
       "      <td>n.a.</td>\n",
       "      <td>15.406212</td>\n",
       "      <td>n.a.</td>\n",
       "      <td>n.a.</td>\n",
       "      <td>n.a.</td>\n",
       "      <td>n.a.</td>\n",
       "      <td>n.a.</td>\n",
       "    </tr>\n",
       "    <tr>\n",
       "      <th>Davies Bouldin score Som5x5</th>\n",
       "      <td>n.a.</td>\n",
       "      <td>n.a.</td>\n",
       "      <td>n.a.</td>\n",
       "      <td>n.a.</td>\n",
       "      <td>n.a.</td>\n",
       "      <td>n.a.</td>\n",
       "      <td>n.a.</td>\n",
       "      <td>n.a.</td>\n",
       "      <td>n.a.</td>\n",
       "      <td>n.a.</td>\n",
       "      <td>...</td>\n",
       "      <td>n.a.</td>\n",
       "      <td>n.a.</td>\n",
       "      <td>n.a.</td>\n",
       "      <td>n.a.</td>\n",
       "      <td>2.586391</td>\n",
       "      <td>n.a.</td>\n",
       "      <td>n.a.</td>\n",
       "      <td>n.a.</td>\n",
       "      <td>n.a.</td>\n",
       "      <td>n.a.</td>\n",
       "    </tr>\n",
       "    <tr>\n",
       "      <th>Silhouette score Som4x4</th>\n",
       "      <td>n.a.</td>\n",
       "      <td>n.a.</td>\n",
       "      <td>n.a.</td>\n",
       "      <td>n.a.</td>\n",
       "      <td>n.a.</td>\n",
       "      <td>n.a.</td>\n",
       "      <td>n.a.</td>\n",
       "      <td>n.a.</td>\n",
       "      <td>n.a.</td>\n",
       "      <td>n.a.</td>\n",
       "      <td>...</td>\n",
       "      <td>n.a.</td>\n",
       "      <td>n.a.</td>\n",
       "      <td>n.a.</td>\n",
       "      <td>n.a.</td>\n",
       "      <td>n.a.</td>\n",
       "      <td>n.a.</td>\n",
       "      <td>n.a.</td>\n",
       "      <td>n.a.</td>\n",
       "      <td>n.a.</td>\n",
       "      <td>n.a.</td>\n",
       "    </tr>\n",
       "    <tr>\n",
       "      <th>Calinski Harabasz score Som4x4</th>\n",
       "      <td>n.a.</td>\n",
       "      <td>n.a.</td>\n",
       "      <td>n.a.</td>\n",
       "      <td>n.a.</td>\n",
       "      <td>n.a.</td>\n",
       "      <td>n.a.</td>\n",
       "      <td>n.a.</td>\n",
       "      <td>n.a.</td>\n",
       "      <td>n.a.</td>\n",
       "      <td>n.a.</td>\n",
       "      <td>...</td>\n",
       "      <td>n.a.</td>\n",
       "      <td>n.a.</td>\n",
       "      <td>n.a.</td>\n",
       "      <td>n.a.</td>\n",
       "      <td>n.a.</td>\n",
       "      <td>n.a.</td>\n",
       "      <td>n.a.</td>\n",
       "      <td>n.a.</td>\n",
       "      <td>n.a.</td>\n",
       "      <td>n.a.</td>\n",
       "    </tr>\n",
       "    <tr>\n",
       "      <th>Davies Bouldin score Som4x4</th>\n",
       "      <td>n.a.</td>\n",
       "      <td>n.a.</td>\n",
       "      <td>n.a.</td>\n",
       "      <td>n.a.</td>\n",
       "      <td>n.a.</td>\n",
       "      <td>n.a.</td>\n",
       "      <td>n.a.</td>\n",
       "      <td>n.a.</td>\n",
       "      <td>n.a.</td>\n",
       "      <td>n.a.</td>\n",
       "      <td>...</td>\n",
       "      <td>n.a.</td>\n",
       "      <td>n.a.</td>\n",
       "      <td>n.a.</td>\n",
       "      <td>n.a.</td>\n",
       "      <td>n.a.</td>\n",
       "      <td>n.a.</td>\n",
       "      <td>n.a.</td>\n",
       "      <td>n.a.</td>\n",
       "      <td>n.a.</td>\n",
       "      <td>n.a.</td>\n",
       "    </tr>\n",
       "    <tr>\n",
       "      <th>Silhouette score Som3x3</th>\n",
       "      <td>n.a.</td>\n",
       "      <td>n.a.</td>\n",
       "      <td>n.a.</td>\n",
       "      <td>n.a.</td>\n",
       "      <td>n.a.</td>\n",
       "      <td>n.a.</td>\n",
       "      <td>n.a.</td>\n",
       "      <td>-0.128841</td>\n",
       "      <td>n.a.</td>\n",
       "      <td>n.a.</td>\n",
       "      <td>...</td>\n",
       "      <td>n.a.</td>\n",
       "      <td>n.a.</td>\n",
       "      <td>n.a.</td>\n",
       "      <td>n.a.</td>\n",
       "      <td>n.a.</td>\n",
       "      <td>n.a.</td>\n",
       "      <td>n.a.</td>\n",
       "      <td>n.a.</td>\n",
       "      <td>n.a.</td>\n",
       "      <td>n.a.</td>\n",
       "    </tr>\n",
       "    <tr>\n",
       "      <th>Calinski Harabasz score Som3x3</th>\n",
       "      <td>n.a.</td>\n",
       "      <td>n.a.</td>\n",
       "      <td>n.a.</td>\n",
       "      <td>n.a.</td>\n",
       "      <td>n.a.</td>\n",
       "      <td>n.a.</td>\n",
       "      <td>n.a.</td>\n",
       "      <td>5.196636</td>\n",
       "      <td>n.a.</td>\n",
       "      <td>n.a.</td>\n",
       "      <td>...</td>\n",
       "      <td>n.a.</td>\n",
       "      <td>n.a.</td>\n",
       "      <td>n.a.</td>\n",
       "      <td>n.a.</td>\n",
       "      <td>n.a.</td>\n",
       "      <td>n.a.</td>\n",
       "      <td>n.a.</td>\n",
       "      <td>n.a.</td>\n",
       "      <td>n.a.</td>\n",
       "      <td>n.a.</td>\n",
       "    </tr>\n",
       "    <tr>\n",
       "      <th>Davies Bouldin score Som3x3</th>\n",
       "      <td>n.a.</td>\n",
       "      <td>n.a.</td>\n",
       "      <td>n.a.</td>\n",
       "      <td>n.a.</td>\n",
       "      <td>n.a.</td>\n",
       "      <td>n.a.</td>\n",
       "      <td>n.a.</td>\n",
       "      <td>3.643959</td>\n",
       "      <td>n.a.</td>\n",
       "      <td>n.a.</td>\n",
       "      <td>...</td>\n",
       "      <td>n.a.</td>\n",
       "      <td>n.a.</td>\n",
       "      <td>n.a.</td>\n",
       "      <td>n.a.</td>\n",
       "      <td>n.a.</td>\n",
       "      <td>n.a.</td>\n",
       "      <td>n.a.</td>\n",
       "      <td>n.a.</td>\n",
       "      <td>n.a.</td>\n",
       "      <td>n.a.</td>\n",
       "    </tr>\n",
       "  </tbody>\n",
       "</table>\n",
       "<p>21 rows × 29 columns</p>\n",
       "</div>"
      ],
      "text/plain": [
       "N cluster                                                   2           3   \\\n",
       "Silhouette score Kmeans                               0.677714    0.478115   \n",
       "Calinski Harabasz score Kmeans                      163.347117  143.961829   \n",
       "Davies Bouldin score Kmeans                           0.573265    0.884293   \n",
       "Silhouette score Hierarchical Agglomerative           0.624729    0.437283   \n",
       "Calinski Harabasz score Hierarchical Agglomerative   144.02045  122.132761   \n",
       "Davies Bouldin score Hierarchical Agglomerative       0.716934    0.967118   \n",
       "Silhouette score Affinity propagation                     n.a.        n.a.   \n",
       "Calinski Harabasz score Affinity propagation              n.a.        n.a.   \n",
       "Davies Bouldin score Affinity propagation                 n.a.        n.a.   \n",
       "Silhouette score Fuzzy                                0.668198    0.455283   \n",
       "Calinski Harabasz score Fuzzy                        161.14675  141.887829   \n",
       "Davies Bouldin score Fuzzy                              0.6016    0.928261   \n",
       "Silhouette score Som5x5                                   n.a.        n.a.   \n",
       "Calinski Harabasz score Som5x5                            n.a.        n.a.   \n",
       "Davies Bouldin score Som5x5                               n.a.        n.a.   \n",
       "Silhouette score Som4x4                                   n.a.        n.a.   \n",
       "Calinski Harabasz score Som4x4                            n.a.        n.a.   \n",
       "Davies Bouldin score Som4x4                               n.a.        n.a.   \n",
       "Silhouette score Som3x3                                   n.a.        n.a.   \n",
       "Calinski Harabasz score Som3x3                            n.a.        n.a.   \n",
       "Davies Bouldin score Som3x3                               n.a.        n.a.   \n",
       "\n",
       "N cluster                                                   4           5   \\\n",
       "Silhouette score Kmeans                                0.49314    0.441532   \n",
       "Calinski Harabasz score Kmeans                      140.237503  131.139719   \n",
       "Davies Bouldin score Kmeans                           0.766433    0.835908   \n",
       "Silhouette score Hierarchical Agglomerative           0.453831    0.418285   \n",
       "Calinski Harabasz score Hierarchical Agglomerative  132.565451  126.263062   \n",
       "Davies Bouldin score Hierarchical Agglomerative       0.892859    0.891927   \n",
       "Silhouette score Affinity propagation                     n.a.        n.a.   \n",
       "Calinski Harabasz score Affinity propagation              n.a.        n.a.   \n",
       "Davies Bouldin score Affinity propagation                 n.a.        n.a.   \n",
       "Silhouette score Fuzzy                                0.225661     0.19474   \n",
       "Calinski Harabasz score Fuzzy                       105.328972   90.329419   \n",
       "Davies Bouldin score Fuzzy                            1.562229    1.390783   \n",
       "Silhouette score Som5x5                                   n.a.        n.a.   \n",
       "Calinski Harabasz score Som5x5                            n.a.        n.a.   \n",
       "Davies Bouldin score Som5x5                               n.a.        n.a.   \n",
       "Silhouette score Som4x4                                   n.a.        n.a.   \n",
       "Calinski Harabasz score Som4x4                            n.a.        n.a.   \n",
       "Davies Bouldin score Som4x4                               n.a.        n.a.   \n",
       "Silhouette score Som3x3                                   n.a.        n.a.   \n",
       "Calinski Harabasz score Som3x3                            n.a.        n.a.   \n",
       "Davies Bouldin score Som3x3                               n.a.        n.a.   \n",
       "\n",
       "N cluster                                                   6           7   \\\n",
       "Silhouette score Kmeans                               0.361552    0.407706   \n",
       "Calinski Harabasz score Kmeans                      126.372254  124.083975   \n",
       "Davies Bouldin score Kmeans                           0.897067    0.835256   \n",
       "Silhouette score Hierarchical Agglomerative            0.41912     0.41501   \n",
       "Calinski Harabasz score Hierarchical Agglomerative  119.760287  116.575106   \n",
       "Davies Bouldin score Hierarchical Agglomerative       0.771043    0.760419   \n",
       "Silhouette score Affinity propagation                     n.a.        n.a.   \n",
       "Calinski Harabasz score Affinity propagation              n.a.        n.a.   \n",
       "Davies Bouldin score Affinity propagation                 n.a.        n.a.   \n",
       "Silhouette score Fuzzy                                 0.08897    0.170106   \n",
       "Calinski Harabasz score Fuzzy                        92.419199   98.640811   \n",
       "Davies Bouldin score Fuzzy                            1.691598    1.278225   \n",
       "Silhouette score Som5x5                                   n.a.        n.a.   \n",
       "Calinski Harabasz score Som5x5                            n.a.        n.a.   \n",
       "Davies Bouldin score Som5x5                               n.a.        n.a.   \n",
       "Silhouette score Som4x4                                   n.a.        n.a.   \n",
       "Calinski Harabasz score Som4x4                            n.a.        n.a.   \n",
       "Davies Bouldin score Som4x4                               n.a.        n.a.   \n",
       "Silhouette score Som3x3                                   n.a.        n.a.   \n",
       "Calinski Harabasz score Som3x3                            n.a.        n.a.   \n",
       "Davies Bouldin score Som3x3                               n.a.        n.a.   \n",
       "\n",
       "N cluster                                                   8           9   \\\n",
       "Silhouette score Kmeans                               0.416655    0.339259   \n",
       "Calinski Harabasz score Kmeans                      126.951559   124.08595   \n",
       "Davies Bouldin score Kmeans                           0.727208    0.798491   \n",
       "Silhouette score Hierarchical Agglomerative           0.408691    0.223656   \n",
       "Calinski Harabasz score Hierarchical Agglomerative  117.957686  114.052659   \n",
       "Davies Bouldin score Hierarchical Agglomerative       0.659727    0.953232   \n",
       "Silhouette score Affinity propagation                     n.a.        n.a.   \n",
       "Calinski Harabasz score Affinity propagation              n.a.        n.a.   \n",
       "Davies Bouldin score Affinity propagation                 n.a.        n.a.   \n",
       "Silhouette score Fuzzy                                0.118835    0.127996   \n",
       "Calinski Harabasz score Fuzzy                        83.750575   80.749044   \n",
       "Davies Bouldin score Fuzzy                            2.001049    1.691501   \n",
       "Silhouette score Som5x5                                   n.a.        n.a.   \n",
       "Calinski Harabasz score Som5x5                            n.a.        n.a.   \n",
       "Davies Bouldin score Som5x5                               n.a.        n.a.   \n",
       "Silhouette score Som4x4                                   n.a.        n.a.   \n",
       "Calinski Harabasz score Som4x4                            n.a.        n.a.   \n",
       "Davies Bouldin score Som4x4                               n.a.        n.a.   \n",
       "Silhouette score Som3x3                                   n.a.   -0.128841   \n",
       "Calinski Harabasz score Som3x3                            n.a.    5.196636   \n",
       "Davies Bouldin score Som3x3                               n.a.    3.643959   \n",
       "\n",
       "N cluster                                                   10          11  \\\n",
       "Silhouette score Kmeans                               0.259934    0.249204   \n",
       "Calinski Harabasz score Kmeans                      120.499064  114.801789   \n",
       "Davies Bouldin score Kmeans                           0.934306    0.963701   \n",
       "Silhouette score Hierarchical Agglomerative           0.227136    0.230184   \n",
       "Calinski Harabasz score Hierarchical Agglomerative  110.649018  109.210665   \n",
       "Davies Bouldin score Hierarchical Agglomerative       0.961536    1.015317   \n",
       "Silhouette score Affinity propagation                     n.a.        n.a.   \n",
       "Calinski Harabasz score Affinity propagation              n.a.        n.a.   \n",
       "Davies Bouldin score Affinity propagation                 n.a.        n.a.   \n",
       "Silhouette score Fuzzy                                0.118555    0.076526   \n",
       "Calinski Harabasz score Fuzzy                        97.369801   76.534984   \n",
       "Davies Bouldin score Fuzzy                             1.08852    1.547989   \n",
       "Silhouette score Som5x5                                   n.a.        n.a.   \n",
       "Calinski Harabasz score Som5x5                            n.a.        n.a.   \n",
       "Davies Bouldin score Som5x5                               n.a.        n.a.   \n",
       "Silhouette score Som4x4                                   n.a.        n.a.   \n",
       "Calinski Harabasz score Som4x4                            n.a.        n.a.   \n",
       "Davies Bouldin score Som4x4                               n.a.        n.a.   \n",
       "Silhouette score Som3x3                                   n.a.        n.a.   \n",
       "Calinski Harabasz score Som3x3                            n.a.        n.a.   \n",
       "Davies Bouldin score Som3x3                               n.a.        n.a.   \n",
       "\n",
       "N cluster                                           ...         21         22  \\\n",
       "Silhouette score Kmeans                             ...   0.194031   0.194334   \n",
       "Calinski Harabasz score Kmeans                      ...  94.420326   90.99197   \n",
       "Davies Bouldin score Kmeans                         ...   0.972938   1.003349   \n",
       "Silhouette score Hierarchical Agglomerative         ...   0.243863    0.24213   \n",
       "Calinski Harabasz score Hierarchical Agglomerative  ...  97.198475  95.285783   \n",
       "Davies Bouldin score Hierarchical Agglomerative     ...   0.977862   0.946411   \n",
       "Silhouette score Affinity propagation               ...       n.a.       n.a.   \n",
       "Calinski Harabasz score Affinity propagation        ...       n.a.       n.a.   \n",
       "Davies Bouldin score Affinity propagation           ...       n.a.       n.a.   \n",
       "Silhouette score Fuzzy                              ...   -0.08203  -0.056105   \n",
       "Calinski Harabasz score Fuzzy                       ...  36.423839  37.762826   \n",
       "Davies Bouldin score Fuzzy                          ...   1.828141   2.101181   \n",
       "Silhouette score Som5x5                             ...       n.a.       n.a.   \n",
       "Calinski Harabasz score Som5x5                      ...       n.a.       n.a.   \n",
       "Davies Bouldin score Som5x5                         ...       n.a.       n.a.   \n",
       "Silhouette score Som4x4                             ...       n.a.       n.a.   \n",
       "Calinski Harabasz score Som4x4                      ...       n.a.       n.a.   \n",
       "Davies Bouldin score Som4x4                         ...       n.a.       n.a.   \n",
       "Silhouette score Som3x3                             ...       n.a.       n.a.   \n",
       "Calinski Harabasz score Som3x3                      ...       n.a.       n.a.   \n",
       "Davies Bouldin score Som3x3                         ...       n.a.       n.a.   \n",
       "\n",
       "N cluster                                                  23         24  \\\n",
       "Silhouette score Kmeans                              0.200568    0.20612   \n",
       "Calinski Harabasz score Kmeans                      90.567331  91.684119   \n",
       "Davies Bouldin score Kmeans                          1.001827   1.008287   \n",
       "Silhouette score Hierarchical Agglomerative          0.243147   0.244207   \n",
       "Calinski Harabasz score Hierarchical Agglomerative  93.640943  92.316075   \n",
       "Davies Bouldin score Hierarchical Agglomerative      0.947952    0.95165   \n",
       "Silhouette score Affinity propagation                    n.a.       n.a.   \n",
       "Calinski Harabasz score Affinity propagation             n.a.       n.a.   \n",
       "Davies Bouldin score Affinity propagation                n.a.       n.a.   \n",
       "Silhouette score Fuzzy                              -0.037052  -0.030128   \n",
       "Calinski Harabasz score Fuzzy                        42.81233  60.858109   \n",
       "Davies Bouldin score Fuzzy                            1.65542   1.353007   \n",
       "Silhouette score Som5x5                                  n.a.       n.a.   \n",
       "Calinski Harabasz score Som5x5                           n.a.       n.a.   \n",
       "Davies Bouldin score Som5x5                              n.a.       n.a.   \n",
       "Silhouette score Som4x4                                  n.a.       n.a.   \n",
       "Calinski Harabasz score Som4x4                           n.a.       n.a.   \n",
       "Davies Bouldin score Som4x4                              n.a.       n.a.   \n",
       "Silhouette score Som3x3                                  n.a.       n.a.   \n",
       "Calinski Harabasz score Som3x3                           n.a.       n.a.   \n",
       "Davies Bouldin score Som3x3                              n.a.       n.a.   \n",
       "\n",
       "N cluster                                                  25         26  \\\n",
       "Silhouette score Kmeans                              0.246164   0.186495   \n",
       "Calinski Harabasz score Kmeans                      88.474139  88.029837   \n",
       "Davies Bouldin score Kmeans                          0.917306   0.944413   \n",
       "Silhouette score Hierarchical Agglomerative          0.229151   0.224524   \n",
       "Calinski Harabasz score Hierarchical Agglomerative  91.217071  90.257572   \n",
       "Davies Bouldin score Hierarchical Agglomerative      0.953669    0.97896   \n",
       "Silhouette score Affinity propagation                    n.a.       n.a.   \n",
       "Calinski Harabasz score Affinity propagation             n.a.       n.a.   \n",
       "Davies Bouldin score Affinity propagation                n.a.       n.a.   \n",
       "Silhouette score Fuzzy                               0.074445  -0.100521   \n",
       "Calinski Harabasz score Fuzzy                       61.862075  35.883597   \n",
       "Davies Bouldin score Fuzzy                           1.212334   1.451485   \n",
       "Silhouette score Som5x5                             -0.124394       n.a.   \n",
       "Calinski Harabasz score Som5x5                      15.406212       n.a.   \n",
       "Davies Bouldin score Som5x5                          2.586391       n.a.   \n",
       "Silhouette score Som4x4                                  n.a.       n.a.   \n",
       "Calinski Harabasz score Som4x4                           n.a.       n.a.   \n",
       "Davies Bouldin score Som4x4                              n.a.       n.a.   \n",
       "Silhouette score Som3x3                                  n.a.       n.a.   \n",
       "Calinski Harabasz score Som3x3                           n.a.       n.a.   \n",
       "Davies Bouldin score Som3x3                              n.a.       n.a.   \n",
       "\n",
       "N cluster                                                  27         28  \\\n",
       "Silhouette score Kmeans                               0.19435   0.179016   \n",
       "Calinski Harabasz score Kmeans                      86.959254  85.771191   \n",
       "Davies Bouldin score Kmeans                          0.949492   0.995402   \n",
       "Silhouette score Hierarchical Agglomerative          0.223597   0.224312   \n",
       "Calinski Harabasz score Hierarchical Agglomerative  89.518474  89.011058   \n",
       "Davies Bouldin score Hierarchical Agglomerative      0.931125   0.878767   \n",
       "Silhouette score Affinity propagation                    n.a.       n.a.   \n",
       "Calinski Harabasz score Affinity propagation             n.a.       n.a.   \n",
       "Davies Bouldin score Affinity propagation                n.a.       n.a.   \n",
       "Silhouette score Fuzzy                               0.052291  -0.073428   \n",
       "Calinski Harabasz score Fuzzy                       55.691262  27.132009   \n",
       "Davies Bouldin score Fuzzy                           1.188505   1.709717   \n",
       "Silhouette score Som5x5                                  n.a.       n.a.   \n",
       "Calinski Harabasz score Som5x5                           n.a.       n.a.   \n",
       "Davies Bouldin score Som5x5                              n.a.       n.a.   \n",
       "Silhouette score Som4x4                                  n.a.       n.a.   \n",
       "Calinski Harabasz score Som4x4                           n.a.       n.a.   \n",
       "Davies Bouldin score Som4x4                              n.a.       n.a.   \n",
       "Silhouette score Som3x3                                  n.a.       n.a.   \n",
       "Calinski Harabasz score Som3x3                           n.a.       n.a.   \n",
       "Davies Bouldin score Som3x3                              n.a.       n.a.   \n",
       "\n",
       "N cluster                                                  29         30  \n",
       "Silhouette score Kmeans                              0.197519   0.167601  \n",
       "Calinski Harabasz score Kmeans                      85.382756  85.455843  \n",
       "Davies Bouldin score Kmeans                          0.925728   1.096963  \n",
       "Silhouette score Hierarchical Agglomerative          0.220141   0.218944  \n",
       "Calinski Harabasz score Hierarchical Agglomerative  88.156601  87.467778  \n",
       "Davies Bouldin score Hierarchical Agglomerative      0.881771   0.899125  \n",
       "Silhouette score Affinity propagation                    n.a.       n.a.  \n",
       "Calinski Harabasz score Affinity propagation             n.a.       n.a.  \n",
       "Davies Bouldin score Affinity propagation                n.a.       n.a.  \n",
       "Silhouette score Fuzzy                              -0.047376  -0.045643  \n",
       "Calinski Harabasz score Fuzzy                       35.739499  45.183883  \n",
       "Davies Bouldin score Fuzzy                           1.762286   1.553146  \n",
       "Silhouette score Som5x5                                  n.a.       n.a.  \n",
       "Calinski Harabasz score Som5x5                           n.a.       n.a.  \n",
       "Davies Bouldin score Som5x5                              n.a.       n.a.  \n",
       "Silhouette score Som4x4                                  n.a.       n.a.  \n",
       "Calinski Harabasz score Som4x4                           n.a.       n.a.  \n",
       "Davies Bouldin score Som4x4                              n.a.       n.a.  \n",
       "Silhouette score Som3x3                                  n.a.       n.a.  \n",
       "Calinski Harabasz score Som3x3                           n.a.       n.a.  \n",
       "Davies Bouldin score Som3x3                              n.a.       n.a.  \n",
       "\n",
       "[21 rows x 29 columns]"
      ]
     },
     "execution_count": 4,
     "metadata": {},
     "output_type": "execute_result"
    }
   ],
   "source": [
    "df_metrics_transposed = df_metrics.transpose()\n",
    "df_metrics_transposed"
   ]
  },
  {
   "cell_type": "code",
   "execution_count": 8,
   "metadata": {},
   "outputs": [
    {
     "data": {
      "application/vnd.plotly.v1+json": {
       "config": {
        "plotlyServerURL": "https://plot.ly"
       },
       "data": [
        {
         "alignmentgroup": "True",
         "hovertemplate": "index=%{x}<br>20=%{y}<extra></extra>",
         "legendgroup": "",
         "marker": {
          "color": "#636efa",
          "pattern": {
           "shape": ""
          }
         },
         "name": "",
         "offsetgroup": "",
         "orientation": "v",
         "showlegend": false,
         "textposition": "auto",
         "type": "bar",
         "x": [
          "Silhouette score Kmeans",
          "Silhouette score Hierarchical Agglomerative",
          "Silhouette score Affinity propagation",
          "Silhouette score Fuzzy",
          "Silhouette score Som5x5",
          "Silhouette score Som4x4",
          "Silhouette score Som3x3"
         ],
         "xaxis": "x",
         "y": [
          0.261807185123623,
          0.248400230918359,
          0.22997328064155,
          -0.0254968657377996,
          "n.a.",
          "n.a.",
          "n.a."
         ],
         "yaxis": "y"
        }
       ],
       "layout": {
        "barmode": "relative",
        "height": 600,
        "legend": {
         "tracegroupgap": 0
        },
        "template": {
         "data": {
          "bar": [
           {
            "error_x": {
             "color": "#2a3f5f"
            },
            "error_y": {
             "color": "#2a3f5f"
            },
            "marker": {
             "line": {
              "color": "#E5ECF6",
              "width": 0.5
             },
             "pattern": {
              "fillmode": "overlay",
              "size": 10,
              "solidity": 0.2
             }
            },
            "type": "bar"
           }
          ],
          "barpolar": [
           {
            "marker": {
             "line": {
              "color": "#E5ECF6",
              "width": 0.5
             },
             "pattern": {
              "fillmode": "overlay",
              "size": 10,
              "solidity": 0.2
             }
            },
            "type": "barpolar"
           }
          ],
          "carpet": [
           {
            "aaxis": {
             "endlinecolor": "#2a3f5f",
             "gridcolor": "white",
             "linecolor": "white",
             "minorgridcolor": "white",
             "startlinecolor": "#2a3f5f"
            },
            "baxis": {
             "endlinecolor": "#2a3f5f",
             "gridcolor": "white",
             "linecolor": "white",
             "minorgridcolor": "white",
             "startlinecolor": "#2a3f5f"
            },
            "type": "carpet"
           }
          ],
          "choropleth": [
           {
            "colorbar": {
             "outlinewidth": 0,
             "ticks": ""
            },
            "type": "choropleth"
           }
          ],
          "contour": [
           {
            "colorbar": {
             "outlinewidth": 0,
             "ticks": ""
            },
            "colorscale": [
             [
              0,
              "#0d0887"
             ],
             [
              0.1111111111111111,
              "#46039f"
             ],
             [
              0.2222222222222222,
              "#7201a8"
             ],
             [
              0.3333333333333333,
              "#9c179e"
             ],
             [
              0.4444444444444444,
              "#bd3786"
             ],
             [
              0.5555555555555556,
              "#d8576b"
             ],
             [
              0.6666666666666666,
              "#ed7953"
             ],
             [
              0.7777777777777778,
              "#fb9f3a"
             ],
             [
              0.8888888888888888,
              "#fdca26"
             ],
             [
              1,
              "#f0f921"
             ]
            ],
            "type": "contour"
           }
          ],
          "contourcarpet": [
           {
            "colorbar": {
             "outlinewidth": 0,
             "ticks": ""
            },
            "type": "contourcarpet"
           }
          ],
          "heatmap": [
           {
            "colorbar": {
             "outlinewidth": 0,
             "ticks": ""
            },
            "colorscale": [
             [
              0,
              "#0d0887"
             ],
             [
              0.1111111111111111,
              "#46039f"
             ],
             [
              0.2222222222222222,
              "#7201a8"
             ],
             [
              0.3333333333333333,
              "#9c179e"
             ],
             [
              0.4444444444444444,
              "#bd3786"
             ],
             [
              0.5555555555555556,
              "#d8576b"
             ],
             [
              0.6666666666666666,
              "#ed7953"
             ],
             [
              0.7777777777777778,
              "#fb9f3a"
             ],
             [
              0.8888888888888888,
              "#fdca26"
             ],
             [
              1,
              "#f0f921"
             ]
            ],
            "type": "heatmap"
           }
          ],
          "heatmapgl": [
           {
            "colorbar": {
             "outlinewidth": 0,
             "ticks": ""
            },
            "colorscale": [
             [
              0,
              "#0d0887"
             ],
             [
              0.1111111111111111,
              "#46039f"
             ],
             [
              0.2222222222222222,
              "#7201a8"
             ],
             [
              0.3333333333333333,
              "#9c179e"
             ],
             [
              0.4444444444444444,
              "#bd3786"
             ],
             [
              0.5555555555555556,
              "#d8576b"
             ],
             [
              0.6666666666666666,
              "#ed7953"
             ],
             [
              0.7777777777777778,
              "#fb9f3a"
             ],
             [
              0.8888888888888888,
              "#fdca26"
             ],
             [
              1,
              "#f0f921"
             ]
            ],
            "type": "heatmapgl"
           }
          ],
          "histogram": [
           {
            "marker": {
             "pattern": {
              "fillmode": "overlay",
              "size": 10,
              "solidity": 0.2
             }
            },
            "type": "histogram"
           }
          ],
          "histogram2d": [
           {
            "colorbar": {
             "outlinewidth": 0,
             "ticks": ""
            },
            "colorscale": [
             [
              0,
              "#0d0887"
             ],
             [
              0.1111111111111111,
              "#46039f"
             ],
             [
              0.2222222222222222,
              "#7201a8"
             ],
             [
              0.3333333333333333,
              "#9c179e"
             ],
             [
              0.4444444444444444,
              "#bd3786"
             ],
             [
              0.5555555555555556,
              "#d8576b"
             ],
             [
              0.6666666666666666,
              "#ed7953"
             ],
             [
              0.7777777777777778,
              "#fb9f3a"
             ],
             [
              0.8888888888888888,
              "#fdca26"
             ],
             [
              1,
              "#f0f921"
             ]
            ],
            "type": "histogram2d"
           }
          ],
          "histogram2dcontour": [
           {
            "colorbar": {
             "outlinewidth": 0,
             "ticks": ""
            },
            "colorscale": [
             [
              0,
              "#0d0887"
             ],
             [
              0.1111111111111111,
              "#46039f"
             ],
             [
              0.2222222222222222,
              "#7201a8"
             ],
             [
              0.3333333333333333,
              "#9c179e"
             ],
             [
              0.4444444444444444,
              "#bd3786"
             ],
             [
              0.5555555555555556,
              "#d8576b"
             ],
             [
              0.6666666666666666,
              "#ed7953"
             ],
             [
              0.7777777777777778,
              "#fb9f3a"
             ],
             [
              0.8888888888888888,
              "#fdca26"
             ],
             [
              1,
              "#f0f921"
             ]
            ],
            "type": "histogram2dcontour"
           }
          ],
          "mesh3d": [
           {
            "colorbar": {
             "outlinewidth": 0,
             "ticks": ""
            },
            "type": "mesh3d"
           }
          ],
          "parcoords": [
           {
            "line": {
             "colorbar": {
              "outlinewidth": 0,
              "ticks": ""
             }
            },
            "type": "parcoords"
           }
          ],
          "pie": [
           {
            "automargin": true,
            "type": "pie"
           }
          ],
          "scatter": [
           {
            "marker": {
             "colorbar": {
              "outlinewidth": 0,
              "ticks": ""
             }
            },
            "type": "scatter"
           }
          ],
          "scatter3d": [
           {
            "line": {
             "colorbar": {
              "outlinewidth": 0,
              "ticks": ""
             }
            },
            "marker": {
             "colorbar": {
              "outlinewidth": 0,
              "ticks": ""
             }
            },
            "type": "scatter3d"
           }
          ],
          "scattercarpet": [
           {
            "marker": {
             "colorbar": {
              "outlinewidth": 0,
              "ticks": ""
             }
            },
            "type": "scattercarpet"
           }
          ],
          "scattergeo": [
           {
            "marker": {
             "colorbar": {
              "outlinewidth": 0,
              "ticks": ""
             }
            },
            "type": "scattergeo"
           }
          ],
          "scattergl": [
           {
            "marker": {
             "colorbar": {
              "outlinewidth": 0,
              "ticks": ""
             }
            },
            "type": "scattergl"
           }
          ],
          "scattermapbox": [
           {
            "marker": {
             "colorbar": {
              "outlinewidth": 0,
              "ticks": ""
             }
            },
            "type": "scattermapbox"
           }
          ],
          "scatterpolar": [
           {
            "marker": {
             "colorbar": {
              "outlinewidth": 0,
              "ticks": ""
             }
            },
            "type": "scatterpolar"
           }
          ],
          "scatterpolargl": [
           {
            "marker": {
             "colorbar": {
              "outlinewidth": 0,
              "ticks": ""
             }
            },
            "type": "scatterpolargl"
           }
          ],
          "scatterternary": [
           {
            "marker": {
             "colorbar": {
              "outlinewidth": 0,
              "ticks": ""
             }
            },
            "type": "scatterternary"
           }
          ],
          "surface": [
           {
            "colorbar": {
             "outlinewidth": 0,
             "ticks": ""
            },
            "colorscale": [
             [
              0,
              "#0d0887"
             ],
             [
              0.1111111111111111,
              "#46039f"
             ],
             [
              0.2222222222222222,
              "#7201a8"
             ],
             [
              0.3333333333333333,
              "#9c179e"
             ],
             [
              0.4444444444444444,
              "#bd3786"
             ],
             [
              0.5555555555555556,
              "#d8576b"
             ],
             [
              0.6666666666666666,
              "#ed7953"
             ],
             [
              0.7777777777777778,
              "#fb9f3a"
             ],
             [
              0.8888888888888888,
              "#fdca26"
             ],
             [
              1,
              "#f0f921"
             ]
            ],
            "type": "surface"
           }
          ],
          "table": [
           {
            "cells": {
             "fill": {
              "color": "#EBF0F8"
             },
             "line": {
              "color": "white"
             }
            },
            "header": {
             "fill": {
              "color": "#C8D4E3"
             },
             "line": {
              "color": "white"
             }
            },
            "type": "table"
           }
          ]
         },
         "layout": {
          "annotationdefaults": {
           "arrowcolor": "#2a3f5f",
           "arrowhead": 0,
           "arrowwidth": 1
          },
          "autotypenumbers": "strict",
          "coloraxis": {
           "colorbar": {
            "outlinewidth": 0,
            "ticks": ""
           }
          },
          "colorscale": {
           "diverging": [
            [
             0,
             "#8e0152"
            ],
            [
             0.1,
             "#c51b7d"
            ],
            [
             0.2,
             "#de77ae"
            ],
            [
             0.3,
             "#f1b6da"
            ],
            [
             0.4,
             "#fde0ef"
            ],
            [
             0.5,
             "#f7f7f7"
            ],
            [
             0.6,
             "#e6f5d0"
            ],
            [
             0.7,
             "#b8e186"
            ],
            [
             0.8,
             "#7fbc41"
            ],
            [
             0.9,
             "#4d9221"
            ],
            [
             1,
             "#276419"
            ]
           ],
           "sequential": [
            [
             0,
             "#0d0887"
            ],
            [
             0.1111111111111111,
             "#46039f"
            ],
            [
             0.2222222222222222,
             "#7201a8"
            ],
            [
             0.3333333333333333,
             "#9c179e"
            ],
            [
             0.4444444444444444,
             "#bd3786"
            ],
            [
             0.5555555555555556,
             "#d8576b"
            ],
            [
             0.6666666666666666,
             "#ed7953"
            ],
            [
             0.7777777777777778,
             "#fb9f3a"
            ],
            [
             0.8888888888888888,
             "#fdca26"
            ],
            [
             1,
             "#f0f921"
            ]
           ],
           "sequentialminus": [
            [
             0,
             "#0d0887"
            ],
            [
             0.1111111111111111,
             "#46039f"
            ],
            [
             0.2222222222222222,
             "#7201a8"
            ],
            [
             0.3333333333333333,
             "#9c179e"
            ],
            [
             0.4444444444444444,
             "#bd3786"
            ],
            [
             0.5555555555555556,
             "#d8576b"
            ],
            [
             0.6666666666666666,
             "#ed7953"
            ],
            [
             0.7777777777777778,
             "#fb9f3a"
            ],
            [
             0.8888888888888888,
             "#fdca26"
            ],
            [
             1,
             "#f0f921"
            ]
           ]
          },
          "colorway": [
           "#636efa",
           "#EF553B",
           "#00cc96",
           "#ab63fa",
           "#FFA15A",
           "#19d3f3",
           "#FF6692",
           "#B6E880",
           "#FF97FF",
           "#FECB52"
          ],
          "font": {
           "color": "#2a3f5f"
          },
          "geo": {
           "bgcolor": "white",
           "lakecolor": "white",
           "landcolor": "#E5ECF6",
           "showlakes": true,
           "showland": true,
           "subunitcolor": "white"
          },
          "hoverlabel": {
           "align": "left"
          },
          "hovermode": "closest",
          "mapbox": {
           "style": "light"
          },
          "paper_bgcolor": "white",
          "plot_bgcolor": "#E5ECF6",
          "polar": {
           "angularaxis": {
            "gridcolor": "white",
            "linecolor": "white",
            "ticks": ""
           },
           "bgcolor": "#E5ECF6",
           "radialaxis": {
            "gridcolor": "white",
            "linecolor": "white",
            "ticks": ""
           }
          },
          "scene": {
           "xaxis": {
            "backgroundcolor": "#E5ECF6",
            "gridcolor": "white",
            "gridwidth": 2,
            "linecolor": "white",
            "showbackground": true,
            "ticks": "",
            "zerolinecolor": "white"
           },
           "yaxis": {
            "backgroundcolor": "#E5ECF6",
            "gridcolor": "white",
            "gridwidth": 2,
            "linecolor": "white",
            "showbackground": true,
            "ticks": "",
            "zerolinecolor": "white"
           },
           "zaxis": {
            "backgroundcolor": "#E5ECF6",
            "gridcolor": "white",
            "gridwidth": 2,
            "linecolor": "white",
            "showbackground": true,
            "ticks": "",
            "zerolinecolor": "white"
           }
          },
          "shapedefaults": {
           "line": {
            "color": "#2a3f5f"
           }
          },
          "ternary": {
           "aaxis": {
            "gridcolor": "white",
            "linecolor": "white",
            "ticks": ""
           },
           "baxis": {
            "gridcolor": "white",
            "linecolor": "white",
            "ticks": ""
           },
           "bgcolor": "#E5ECF6",
           "caxis": {
            "gridcolor": "white",
            "linecolor": "white",
            "ticks": ""
           }
          },
          "title": {
           "x": 0.05
          },
          "xaxis": {
           "automargin": true,
           "gridcolor": "white",
           "linecolor": "white",
           "ticks": "",
           "title": {
            "standoff": 15
           },
           "zerolinecolor": "white",
           "zerolinewidth": 2
          },
          "yaxis": {
           "automargin": true,
           "gridcolor": "white",
           "linecolor": "white",
           "ticks": "",
           "title": {
            "standoff": 15
           },
           "zerolinecolor": "white",
           "zerolinewidth": 2
          }
         }
        },
        "title": {
         "text": "Silhouette score (n cluster = 20)"
        },
        "width": 1400,
        "xaxis": {
         "anchor": "y",
         "domain": [
          0,
          1
         ],
         "title": {
          "text": "index"
         }
        },
        "yaxis": {
         "anchor": "x",
         "domain": [
          0,
          1
         ],
         "title": {
          "text": "20"
         }
        }
       }
      }
     },
     "metadata": {},
     "output_type": "display_data"
    }
   ],
   "source": [
    " n_cluster = 20\n",
    " title = \"Silhouette score (n cluster = \"+str(n_cluster)+')'\n",
    " px.bar(df_metrics_transposed.reset_index().iloc[0::3], x=\"index\", y=n_cluster,width=1400,height=600,title=title)"
   ]
  },
  {
   "cell_type": "code",
   "execution_count": 9,
   "metadata": {},
   "outputs": [
    {
     "data": {
      "application/vnd.plotly.v1+json": {
       "config": {
        "plotlyServerURL": "https://plot.ly"
       },
       "data": [
        {
         "alignmentgroup": "True",
         "hovertemplate": "index=%{x}<br>20=%{y}<extra></extra>",
         "legendgroup": "",
         "marker": {
          "color": "#636efa",
          "pattern": {
           "shape": ""
          }
         },
         "name": "",
         "offsetgroup": "",
         "orientation": "v",
         "showlegend": false,
         "textposition": "auto",
         "type": "bar",
         "x": [
          "Calinski Harabasz score Kmeans",
          "Calinski Harabasz score Hierarchical Agglomerative",
          "Calinski Harabasz score Affinity propagation",
          "Calinski Harabasz score Fuzzy",
          "Calinski Harabasz score Som5x5",
          "Calinski Harabasz score Som4x4",
          "Calinski Harabasz score Som3x3"
         ],
         "xaxis": "x",
         "y": [
          96.4758203214428,
          99.4406059169281,
          96.042402425594,
          57.0408755845293,
          "n.a.",
          "n.a.",
          "n.a."
         ],
         "yaxis": "y"
        }
       ],
       "layout": {
        "barmode": "relative",
        "height": 600,
        "legend": {
         "tracegroupgap": 0
        },
        "template": {
         "data": {
          "bar": [
           {
            "error_x": {
             "color": "#2a3f5f"
            },
            "error_y": {
             "color": "#2a3f5f"
            },
            "marker": {
             "line": {
              "color": "#E5ECF6",
              "width": 0.5
             },
             "pattern": {
              "fillmode": "overlay",
              "size": 10,
              "solidity": 0.2
             }
            },
            "type": "bar"
           }
          ],
          "barpolar": [
           {
            "marker": {
             "line": {
              "color": "#E5ECF6",
              "width": 0.5
             },
             "pattern": {
              "fillmode": "overlay",
              "size": 10,
              "solidity": 0.2
             }
            },
            "type": "barpolar"
           }
          ],
          "carpet": [
           {
            "aaxis": {
             "endlinecolor": "#2a3f5f",
             "gridcolor": "white",
             "linecolor": "white",
             "minorgridcolor": "white",
             "startlinecolor": "#2a3f5f"
            },
            "baxis": {
             "endlinecolor": "#2a3f5f",
             "gridcolor": "white",
             "linecolor": "white",
             "minorgridcolor": "white",
             "startlinecolor": "#2a3f5f"
            },
            "type": "carpet"
           }
          ],
          "choropleth": [
           {
            "colorbar": {
             "outlinewidth": 0,
             "ticks": ""
            },
            "type": "choropleth"
           }
          ],
          "contour": [
           {
            "colorbar": {
             "outlinewidth": 0,
             "ticks": ""
            },
            "colorscale": [
             [
              0,
              "#0d0887"
             ],
             [
              0.1111111111111111,
              "#46039f"
             ],
             [
              0.2222222222222222,
              "#7201a8"
             ],
             [
              0.3333333333333333,
              "#9c179e"
             ],
             [
              0.4444444444444444,
              "#bd3786"
             ],
             [
              0.5555555555555556,
              "#d8576b"
             ],
             [
              0.6666666666666666,
              "#ed7953"
             ],
             [
              0.7777777777777778,
              "#fb9f3a"
             ],
             [
              0.8888888888888888,
              "#fdca26"
             ],
             [
              1,
              "#f0f921"
             ]
            ],
            "type": "contour"
           }
          ],
          "contourcarpet": [
           {
            "colorbar": {
             "outlinewidth": 0,
             "ticks": ""
            },
            "type": "contourcarpet"
           }
          ],
          "heatmap": [
           {
            "colorbar": {
             "outlinewidth": 0,
             "ticks": ""
            },
            "colorscale": [
             [
              0,
              "#0d0887"
             ],
             [
              0.1111111111111111,
              "#46039f"
             ],
             [
              0.2222222222222222,
              "#7201a8"
             ],
             [
              0.3333333333333333,
              "#9c179e"
             ],
             [
              0.4444444444444444,
              "#bd3786"
             ],
             [
              0.5555555555555556,
              "#d8576b"
             ],
             [
              0.6666666666666666,
              "#ed7953"
             ],
             [
              0.7777777777777778,
              "#fb9f3a"
             ],
             [
              0.8888888888888888,
              "#fdca26"
             ],
             [
              1,
              "#f0f921"
             ]
            ],
            "type": "heatmap"
           }
          ],
          "heatmapgl": [
           {
            "colorbar": {
             "outlinewidth": 0,
             "ticks": ""
            },
            "colorscale": [
             [
              0,
              "#0d0887"
             ],
             [
              0.1111111111111111,
              "#46039f"
             ],
             [
              0.2222222222222222,
              "#7201a8"
             ],
             [
              0.3333333333333333,
              "#9c179e"
             ],
             [
              0.4444444444444444,
              "#bd3786"
             ],
             [
              0.5555555555555556,
              "#d8576b"
             ],
             [
              0.6666666666666666,
              "#ed7953"
             ],
             [
              0.7777777777777778,
              "#fb9f3a"
             ],
             [
              0.8888888888888888,
              "#fdca26"
             ],
             [
              1,
              "#f0f921"
             ]
            ],
            "type": "heatmapgl"
           }
          ],
          "histogram": [
           {
            "marker": {
             "pattern": {
              "fillmode": "overlay",
              "size": 10,
              "solidity": 0.2
             }
            },
            "type": "histogram"
           }
          ],
          "histogram2d": [
           {
            "colorbar": {
             "outlinewidth": 0,
             "ticks": ""
            },
            "colorscale": [
             [
              0,
              "#0d0887"
             ],
             [
              0.1111111111111111,
              "#46039f"
             ],
             [
              0.2222222222222222,
              "#7201a8"
             ],
             [
              0.3333333333333333,
              "#9c179e"
             ],
             [
              0.4444444444444444,
              "#bd3786"
             ],
             [
              0.5555555555555556,
              "#d8576b"
             ],
             [
              0.6666666666666666,
              "#ed7953"
             ],
             [
              0.7777777777777778,
              "#fb9f3a"
             ],
             [
              0.8888888888888888,
              "#fdca26"
             ],
             [
              1,
              "#f0f921"
             ]
            ],
            "type": "histogram2d"
           }
          ],
          "histogram2dcontour": [
           {
            "colorbar": {
             "outlinewidth": 0,
             "ticks": ""
            },
            "colorscale": [
             [
              0,
              "#0d0887"
             ],
             [
              0.1111111111111111,
              "#46039f"
             ],
             [
              0.2222222222222222,
              "#7201a8"
             ],
             [
              0.3333333333333333,
              "#9c179e"
             ],
             [
              0.4444444444444444,
              "#bd3786"
             ],
             [
              0.5555555555555556,
              "#d8576b"
             ],
             [
              0.6666666666666666,
              "#ed7953"
             ],
             [
              0.7777777777777778,
              "#fb9f3a"
             ],
             [
              0.8888888888888888,
              "#fdca26"
             ],
             [
              1,
              "#f0f921"
             ]
            ],
            "type": "histogram2dcontour"
           }
          ],
          "mesh3d": [
           {
            "colorbar": {
             "outlinewidth": 0,
             "ticks": ""
            },
            "type": "mesh3d"
           }
          ],
          "parcoords": [
           {
            "line": {
             "colorbar": {
              "outlinewidth": 0,
              "ticks": ""
             }
            },
            "type": "parcoords"
           }
          ],
          "pie": [
           {
            "automargin": true,
            "type": "pie"
           }
          ],
          "scatter": [
           {
            "marker": {
             "colorbar": {
              "outlinewidth": 0,
              "ticks": ""
             }
            },
            "type": "scatter"
           }
          ],
          "scatter3d": [
           {
            "line": {
             "colorbar": {
              "outlinewidth": 0,
              "ticks": ""
             }
            },
            "marker": {
             "colorbar": {
              "outlinewidth": 0,
              "ticks": ""
             }
            },
            "type": "scatter3d"
           }
          ],
          "scattercarpet": [
           {
            "marker": {
             "colorbar": {
              "outlinewidth": 0,
              "ticks": ""
             }
            },
            "type": "scattercarpet"
           }
          ],
          "scattergeo": [
           {
            "marker": {
             "colorbar": {
              "outlinewidth": 0,
              "ticks": ""
             }
            },
            "type": "scattergeo"
           }
          ],
          "scattergl": [
           {
            "marker": {
             "colorbar": {
              "outlinewidth": 0,
              "ticks": ""
             }
            },
            "type": "scattergl"
           }
          ],
          "scattermapbox": [
           {
            "marker": {
             "colorbar": {
              "outlinewidth": 0,
              "ticks": ""
             }
            },
            "type": "scattermapbox"
           }
          ],
          "scatterpolar": [
           {
            "marker": {
             "colorbar": {
              "outlinewidth": 0,
              "ticks": ""
             }
            },
            "type": "scatterpolar"
           }
          ],
          "scatterpolargl": [
           {
            "marker": {
             "colorbar": {
              "outlinewidth": 0,
              "ticks": ""
             }
            },
            "type": "scatterpolargl"
           }
          ],
          "scatterternary": [
           {
            "marker": {
             "colorbar": {
              "outlinewidth": 0,
              "ticks": ""
             }
            },
            "type": "scatterternary"
           }
          ],
          "surface": [
           {
            "colorbar": {
             "outlinewidth": 0,
             "ticks": ""
            },
            "colorscale": [
             [
              0,
              "#0d0887"
             ],
             [
              0.1111111111111111,
              "#46039f"
             ],
             [
              0.2222222222222222,
              "#7201a8"
             ],
             [
              0.3333333333333333,
              "#9c179e"
             ],
             [
              0.4444444444444444,
              "#bd3786"
             ],
             [
              0.5555555555555556,
              "#d8576b"
             ],
             [
              0.6666666666666666,
              "#ed7953"
             ],
             [
              0.7777777777777778,
              "#fb9f3a"
             ],
             [
              0.8888888888888888,
              "#fdca26"
             ],
             [
              1,
              "#f0f921"
             ]
            ],
            "type": "surface"
           }
          ],
          "table": [
           {
            "cells": {
             "fill": {
              "color": "#EBF0F8"
             },
             "line": {
              "color": "white"
             }
            },
            "header": {
             "fill": {
              "color": "#C8D4E3"
             },
             "line": {
              "color": "white"
             }
            },
            "type": "table"
           }
          ]
         },
         "layout": {
          "annotationdefaults": {
           "arrowcolor": "#2a3f5f",
           "arrowhead": 0,
           "arrowwidth": 1
          },
          "autotypenumbers": "strict",
          "coloraxis": {
           "colorbar": {
            "outlinewidth": 0,
            "ticks": ""
           }
          },
          "colorscale": {
           "diverging": [
            [
             0,
             "#8e0152"
            ],
            [
             0.1,
             "#c51b7d"
            ],
            [
             0.2,
             "#de77ae"
            ],
            [
             0.3,
             "#f1b6da"
            ],
            [
             0.4,
             "#fde0ef"
            ],
            [
             0.5,
             "#f7f7f7"
            ],
            [
             0.6,
             "#e6f5d0"
            ],
            [
             0.7,
             "#b8e186"
            ],
            [
             0.8,
             "#7fbc41"
            ],
            [
             0.9,
             "#4d9221"
            ],
            [
             1,
             "#276419"
            ]
           ],
           "sequential": [
            [
             0,
             "#0d0887"
            ],
            [
             0.1111111111111111,
             "#46039f"
            ],
            [
             0.2222222222222222,
             "#7201a8"
            ],
            [
             0.3333333333333333,
             "#9c179e"
            ],
            [
             0.4444444444444444,
             "#bd3786"
            ],
            [
             0.5555555555555556,
             "#d8576b"
            ],
            [
             0.6666666666666666,
             "#ed7953"
            ],
            [
             0.7777777777777778,
             "#fb9f3a"
            ],
            [
             0.8888888888888888,
             "#fdca26"
            ],
            [
             1,
             "#f0f921"
            ]
           ],
           "sequentialminus": [
            [
             0,
             "#0d0887"
            ],
            [
             0.1111111111111111,
             "#46039f"
            ],
            [
             0.2222222222222222,
             "#7201a8"
            ],
            [
             0.3333333333333333,
             "#9c179e"
            ],
            [
             0.4444444444444444,
             "#bd3786"
            ],
            [
             0.5555555555555556,
             "#d8576b"
            ],
            [
             0.6666666666666666,
             "#ed7953"
            ],
            [
             0.7777777777777778,
             "#fb9f3a"
            ],
            [
             0.8888888888888888,
             "#fdca26"
            ],
            [
             1,
             "#f0f921"
            ]
           ]
          },
          "colorway": [
           "#636efa",
           "#EF553B",
           "#00cc96",
           "#ab63fa",
           "#FFA15A",
           "#19d3f3",
           "#FF6692",
           "#B6E880",
           "#FF97FF",
           "#FECB52"
          ],
          "font": {
           "color": "#2a3f5f"
          },
          "geo": {
           "bgcolor": "white",
           "lakecolor": "white",
           "landcolor": "#E5ECF6",
           "showlakes": true,
           "showland": true,
           "subunitcolor": "white"
          },
          "hoverlabel": {
           "align": "left"
          },
          "hovermode": "closest",
          "mapbox": {
           "style": "light"
          },
          "paper_bgcolor": "white",
          "plot_bgcolor": "#E5ECF6",
          "polar": {
           "angularaxis": {
            "gridcolor": "white",
            "linecolor": "white",
            "ticks": ""
           },
           "bgcolor": "#E5ECF6",
           "radialaxis": {
            "gridcolor": "white",
            "linecolor": "white",
            "ticks": ""
           }
          },
          "scene": {
           "xaxis": {
            "backgroundcolor": "#E5ECF6",
            "gridcolor": "white",
            "gridwidth": 2,
            "linecolor": "white",
            "showbackground": true,
            "ticks": "",
            "zerolinecolor": "white"
           },
           "yaxis": {
            "backgroundcolor": "#E5ECF6",
            "gridcolor": "white",
            "gridwidth": 2,
            "linecolor": "white",
            "showbackground": true,
            "ticks": "",
            "zerolinecolor": "white"
           },
           "zaxis": {
            "backgroundcolor": "#E5ECF6",
            "gridcolor": "white",
            "gridwidth": 2,
            "linecolor": "white",
            "showbackground": true,
            "ticks": "",
            "zerolinecolor": "white"
           }
          },
          "shapedefaults": {
           "line": {
            "color": "#2a3f5f"
           }
          },
          "ternary": {
           "aaxis": {
            "gridcolor": "white",
            "linecolor": "white",
            "ticks": ""
           },
           "baxis": {
            "gridcolor": "white",
            "linecolor": "white",
            "ticks": ""
           },
           "bgcolor": "#E5ECF6",
           "caxis": {
            "gridcolor": "white",
            "linecolor": "white",
            "ticks": ""
           }
          },
          "title": {
           "x": 0.05
          },
          "xaxis": {
           "automargin": true,
           "gridcolor": "white",
           "linecolor": "white",
           "ticks": "",
           "title": {
            "standoff": 15
           },
           "zerolinecolor": "white",
           "zerolinewidth": 2
          },
          "yaxis": {
           "automargin": true,
           "gridcolor": "white",
           "linecolor": "white",
           "ticks": "",
           "title": {
            "standoff": 15
           },
           "zerolinecolor": "white",
           "zerolinewidth": 2
          }
         }
        },
        "title": {
         "text": "Calinski Harabasz score (n cluster = 20)"
        },
        "width": 1400,
        "xaxis": {
         "anchor": "y",
         "domain": [
          0,
          1
         ],
         "title": {
          "text": "index"
         }
        },
        "yaxis": {
         "anchor": "x",
         "domain": [
          0,
          1
         ],
         "title": {
          "text": "20"
         }
        }
       }
      }
     },
     "metadata": {},
     "output_type": "display_data"
    }
   ],
   "source": [
    " n_cluster = 20\n",
    " title = \"Calinski Harabasz score (n cluster = \"+str(n_cluster)+')'\n",
    " px.bar(df_metrics_transposed.reset_index().iloc[1::3], x=\"index\", y=n_cluster,width=1400,height=600,title=title)"
   ]
  },
  {
   "cell_type": "code",
   "execution_count": 10,
   "metadata": {},
   "outputs": [
    {
     "data": {
      "application/vnd.plotly.v1+json": {
       "config": {
        "plotlyServerURL": "https://plot.ly"
       },
       "data": [
        {
         "alignmentgroup": "True",
         "hovertemplate": "index=%{x}<br>20=%{y}<extra></extra>",
         "legendgroup": "",
         "marker": {
          "color": "#636efa",
          "pattern": {
           "shape": ""
          }
         },
         "name": "",
         "offsetgroup": "",
         "orientation": "v",
         "showlegend": false,
         "textposition": "auto",
         "type": "bar",
         "x": [
          "Davies Bouldin score Kmeans",
          "Davies Bouldin score Hierarchical Agglomerative",
          "Davies Bouldin score Affinity propagation",
          "Davies Bouldin score Fuzzy",
          "Davies Bouldin score Som5x5",
          "Davies Bouldin score Som4x4",
          "Davies Bouldin score Som3x3"
         ],
         "xaxis": "x",
         "y": [
          0.908027431464823,
          0.957840316327739,
          0.91698393580149,
          1.64041321369399,
          "n.a.",
          "n.a.",
          "n.a."
         ],
         "yaxis": "y"
        }
       ],
       "layout": {
        "barmode": "relative",
        "height": 600,
        "legend": {
         "tracegroupgap": 0
        },
        "template": {
         "data": {
          "bar": [
           {
            "error_x": {
             "color": "#2a3f5f"
            },
            "error_y": {
             "color": "#2a3f5f"
            },
            "marker": {
             "line": {
              "color": "#E5ECF6",
              "width": 0.5
             },
             "pattern": {
              "fillmode": "overlay",
              "size": 10,
              "solidity": 0.2
             }
            },
            "type": "bar"
           }
          ],
          "barpolar": [
           {
            "marker": {
             "line": {
              "color": "#E5ECF6",
              "width": 0.5
             },
             "pattern": {
              "fillmode": "overlay",
              "size": 10,
              "solidity": 0.2
             }
            },
            "type": "barpolar"
           }
          ],
          "carpet": [
           {
            "aaxis": {
             "endlinecolor": "#2a3f5f",
             "gridcolor": "white",
             "linecolor": "white",
             "minorgridcolor": "white",
             "startlinecolor": "#2a3f5f"
            },
            "baxis": {
             "endlinecolor": "#2a3f5f",
             "gridcolor": "white",
             "linecolor": "white",
             "minorgridcolor": "white",
             "startlinecolor": "#2a3f5f"
            },
            "type": "carpet"
           }
          ],
          "choropleth": [
           {
            "colorbar": {
             "outlinewidth": 0,
             "ticks": ""
            },
            "type": "choropleth"
           }
          ],
          "contour": [
           {
            "colorbar": {
             "outlinewidth": 0,
             "ticks": ""
            },
            "colorscale": [
             [
              0,
              "#0d0887"
             ],
             [
              0.1111111111111111,
              "#46039f"
             ],
             [
              0.2222222222222222,
              "#7201a8"
             ],
             [
              0.3333333333333333,
              "#9c179e"
             ],
             [
              0.4444444444444444,
              "#bd3786"
             ],
             [
              0.5555555555555556,
              "#d8576b"
             ],
             [
              0.6666666666666666,
              "#ed7953"
             ],
             [
              0.7777777777777778,
              "#fb9f3a"
             ],
             [
              0.8888888888888888,
              "#fdca26"
             ],
             [
              1,
              "#f0f921"
             ]
            ],
            "type": "contour"
           }
          ],
          "contourcarpet": [
           {
            "colorbar": {
             "outlinewidth": 0,
             "ticks": ""
            },
            "type": "contourcarpet"
           }
          ],
          "heatmap": [
           {
            "colorbar": {
             "outlinewidth": 0,
             "ticks": ""
            },
            "colorscale": [
             [
              0,
              "#0d0887"
             ],
             [
              0.1111111111111111,
              "#46039f"
             ],
             [
              0.2222222222222222,
              "#7201a8"
             ],
             [
              0.3333333333333333,
              "#9c179e"
             ],
             [
              0.4444444444444444,
              "#bd3786"
             ],
             [
              0.5555555555555556,
              "#d8576b"
             ],
             [
              0.6666666666666666,
              "#ed7953"
             ],
             [
              0.7777777777777778,
              "#fb9f3a"
             ],
             [
              0.8888888888888888,
              "#fdca26"
             ],
             [
              1,
              "#f0f921"
             ]
            ],
            "type": "heatmap"
           }
          ],
          "heatmapgl": [
           {
            "colorbar": {
             "outlinewidth": 0,
             "ticks": ""
            },
            "colorscale": [
             [
              0,
              "#0d0887"
             ],
             [
              0.1111111111111111,
              "#46039f"
             ],
             [
              0.2222222222222222,
              "#7201a8"
             ],
             [
              0.3333333333333333,
              "#9c179e"
             ],
             [
              0.4444444444444444,
              "#bd3786"
             ],
             [
              0.5555555555555556,
              "#d8576b"
             ],
             [
              0.6666666666666666,
              "#ed7953"
             ],
             [
              0.7777777777777778,
              "#fb9f3a"
             ],
             [
              0.8888888888888888,
              "#fdca26"
             ],
             [
              1,
              "#f0f921"
             ]
            ],
            "type": "heatmapgl"
           }
          ],
          "histogram": [
           {
            "marker": {
             "pattern": {
              "fillmode": "overlay",
              "size": 10,
              "solidity": 0.2
             }
            },
            "type": "histogram"
           }
          ],
          "histogram2d": [
           {
            "colorbar": {
             "outlinewidth": 0,
             "ticks": ""
            },
            "colorscale": [
             [
              0,
              "#0d0887"
             ],
             [
              0.1111111111111111,
              "#46039f"
             ],
             [
              0.2222222222222222,
              "#7201a8"
             ],
             [
              0.3333333333333333,
              "#9c179e"
             ],
             [
              0.4444444444444444,
              "#bd3786"
             ],
             [
              0.5555555555555556,
              "#d8576b"
             ],
             [
              0.6666666666666666,
              "#ed7953"
             ],
             [
              0.7777777777777778,
              "#fb9f3a"
             ],
             [
              0.8888888888888888,
              "#fdca26"
             ],
             [
              1,
              "#f0f921"
             ]
            ],
            "type": "histogram2d"
           }
          ],
          "histogram2dcontour": [
           {
            "colorbar": {
             "outlinewidth": 0,
             "ticks": ""
            },
            "colorscale": [
             [
              0,
              "#0d0887"
             ],
             [
              0.1111111111111111,
              "#46039f"
             ],
             [
              0.2222222222222222,
              "#7201a8"
             ],
             [
              0.3333333333333333,
              "#9c179e"
             ],
             [
              0.4444444444444444,
              "#bd3786"
             ],
             [
              0.5555555555555556,
              "#d8576b"
             ],
             [
              0.6666666666666666,
              "#ed7953"
             ],
             [
              0.7777777777777778,
              "#fb9f3a"
             ],
             [
              0.8888888888888888,
              "#fdca26"
             ],
             [
              1,
              "#f0f921"
             ]
            ],
            "type": "histogram2dcontour"
           }
          ],
          "mesh3d": [
           {
            "colorbar": {
             "outlinewidth": 0,
             "ticks": ""
            },
            "type": "mesh3d"
           }
          ],
          "parcoords": [
           {
            "line": {
             "colorbar": {
              "outlinewidth": 0,
              "ticks": ""
             }
            },
            "type": "parcoords"
           }
          ],
          "pie": [
           {
            "automargin": true,
            "type": "pie"
           }
          ],
          "scatter": [
           {
            "marker": {
             "colorbar": {
              "outlinewidth": 0,
              "ticks": ""
             }
            },
            "type": "scatter"
           }
          ],
          "scatter3d": [
           {
            "line": {
             "colorbar": {
              "outlinewidth": 0,
              "ticks": ""
             }
            },
            "marker": {
             "colorbar": {
              "outlinewidth": 0,
              "ticks": ""
             }
            },
            "type": "scatter3d"
           }
          ],
          "scattercarpet": [
           {
            "marker": {
             "colorbar": {
              "outlinewidth": 0,
              "ticks": ""
             }
            },
            "type": "scattercarpet"
           }
          ],
          "scattergeo": [
           {
            "marker": {
             "colorbar": {
              "outlinewidth": 0,
              "ticks": ""
             }
            },
            "type": "scattergeo"
           }
          ],
          "scattergl": [
           {
            "marker": {
             "colorbar": {
              "outlinewidth": 0,
              "ticks": ""
             }
            },
            "type": "scattergl"
           }
          ],
          "scattermapbox": [
           {
            "marker": {
             "colorbar": {
              "outlinewidth": 0,
              "ticks": ""
             }
            },
            "type": "scattermapbox"
           }
          ],
          "scatterpolar": [
           {
            "marker": {
             "colorbar": {
              "outlinewidth": 0,
              "ticks": ""
             }
            },
            "type": "scatterpolar"
           }
          ],
          "scatterpolargl": [
           {
            "marker": {
             "colorbar": {
              "outlinewidth": 0,
              "ticks": ""
             }
            },
            "type": "scatterpolargl"
           }
          ],
          "scatterternary": [
           {
            "marker": {
             "colorbar": {
              "outlinewidth": 0,
              "ticks": ""
             }
            },
            "type": "scatterternary"
           }
          ],
          "surface": [
           {
            "colorbar": {
             "outlinewidth": 0,
             "ticks": ""
            },
            "colorscale": [
             [
              0,
              "#0d0887"
             ],
             [
              0.1111111111111111,
              "#46039f"
             ],
             [
              0.2222222222222222,
              "#7201a8"
             ],
             [
              0.3333333333333333,
              "#9c179e"
             ],
             [
              0.4444444444444444,
              "#bd3786"
             ],
             [
              0.5555555555555556,
              "#d8576b"
             ],
             [
              0.6666666666666666,
              "#ed7953"
             ],
             [
              0.7777777777777778,
              "#fb9f3a"
             ],
             [
              0.8888888888888888,
              "#fdca26"
             ],
             [
              1,
              "#f0f921"
             ]
            ],
            "type": "surface"
           }
          ],
          "table": [
           {
            "cells": {
             "fill": {
              "color": "#EBF0F8"
             },
             "line": {
              "color": "white"
             }
            },
            "header": {
             "fill": {
              "color": "#C8D4E3"
             },
             "line": {
              "color": "white"
             }
            },
            "type": "table"
           }
          ]
         },
         "layout": {
          "annotationdefaults": {
           "arrowcolor": "#2a3f5f",
           "arrowhead": 0,
           "arrowwidth": 1
          },
          "autotypenumbers": "strict",
          "coloraxis": {
           "colorbar": {
            "outlinewidth": 0,
            "ticks": ""
           }
          },
          "colorscale": {
           "diverging": [
            [
             0,
             "#8e0152"
            ],
            [
             0.1,
             "#c51b7d"
            ],
            [
             0.2,
             "#de77ae"
            ],
            [
             0.3,
             "#f1b6da"
            ],
            [
             0.4,
             "#fde0ef"
            ],
            [
             0.5,
             "#f7f7f7"
            ],
            [
             0.6,
             "#e6f5d0"
            ],
            [
             0.7,
             "#b8e186"
            ],
            [
             0.8,
             "#7fbc41"
            ],
            [
             0.9,
             "#4d9221"
            ],
            [
             1,
             "#276419"
            ]
           ],
           "sequential": [
            [
             0,
             "#0d0887"
            ],
            [
             0.1111111111111111,
             "#46039f"
            ],
            [
             0.2222222222222222,
             "#7201a8"
            ],
            [
             0.3333333333333333,
             "#9c179e"
            ],
            [
             0.4444444444444444,
             "#bd3786"
            ],
            [
             0.5555555555555556,
             "#d8576b"
            ],
            [
             0.6666666666666666,
             "#ed7953"
            ],
            [
             0.7777777777777778,
             "#fb9f3a"
            ],
            [
             0.8888888888888888,
             "#fdca26"
            ],
            [
             1,
             "#f0f921"
            ]
           ],
           "sequentialminus": [
            [
             0,
             "#0d0887"
            ],
            [
             0.1111111111111111,
             "#46039f"
            ],
            [
             0.2222222222222222,
             "#7201a8"
            ],
            [
             0.3333333333333333,
             "#9c179e"
            ],
            [
             0.4444444444444444,
             "#bd3786"
            ],
            [
             0.5555555555555556,
             "#d8576b"
            ],
            [
             0.6666666666666666,
             "#ed7953"
            ],
            [
             0.7777777777777778,
             "#fb9f3a"
            ],
            [
             0.8888888888888888,
             "#fdca26"
            ],
            [
             1,
             "#f0f921"
            ]
           ]
          },
          "colorway": [
           "#636efa",
           "#EF553B",
           "#00cc96",
           "#ab63fa",
           "#FFA15A",
           "#19d3f3",
           "#FF6692",
           "#B6E880",
           "#FF97FF",
           "#FECB52"
          ],
          "font": {
           "color": "#2a3f5f"
          },
          "geo": {
           "bgcolor": "white",
           "lakecolor": "white",
           "landcolor": "#E5ECF6",
           "showlakes": true,
           "showland": true,
           "subunitcolor": "white"
          },
          "hoverlabel": {
           "align": "left"
          },
          "hovermode": "closest",
          "mapbox": {
           "style": "light"
          },
          "paper_bgcolor": "white",
          "plot_bgcolor": "#E5ECF6",
          "polar": {
           "angularaxis": {
            "gridcolor": "white",
            "linecolor": "white",
            "ticks": ""
           },
           "bgcolor": "#E5ECF6",
           "radialaxis": {
            "gridcolor": "white",
            "linecolor": "white",
            "ticks": ""
           }
          },
          "scene": {
           "xaxis": {
            "backgroundcolor": "#E5ECF6",
            "gridcolor": "white",
            "gridwidth": 2,
            "linecolor": "white",
            "showbackground": true,
            "ticks": "",
            "zerolinecolor": "white"
           },
           "yaxis": {
            "backgroundcolor": "#E5ECF6",
            "gridcolor": "white",
            "gridwidth": 2,
            "linecolor": "white",
            "showbackground": true,
            "ticks": "",
            "zerolinecolor": "white"
           },
           "zaxis": {
            "backgroundcolor": "#E5ECF6",
            "gridcolor": "white",
            "gridwidth": 2,
            "linecolor": "white",
            "showbackground": true,
            "ticks": "",
            "zerolinecolor": "white"
           }
          },
          "shapedefaults": {
           "line": {
            "color": "#2a3f5f"
           }
          },
          "ternary": {
           "aaxis": {
            "gridcolor": "white",
            "linecolor": "white",
            "ticks": ""
           },
           "baxis": {
            "gridcolor": "white",
            "linecolor": "white",
            "ticks": ""
           },
           "bgcolor": "#E5ECF6",
           "caxis": {
            "gridcolor": "white",
            "linecolor": "white",
            "ticks": ""
           }
          },
          "title": {
           "x": 0.05
          },
          "xaxis": {
           "automargin": true,
           "gridcolor": "white",
           "linecolor": "white",
           "ticks": "",
           "title": {
            "standoff": 15
           },
           "zerolinecolor": "white",
           "zerolinewidth": 2
          },
          "yaxis": {
           "automargin": true,
           "gridcolor": "white",
           "linecolor": "white",
           "ticks": "",
           "title": {
            "standoff": 15
           },
           "zerolinecolor": "white",
           "zerolinewidth": 2
          }
         }
        },
        "title": {
         "text": "Davies Bouldin score (n cluster = 20)"
        },
        "width": 1400,
        "xaxis": {
         "anchor": "y",
         "domain": [
          0,
          1
         ],
         "title": {
          "text": "index"
         }
        },
        "yaxis": {
         "anchor": "x",
         "domain": [
          0,
          1
         ],
         "title": {
          "text": "20"
         }
        }
       }
      }
     },
     "metadata": {},
     "output_type": "display_data"
    }
   ],
   "source": [
    "n_cluster = 20\n",
    "title = \"Davies Bouldin score (n cluster = \"+str(n_cluster)+')'\n",
    "px.bar(df_metrics_transposed.reset_index().iloc[2::3], x=\"index\", y=n_cluster,width=1400,height=600,title=title)"
   ]
  },
  {
   "cell_type": "code",
   "execution_count": 11,
   "metadata": {},
   "outputs": [],
   "source": [
    "for i in range(2,31):\n",
    "    path = \"Clustering_metrics/\"+\"n cluster = \"+str(i)\n",
    "    os.makedirs(path, exist_ok=True)\n",
    "    n_cluster = i\n",
    "    title_1 = \"Silhouette score (n cluster = \"+str(n_cluster)+')'\n",
    "    fig_1 = px.bar(df_metrics_transposed.reset_index().iloc[0::3], x=\"index\", y=n_cluster,width=1400,height=600,title=title_1)\n",
    "    title_2 = \"Calinski Harabasz score (n cluster = \"+str(n_cluster)+')'\n",
    "    fig_2 = px.bar(df_metrics_transposed.reset_index().iloc[1::3], x=\"index\", y=n_cluster,width=1400,height=600,title=title_2)\n",
    "    title_3 = \"Davies Bouldin score (n cluster = \"+str(n_cluster)+')'\n",
    "    fig_3 = px.bar(df_metrics_transposed.reset_index().iloc[2::3], x=\"index\", y=n_cluster,width=1400,height=600,title=title_3)\n",
    "    fig_1.write_html(path+\"/\"+title_1+\".html\")\n",
    "    fig_2.write_html(path+\"/\"+title_2+\".html\")\n",
    "    fig_3.write_html(path+\"/\"+title_3+\".html\")"
   ]
  },
  {
   "cell_type": "code",
   "execution_count": 12,
   "metadata": {},
   "outputs": [],
   "source": [
    "path = \"Clustering_metrics/\"+\"Metrics by n cluster\"\n",
    "os.makedirs(path, exist_ok=True)\n",
    "for col in df_metrics.columns:\n",
    "    title = col\n",
    "    fig = px.bar(df_metrics, y=col,width=1200,height=600,title=title)\n",
    "    fig.write_html(path+\"/\"+title+\".html\")"
   ]
  }
 ],
 "metadata": {
  "interpreter": {
   "hash": "916dbcbb3f70747c44a77c7bcd40155683ae19c65e1c03b4aa3499c5328201f1"
  },
  "kernelspec": {
   "display_name": "Python 3.8.10 64-bit",
   "language": "python",
   "name": "python3"
  },
  "language_info": {
   "codemirror_mode": {
    "name": "ipython",
    "version": 3
   },
   "file_extension": ".py",
   "mimetype": "text/x-python",
   "name": "python",
   "nbconvert_exporter": "python",
   "pygments_lexer": "ipython3",
   "version": "3.8.10"
  },
  "orig_nbformat": 4
 },
 "nbformat": 4,
 "nbformat_minor": 2
}
